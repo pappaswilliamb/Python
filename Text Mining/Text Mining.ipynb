{
 "cells": [
  {
   "cell_type": "markdown",
   "metadata": {},
   "source": [
    "# Text Analytics and Mining\n",
    "\n",
    "- Unstructured text data is being generated all the time\n",
    "\n",
    "- Text analytics / Text mining involves techniques and algorithms for analyzing text\n",
    "\n",
    "- Traditional data mining techniques may be used if text is converted to numerical vectors\n"
   ]
  },
  {
   "cell_type": "markdown",
   "metadata": {},
   "source": [
    "## Key Techniques\n",
    "- NLTK: stemming, stopwords, punctuation, top words\n",
    "- WordCloud: visualization\n",
    "- TF-IDF Vectorizer with sklearn\n",
    "- Topic Modeling with gensim\n",
    "- Sentiment analysis with TextBlob"
   ]
  },
  {
   "cell_type": "markdown",
   "metadata": {},
   "source": [
    "### Fig. Text Mining Process"
   ]
  },
  {
   "cell_type": "markdown",
   "metadata": {},
   "source": [
    "# 1. Text Preprocessing with NLTK (Natural Language Toolkit)\n",
    "\n",
    "To properly use NLTK, you need to download various text corpa by running:\n",
    "- import nltk\n",
    "- nltk.download()\n",
    "\n",
    "Otherwise, you may see error messages."
   ]
  },
  {
   "cell_type": "code",
   "execution_count": null,
   "metadata": {},
   "outputs": [],
   "source": [
    "!pip install --upgrade nltk\n",
    "!conda install nltk\n",
    "!conda list"
   ]
  },
  {
   "cell_type": "code",
   "execution_count": null,
   "metadata": {},
   "outputs": [],
   "source": [
    "!pip install nltk"
   ]
  },
  {
   "cell_type": "code",
   "execution_count": null,
   "metadata": {},
   "outputs": [],
   "source": [
    "import nltk"
   ]
  },
  {
   "cell_type": "code",
   "execution_count": null,
   "metadata": {},
   "outputs": [],
   "source": [
    "nltk.download()"
   ]
  },
  {
   "cell_type": "markdown",
   "metadata": {},
   "source": [
    "## (1) Removing Punctuations & Nomalization"
   ]
  },
  {
   "cell_type": "code",
   "execution_count": 2,
   "metadata": {},
   "outputs": [],
   "source": [
    "s = \"Hello!! 2019 was great, isn't it? So is 2020!!!\""
   ]
  },
  {
   "cell_type": "code",
   "execution_count": 3,
   "metadata": {},
   "outputs": [
    {
     "name": "stdout",
     "output_type": "stream",
     "text": [
      "!\"#$%&'()*+,-./:;<=>?@[\\]^_`{|}~\n"
     ]
    }
   ],
   "source": [
    "import string \n",
    "p = string.punctuation\n",
    "print(p)"
   ]
  },
  {
   "cell_type": "markdown",
   "metadata": {},
   "source": [
    "> **maketrans(< intabstring >, < outtabstring >)** returns a translation table that maps each character in the intabstring into the character at the same position in the outtab string. \n",
    ">\n",
    "> Then this table is passed to the translate() function."
   ]
  },
  {
   "cell_type": "code",
   "execution_count": 4,
   "metadata": {},
   "outputs": [],
   "source": [
    "p_out = len(p) * \" \""
   ]
  },
  {
   "cell_type": "code",
   "execution_count": 5,
   "metadata": {},
   "outputs": [
    {
     "data": {
      "text/plain": [
       "'                                '"
      ]
     },
     "execution_count": 5,
     "metadata": {},
     "output_type": "execute_result"
    }
   ],
   "source": [
    "p_out"
   ]
  },
  {
   "cell_type": "code",
   "execution_count": 6,
   "metadata": {},
   "outputs": [
    {
     "data": {
      "text/plain": [
       "{33: 32,\n",
       " 34: 32,\n",
       " 35: 32,\n",
       " 36: 32,\n",
       " 37: 32,\n",
       " 38: 32,\n",
       " 39: 32,\n",
       " 40: 32,\n",
       " 41: 32,\n",
       " 42: 32,\n",
       " 43: 32,\n",
       " 44: 32,\n",
       " 45: 32,\n",
       " 46: 32,\n",
       " 47: 32,\n",
       " 58: 32,\n",
       " 59: 32,\n",
       " 60: 32,\n",
       " 61: 32,\n",
       " 62: 32,\n",
       " 63: 32,\n",
       " 64: 32,\n",
       " 91: 32,\n",
       " 92: 32,\n",
       " 93: 32,\n",
       " 94: 32,\n",
       " 95: 32,\n",
       " 96: 32,\n",
       " 123: 32,\n",
       " 124: 32,\n",
       " 125: 32,\n",
       " 126: 32}"
      ]
     },
     "execution_count": 6,
     "metadata": {},
     "output_type": "execute_result"
    }
   ],
   "source": [
    "table_p = str.maketrans(p, p_out)\n",
    "table_p"
   ]
  },
  {
   "cell_type": "code",
   "execution_count": 7,
   "metadata": {},
   "outputs": [
    {
     "data": {
      "text/plain": [
       "'hello   2019 was great  isn t it  so is 2020   '"
      ]
     },
     "execution_count": 7,
     "metadata": {},
     "output_type": "execute_result"
    }
   ],
   "source": [
    "s.translate(table_p).lower()"
   ]
  },
  {
   "cell_type": "markdown",
   "metadata": {},
   "source": [
    "## (2) Stemming & Lemmatization"
   ]
  },
  {
   "cell_type": "markdown",
   "metadata": {},
   "source": [
    "- Stemming is the process for reducing inflected (or sometimes derived) words to their stem, base or root form—generally a written word form. \n",
    "- Lemmatisation (or lemmatization) in linguistics, is the process of grouping together the different inflected forms of a word so they can be analysed as a single item.\n",
    "- Lemmatisation is closely related to stemming. The difference is that a stemmer operates on a single word without knowledge of the context, and therefore cannot discriminate between words which have different meanings depending on part of speech. However, stemmers are typically easier to implement and run faster, and the reduced accuracy may not matter for some applications."
   ]
  },
  {
   "cell_type": "code",
   "execution_count": 8,
   "metadata": {},
   "outputs": [],
   "source": [
    "from nltk.stem.lancaster import LancasterStemmer\n",
    "ls = LancasterStemmer()\n",
    "\n",
    "from nltk.stem.porter import PorterStemmer\n",
    "ps = PorterStemmer()\n",
    "\n",
    "from nltk.stem.snowball import SnowballStemmer\n",
    "ss = SnowballStemmer(\"english\") \n",
    "\n",
    "from nltk.stem import WordNetLemmatizer\n",
    "wnl = WordNetLemmatizer()"
   ]
  },
  {
   "cell_type": "code",
   "execution_count": 9,
   "metadata": {},
   "outputs": [
    {
     "data": {
      "text/plain": [
       "'say'"
      ]
     },
     "execution_count": 9,
     "metadata": {},
     "output_type": "execute_result"
    }
   ],
   "source": [
    "ps.stem('says')"
   ]
  },
  {
   "cell_type": "code",
   "execution_count": 10,
   "metadata": {},
   "outputs": [],
   "source": [
    "words = ['string', 'bringing', 'maximum', 'roughly', 'would',\n",
    "         'multiply', 'provision', 'saying', 'saw', 'dogs', 'churches']"
   ]
  },
  {
   "cell_type": "code",
   "execution_count": 13,
   "metadata": {},
   "outputs": [
    {
     "name": "stdout",
     "output_type": "stream",
     "text": [
      "Word: string\tLancaster: string\tPorter: string\tSnowball: string\tWordNet: string\n",
      "Word: bringing\tLancaster: bring\tPorter: bring\tSnowball: bring\tWordNet: bringing\n",
      "Word: maximum\tLancaster: maxim\tPorter: maximum\tSnowball: maximum\tWordNet: maximum\n",
      "Word: roughly\tLancaster: rough\tPorter: roughli\tSnowball: rough\tWordNet: roughly\n",
      "Word: would\tLancaster: would\tPorter: would\tSnowball: would\tWordNet: would\n",
      "Word: multiply\tLancaster: multiply\tPorter: multipli\tSnowball: multipli\tWordNet: multiply\n",
      "Word: provision\tLancaster: provid\tPorter: provis\tSnowball: provis\tWordNet: provision\n",
      "Word: saying\tLancaster: say\tPorter: say\tSnowball: say\tWordNet: saying\n",
      "Word: saw\tLancaster: saw\tPorter: saw\tSnowball: saw\tWordNet: saw\n",
      "Word: dogs\tLancaster: dog\tPorter: dog\tSnowball: dog\tWordNet: dog\n",
      "Word: churches\tLancaster: church\tPorter: church\tSnowball: church\tWordNet: church\n"
     ]
    }
   ],
   "source": [
    "for word in words:\n",
    "    print('Word: {}\\tLancaster: {}\\tPorter: {}\\tSnowball: {}\\tWordNet: {}'.format(word, ls.stem(word), ps.stem(word), ss.stem(word), wnl.lemmatize(word)))"
   ]
  },
  {
   "cell_type": "markdown",
   "metadata": {},
   "source": [
    "## (3) Removing Stopwords"
   ]
  },
  {
   "cell_type": "code",
   "execution_count": 14,
   "metadata": {},
   "outputs": [],
   "source": [
    "# Create a List of Words\n",
    "infile = open('frankenstein.txt')\n",
    "words = infile.read().lower().split() # Normalization\n",
    "infile.close()"
   ]
  },
  {
   "cell_type": "markdown",
   "metadata": {},
   "source": [
    "> ***nltk.FreqDist( ):*** A frequency distribution for the outcomes of an experiment. Formally, a frequency distribution can be defined as a function mapping from each sample to the number of times that sample occurred as an outcome. For example, it will produce a frequency distribution that encodes how often each word occurs in a text.\n",
    ">\n",
    "> http://www.nltk.org/api/nltk.html?highlight=freqdist#nltk.probability.FreqDist"
   ]
  },
  {
   "cell_type": "code",
   "execution_count": 15,
   "metadata": {},
   "outputs": [
    {
     "data": {
      "text/plain": [
       "FreqDist({'the': 4196, 'and': 2976, 'i': 2847, 'of': 2643, 'to': 2094, 'my': 1777, 'a': 1391, 'in': 1129, 'was': 1021, 'that': 1018, ...})"
      ]
     },
     "execution_count": 15,
     "metadata": {},
     "output_type": "execute_result"
    }
   ],
   "source": [
    "# Get Frequent Words\n",
    "freq = nltk.FreqDist(words)\n",
    "freq"
   ]
  },
  {
   "cell_type": "code",
   "execution_count": 16,
   "metadata": {},
   "outputs": [
    {
     "data": {
      "text/plain": [
       "28"
      ]
     },
     "execution_count": 16,
     "metadata": {},
     "output_type": "execute_result"
    }
   ],
   "source": [
    "freq['frankenstein']"
   ]
  },
  {
   "cell_type": "code",
   "execution_count": 17,
   "metadata": {},
   "outputs": [
    {
     "data": {
      "image/png": "[encoded data removed]",
      "text/plain": [
       "<Figure size 432x288 with 1 Axes>"
      ]
     },
     "metadata": {
      "needs_background": "light"
     },
     "output_type": "display_data"
    },
    {
     "data": {
      "text/plain": [
       "<AxesSubplot:xlabel='Samples', ylabel='Counts'>"
      ]
     },
     "execution_count": 17,
     "metadata": {},
     "output_type": "execute_result"
    }
   ],
   "source": [
    "# Get a Plot of the Top 10 Most Frequent Words\n",
    "%matplotlib inline\n",
    "freq.plot(10)"
   ]
  },
  {
   "cell_type": "markdown",
   "metadata": {},
   "source": [
    "> ***Most of them are stopwords... We need to remove stopwords...***"
   ]
  },
  {
   "cell_type": "code",
   "execution_count": 20,
   "metadata": {
    "scrolled": true
   },
   "outputs": [
    {
     "name": "stdout",
     "output_type": "stream",
     "text": [
      "<class 'list'>\n",
      "179\n",
      "['i', 'me', 'my', 'myself', 'we', 'our', 'ours', 'ourselves', 'you', \"you're\", \"you've\", \"you'll\", \"you'd\", 'your', 'yours', 'yourself', 'yourselves', 'he', 'him', 'his', 'himself', 'she', \"she's\", 'her', 'hers', 'herself', 'it', \"it's\", 'its', 'itself', 'they', 'them', 'their', 'theirs', 'themselves', 'what', 'which', 'who', 'whom', 'this', 'that', \"that'll\", 'these', 'those', 'am', 'is', 'are', 'was', 'were', 'be', 'been', 'being', 'have', 'has', 'had', 'having', 'do', 'does', 'did', 'doing', 'a', 'an', 'the', 'and', 'but', 'if', 'or', 'because', 'as', 'until', 'while', 'of', 'at', 'by', 'for', 'with', 'about', 'against', 'between', 'into', 'through', 'during', 'before', 'after', 'above', 'below', 'to', 'from', 'up', 'down', 'in', 'out', 'on', 'off', 'over', 'under', 'again', 'further', 'then', 'once', 'here', 'there', 'when', 'where', 'why', 'how', 'all', 'any', 'both', 'each', 'few', 'more', 'most', 'other', 'some', 'such', 'no', 'nor', 'not', 'only', 'own', 'same', 'so', 'than', 'too', 'very', 's', 't', 'can', 'will', 'just', 'don', \"don't\", 'should', \"should've\", 'now', 'd', 'll', 'm', 'o', 're', 've', 'y', 'ain', 'aren', \"aren't\", 'couldn', \"couldn't\", 'didn', \"didn't\", 'doesn', \"doesn't\", 'hadn', \"hadn't\", 'hasn', \"hasn't\", 'haven', \"haven't\", 'isn', \"isn't\", 'ma', 'mightn', \"mightn't\", 'mustn', \"mustn't\", 'needn', \"needn't\", 'shan', \"shan't\", 'shouldn', \"shouldn't\", 'wasn', \"wasn't\", 'weren', \"weren't\", 'won', \"won't\", 'wouldn', \"wouldn't\"]\n"
     ]
    }
   ],
   "source": [
    "stopwords = nltk.corpus.stopwords.words('english')\n",
    "\n",
    "print(type(stopwords))\n",
    "print(len(stopwords))\n",
    "print(stopwords)"
   ]
  },
  {
   "cell_type": "code",
   "execution_count": 21,
   "metadata": {},
   "outputs": [
    {
     "name": "stdout",
     "output_type": "stream",
     "text": [
      "['i', 'me', 'my', 'myself', 'we', 'our', 'ours', 'ourselves', 'you', \"you're\", \"you've\", \"you'll\", \"you'd\", 'your', 'yours', 'yourself', 'yourselves', 'he', 'him', 'his', 'himself', 'she', \"she's\", 'her', 'hers', 'herself', 'it', \"it's\", 'its', 'itself', 'they', 'them', 'their', 'theirs', 'themselves', 'what', 'which', 'who', 'whom', 'this', 'that', \"that'll\", 'these', 'those', 'am', 'is', 'are', 'was', 'were', 'be', 'been', 'being', 'have', 'has', 'had', 'having', 'do', 'does', 'did', 'doing', 'a', 'an', 'the', 'and', 'but', 'if', 'or', 'because', 'as', 'until', 'while', 'of', 'at', 'by', 'for', 'with', 'about', 'against', 'between', 'into', 'through', 'during', 'before', 'after', 'above', 'below', 'to', 'from', 'up', 'down', 'in', 'out', 'on', 'off', 'over', 'under', 'again', 'further', 'then', 'once', 'here', 'there', 'when', 'where', 'why', 'how', 'all', 'any', 'both', 'each', 'few', 'more', 'most', 'other', 'some', 'such', 'no', 'nor', 'not', 'only', 'own', 'same', 'so', 'than', 'too', 'very', 's', 't', 'can', 'will', 'just', 'don', \"don't\", 'should', \"should've\", 'now', 'd', 'll', 'm', 'o', 're', 've', 'y', 'ain', 'aren', \"aren't\", 'couldn', \"couldn't\", 'didn', \"didn't\", 'doesn', \"doesn't\", 'hadn', \"hadn't\", 'hasn', \"hasn't\", 'haven', \"haven't\", 'isn', \"isn't\", 'ma', 'mightn', \"mightn't\", 'mustn', \"mustn't\", 'needn', \"needn't\", 'shan', \"shan't\", 'shouldn', \"shouldn't\", 'wasn', \"wasn't\", 'weren', \"weren't\", 'won', \"won't\", 'wouldn', \"wouldn't\", 'would']\n"
     ]
    }
   ],
   "source": [
    "stopwords.append('would')\n",
    "print(stopwords)"
   ]
  },
  {
   "cell_type": "code",
   "execution_count": 22,
   "metadata": {},
   "outputs": [
    {
     "name": "stdout",
     "output_type": "stream",
     "text": [
      "75271\n",
      "34507\n"
     ]
    }
   ],
   "source": [
    "infile = open('frankenstein.txt')\n",
    "words = infile.read().lower().split() # Normalization\n",
    "infile.close()\n",
    "\n",
    "words2 = []\n",
    "for w in words:\n",
    "    if w not in stopwords:\n",
    "        words2.append(w)\n",
    "\n",
    "print(len(words))\n",
    "print(len(words2))"
   ]
  },
  {
   "cell_type": "code",
   "execution_count": 23,
   "metadata": {},
   "outputs": [
    {
     "name": "stdout",
     "output_type": "stream",
     "text": [
      "75271\n",
      "34487\n"
     ]
    }
   ],
   "source": [
    "# Remove Stopwords From the \"words\" List\n",
    "words2 = []\n",
    "for w in words:\n",
    "    if w not in stopwords and len(w) > 1:\n",
    "        words2.append(w)\n",
    "\n",
    "print(len(words))\n",
    "print(len(words2))"
   ]
  },
  {
   "cell_type": "code",
   "execution_count": 24,
   "metadata": {},
   "outputs": [
    {
     "data": {
      "image/png": "[encoded data removed]",
      "text/plain": [
       "<Figure size 432x288 with 1 Axes>"
      ]
     },
     "metadata": {
      "needs_background": "light"
     },
     "output_type": "display_data"
    },
    {
     "data": {
      "image/png": "[encoded data removed]",
      "text/plain": [
       "<Figure size 432x288 with 1 Axes>"
      ]
     },
     "metadata": {
      "needs_background": "light"
     },
     "output_type": "display_data"
    },
    {
     "data": {
      "text/plain": [
       "<AxesSubplot:xlabel='Samples', ylabel='Counts'>"
      ]
     },
     "execution_count": 24,
     "metadata": {},
     "output_type": "execute_result"
    }
   ],
   "source": [
    "freq = nltk.FreqDist(words)\n",
    "freq2 = nltk.FreqDist(words2)\n",
    "freq.plot(10)\n",
    "freq2.plot(10)"
   ]
  },
  {
   "cell_type": "markdown",
   "metadata": {},
   "source": [
    "## (4) Example: frankenstein.txt\n",
    "\n",
    "## Getting the Word Frequency After Pre-Processing"
   ]
  },
  {
   "cell_type": "code",
   "execution_count": 25,
   "metadata": {},
   "outputs": [
    {
     "data": {
      "image/png": "[encoded data removed]",
      "text/plain": [
       "<Figure size 432x288 with 1 Axes>"
      ]
     },
     "metadata": {
      "needs_background": "light"
     },
     "output_type": "display_data"
    },
    {
     "data": {
      "text/plain": [
       "<AxesSubplot:xlabel='Samples', ylabel='Counts'>"
      ]
     },
     "execution_count": 25,
     "metadata": {},
     "output_type": "execute_result"
    }
   ],
   "source": [
    "import nltk\n",
    "import string\n",
    "from nltk.stem import WordNetLemmatizer\n",
    "%matplotlib inline\n",
    "\n",
    "#(1) Load the Data\n",
    "infile = open('frankenstein.txt')\n",
    "content = infile.read()\n",
    "infile.close()\n",
    "\n",
    "#(2) Normalization and Removing Punctuatiion\n",
    "p = string.punctuation\n",
    "table_p = str.maketrans(p, len(p) * \" \")\n",
    "\n",
    "l_content = content.lower() # Normalization\n",
    "n_content = l_content.translate(table_p) # Removing Punctuation\n",
    "\n",
    "#(3) Removing Stopwords\n",
    "stopwords = nltk.corpus.stopwords.words('english')\n",
    "stopwords.append('could')\n",
    "stopwords.append('would')\n",
    "stopwords.append('upon')\n",
    "\n",
    "words = n_content.split()\n",
    "\n",
    "rs_words = []\n",
    "for w in words:\n",
    "    if w not in stopwords:\n",
    "        rs_words.append(w)\n",
    "\n",
    "#(4) Lemmatizing\n",
    "wnl = WordNetLemmatizer()\n",
    "        \n",
    "le_words = []\n",
    "for w in rs_words:\n",
    "    le_words.append(wnl.lemmatize(w))\n",
    "\n",
    "#(5) Getting the Word Frequency\n",
    "freq = nltk.FreqDist(le_words)\n",
    "freq.plot(10)"
   ]
  }
 ],
 "metadata": {
  "anaconda-cloud": {},
  "kernelspec": {
   "display_name": "Python 3",
   "language": "python",
   "name": "python3"
  },
  "language_info": {
   "codemirror_mode": {
    "name": "ipython",
    "version": 3
   },
   "file_extension": ".py",
   "mimetype": "text/x-python",
   "name": "python",
   "nbconvert_exporter": "python",
   "pygments_lexer": "ipython3",
   "version": "3.8.8"
  }
 },
 "nbformat": 4,
 "nbformat_minor": 4
}
