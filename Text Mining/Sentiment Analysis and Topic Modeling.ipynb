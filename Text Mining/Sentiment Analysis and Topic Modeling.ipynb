{
 "cells": [
  {
   "cell_type": "markdown",
   "metadata": {},
   "source": [
    "# (1) Sentiment Analysis"
   ]
  },
  {
   "cell_type": "code",
   "execution_count": null,
   "metadata": {},
   "outputs": [],
   "source": [
    "'''\n",
    "Q1: Open \"tweet_stream_halloween_1000.json\" and create a list of tweets, \"Tweets\".\n",
    "'''"
   ]
  },
  {
   "cell_type": "code",
   "execution_count": 1,
   "metadata": {},
   "outputs": [],
   "source": [
    "import json\n",
    "from textblob import TextBlob\n",
    "\n",
    "infile = open('tweet_stream_halloween_1000.json')\n",
    "data = json.load(infile)\n",
    "infile.close()\n",
    "\n",
    "Tweets = []\n",
    "\n",
    "for t in data:\n",
    "    Tweets.append(t['text'])"
   ]
  },
  {
   "cell_type": "code",
   "execution_count": null,
   "metadata": {},
   "outputs": [],
   "source": [
    "'''\n",
    "Q2: Create two lists (e.g. \"sub_list\", \"pol_list\") that have the subjectivity scores and polarity scores of all the tweets.\n",
    "''' "
   ]
  },
  {
   "cell_type": "code",
   "execution_count": 2,
   "metadata": {},
   "outputs": [],
   "source": [
    "sub_list = []\n",
    "pol_list = []\n",
    "\n",
    "for t in Tweets:\n",
    "    tb = TextBlob(t)\n",
    "    sub_list.append(tb.sentiment.subjectivity)\n",
    "    pol_list.append(tb.sentiment.polarity)"
   ]
  },
  {
   "cell_type": "code",
   "execution_count": null,
   "metadata": {},
   "outputs": [],
   "source": [
    "'''\n",
    "Q3: (1) Display a histogram of the subjectivy of 1K tweets.\n",
    "    (2) Save the histogram as \"subjectibity_1K_Tweets.pdf\".\n",
    "'''"
   ]
  },
  {
   "cell_type": "code",
   "execution_count": 3,
   "metadata": {},
   "outputs": [
    {
     "data": {
      "image/png": "[encoded data removed]",
      "text/plain": [
       "<Figure size 432x288 with 1 Axes>"
      ]
     },
     "metadata": {
      "needs_background": "light"
     },
     "output_type": "display_data"
    }
   ],
   "source": [
    "import matplotlib.pyplot as plt\n",
    "%matplotlib inline\n",
    "\n",
    "plt.hist(sub_list, bins = 10)\n",
    "plt.xlabel('Subjectivity Score')\n",
    "plt.ylabel('Sentence Count')\n",
    "plt.grid(True)\n",
    "plt.savefig('subjectibility_1K_Tweets.pdf')"
   ]
  },
  {
   "cell_type": "code",
   "execution_count": null,
   "metadata": {},
   "outputs": [],
   "source": [
    "'''\n",
    "Q4. (1) Display a histogram of the polarity of 1K tweets.\n",
    "    (2) Save the histogram as \"polarity_1K_Tweets.pdf\".\n",
    "'''"
   ]
  },
  {
   "cell_type": "code",
   "execution_count": 4,
   "metadata": {},
   "outputs": [
    {
     "data": {
      "image/png": "[encoded data removed]",
      "text/plain": [
       "<Figure size 432x288 with 1 Axes>"
      ]
     },
     "metadata": {
      "needs_background": "light"
     },
     "output_type": "display_data"
    }
   ],
   "source": [
    "import matplotlib.pyplot as plt\n",
    "%matplotlib inline\n",
    "\n",
    "plt.hist(pol_list, bins = 10)\n",
    "plt.xlabel('Polarity Score')\n",
    "plt.ylabel('Sentence Count')\n",
    "plt.grid(True)\n",
    "plt.savefig('polarity_1K_Tweets.pdf')\n",
    "plt.show()"
   ]
  },
  {
   "cell_type": "code",
   "execution_count": null,
   "metadata": {},
   "outputs": [],
   "source": [
    "'''\n",
    "Q5: (1) Display a histogram of polarity of 1K tweets that removes objective tweets, which have 0 subjectivity score.\n",
    "    (2) Save the histogram as \"polarity_new_1K_Tweets.pdf\".\n",
    "'''"
   ]
  },
  {
   "cell_type": "code",
   "execution_count": 5,
   "metadata": {},
   "outputs": [
    {
     "data": {
      "image/png": "[encoded data removed]",
      "text/plain": [
       "<Figure size 432x288 with 1 Axes>"
      ]
     },
     "metadata": {
      "needs_background": "light"
     },
     "output_type": "display_data"
    }
   ],
   "source": [
    "for t in Tweets:\n",
    "    tb = TextBlob(t)\n",
    "    if tb.sentiment.subjectivity != 0:\n",
    "        sub_list.append(tb.sentiment.subjectivity)\n",
    "        pol_list.append(tb.sentiment.polarity)\n",
    "        \n",
    "plt.hist(pol_list, bins = 10)\n",
    "plt.xlabel('Polarity Score')\n",
    "plt.ylabel('Sentence Count')\n",
    "plt.grid(True)\n",
    "plt.savefig('polarity_new_1K_Tweets.pdf')"
   ]
  },
  {
   "cell_type": "markdown",
   "metadata": {},
   "source": [
    "# (2) Topic Modeling (NMF)\n",
    "\n"
   ]
  },
  {
   "cell_type": "code",
   "execution_count": null,
   "metadata": {},
   "outputs": [],
   "source": [
    "'''\n",
    "Q6: Open \"tweet_stream_easter_1000.json\" and create a list of 1K tweets and the corpus_contents for TF-IDF vectorization.\n",
    "'''"
   ]
  },
  {
   "cell_type": "code",
   "execution_count": 6,
   "metadata": {},
   "outputs": [],
   "source": [
    "import json\n",
    "import numpy as np\n",
    "from pprint import pprint\n",
    "\n",
    "infile = open('tweet_stream_easter_1000.json')\n",
    "data = json.load(infile)\n",
    "infile.close()\n",
    "\n",
    "Tweets = []\n",
    "\n",
    "for t in data:\n",
    "    Tweets.append(t['text'])\n",
    "\n",
    "corpus_contents = []\n",
    "\n",
    "for t in data:\n",
    "    corpus_contents.append(t['text'])"
   ]
  },
  {
   "cell_type": "code",
   "execution_count": null,
   "metadata": {},
   "outputs": [],
   "source": [
    "'''\n",
    "Q7. (1) Vectorize the 1K tweets with TfidfVectorizer.\n",
    "    (2) Create a document-term matrix (i.e. \"doc_term_matrix\").\n",
    "    (3) Create a list of unique words (i.e. \"unique_words\").\n",
    "'''"
   ]
  },
  {
   "cell_type": "code",
   "execution_count": 7,
   "metadata": {},
   "outputs": [
    {
     "name": "stdout",
     "output_type": "stream",
     "text": [
      "  (0, 391)\t0.35719258303447654\n",
      "  (0, 1272)\t0.33011729533980066\n",
      "  (0, 770)\t0.35719258303447654\n",
      "  (0, 414)\t0.199719394182866\n",
      "  (0, 393)\t0.075000311800004\n",
      "  (0, 716)\t0.2607823424827461\n",
      "  (0, 1279)\t0.33011729533980066\n",
      "  (0, 1145)\t0.366426678993408\n",
      "  (0, 1045)\t0.366426678993408\n",
      "  (0, 1138)\t0.366426678993408\n",
      "  (0, 1008)\t0.10269475798362519\n",
      "  (1, 624)\t0.117290415240031\n",
      "  (1, 105)\t0.2588127906220795\n",
      "  (1, 25)\t0.42162596479599157\n",
      "  (1, 87)\t0.2673940788487128\n",
      "  (1, 236)\t0.4454175341205642\n",
      "  (1, 167)\t0.4815374332321167\n",
      "  (1, 444)\t0.4815374332321167\n",
      "  (1, 393)\t0.08852949452095617\n",
      "  (2, 318)\t0.3210210225540688\n",
      "  (2, 649)\t0.28834699011063314\n",
      "  (2, 253)\t0.21573246803384047\n",
      "  (2, 36)\t0.3074600738373894\n",
      "  (2, 8)\t0.3074600738373894\n",
      "  (2, 855)\t0.28834699011063314\n",
      "  :\t:\n",
      "  (995, 624)\t0.12629385230966078\n",
      "  (995, 393)\t0.09532518819374594\n",
      "  (996, 629)\t0.44360237623448817\n",
      "  (996, 839)\t0.49239390911000896\n",
      "  (996, 338)\t0.5070700727351072\n",
      "  (996, 177)\t0.5250322453303855\n",
      "  (996, 624)\t0.13352518666405955\n",
      "  (996, 393)\t0.10078331854307437\n",
      "  (997, 753)\t0.719303976728933\n",
      "  (997, 732)\t0.6946954649786787\n",
      "  (998, 874)\t1.0\n",
      "  (999, 160)\t0.24928615238846075\n",
      "  (999, 1260)\t0.2343747921332161\n",
      "  (999, 827)\t0.2343747921332161\n",
      "  (999, 1006)\t0.2303901992953784\n",
      "  (999, 533)\t0.23877955516002985\n",
      "  (999, 373)\t0.2234062390232756\n",
      "  (999, 346)\t0.41960288157520076\n",
      "  (999, 486)\t0.21219103869704098\n",
      "  (999, 1315)\t0.4468124780465512\n",
      "  (999, 207)\t0.32470361854234475\n",
      "  (999, 1104)\t0.35935573791363107\n",
      "  (999, 624)\t0.069347902568998\n",
      "  (999, 393)\t0.052343021788762226\n",
      "  (999, 1008)\t0.07167108810244001\n"
     ]
    }
   ],
   "source": [
    "from sklearn.feature_extraction.text import TfidfVectorizer\n",
    "\n",
    "vectorizer = TfidfVectorizer(stop_words = 'english', min_df = 2)\n",
    "\n",
    "doc_term_matrix = vectorizer.fit_transform(corpus_contents)\n",
    "\n",
    "print(doc_term_matrix)"
   ]
  },
  {
   "cell_type": "code",
   "execution_count": 8,
   "metadata": {},
   "outputs": [
    {
     "name": "stdout",
     "output_type": "stream",
     "text": [
      "['000', '01637', '10', '10am', '10th', '11', '11th', '12', '12th', '13th', '14', '14th', '15', '15th', '160', '17', '17th', '18', '18th', '19', '19th', '1st', '20', '200', '2019', '20th', '21', '21st', '22nd', '247lovinglife', '25', '26', '28', '2xmki3xxre', '30', '30mins', '30pm', '357avul9r0', '36', '40', '4lkqou7pyk', '50', '5th', '67', '75', '7gkgwmtz2h', '7th', '7x7', '84igjhetvq', '877555', '8pm', '8th', '9pm', '9quyjptbzl', '9th', 'aaamu_rys19', 'abilities', 'able', 'abroad', 'absolute', 'academy', 'accepting', 'acenewquay', 'activities', 'actually', 'add', 'added', 'addition', 'adorable', 'adults', 'aenfocadtd', 'afternoon', 'afternoons', 'age', 'aged', 'ah', 'ain', 'air', 'al', 'aldiuk', 'alert', 'alex', 'allp1', 'alright', 'altrincham', 'altrinchambid', 'amazing', 'amp', 'andrealeadsom', 'ang4vapv26', 'angryjoeshow', 'annoucement', 'announce', 'announced', 'announcement', 'annual', 'answer', 'anthemsixx', 'antiqueclique', 'apostles', 'appaa_arkpriory', 'apply', 'approaching', 'appropriationisitc', 'apr', 'april', 'ar', 'archery', 'area', 'argue', 'arranged', 'arrivals', 'arrives', 'art', 'asckennedy', 'asda', 'askchefdennis', 'asked', 'asking', 'atan', 'athens', 'attending', 'authorities', 'autos', 'available', 'avery', 'away', 'awesome', 'aymdqivztl', 'babies', 'baby', 'bad', 'bag', 'bajaj', 'baking', 'bandcalledhappy', 'bangle', 'bankroll_chapo', 'basket', 'basketball', 'baskets', 'bath', 'bbloggers', 'beach', 'beaconoflight', 'beaded', 'beagle', 'beagle_boys_', 'beautiful', 'beauty', 'begin', 'beginnings', 'believe', 'belleepoquec', 'bernardfoong', 'best', 'bestprice', 'bet', 'better', 'bgea', 'biancasteinfeld', 'bible', 'big', 'biggest', 'bigsheepdayout', 'biking', 'billion', 'billy', 'birthday', 'bishop', 'bit', 'black', 'blind', 'blossom', 'bnmarathon', 'board', 'boards', 'bonnet', 'book', 'booked', 'booking', 'books', 'bottle', 'bought', 'boulderlocavore', 'box', 'boy', 'bracelet', 'braids', 'break', 'breakfast', 'breaks', 'brexit', 'brighton', 'bring', 'british', 'britons', 'brokenshire', 'brunch', 'bu', 'buddies', 'buffet', 'build', 'building', 'bun', 'bundle', 'bunnies', 'bunny', 'burning', 'busy', 'buy', 'buying', 'buzzing', 'cadbury', 'cadburyworld', 'cake', 'called', 'calling', 'camp', 'camps', 'campus', 'cancelled', 'candies', 'candle', 'candy', 'canvas', 'cape', 'card', 'cards', 'catholic', 'ccbasher', 'celebrate', 'celebrations', 'celent', 'cellent', 'centerpiece', 'centre', 'certificates', 'challenge', 'challenging', 'chance', 'change', 'channel', 'chapel', 'check', 'chef', 'cheshamutdfc', 'chick', 'chicken', 'chickenandfrog', 'chicks', 'child', 'childcare', 'children', 'chocolate', 'chocolates', 'christ', 'christian', 'christians', 'christmas', 'church', 'cinema', 'circ', 'circle', 'city', 'class', 'classic', 'click', 'closed', 'closer', 'closet', 'club', 'clubs', 'clue', 'clyde', 'cmd', 'code', 'cog_aic', 'collection', 'collects', 'college', 'color', 'colorful', 'come', 'comes', 'coming', 'comment', 'commissions', 'commons', 'community', 'company', 'competition', 'complete', 'concentrating', 'concert', 'congratulations', 'connell', 'conosurwinetalk', 'considering', 'contouring', 'contributing', 'cooking', 'cool', 'cooptywyn', 'copy', 'corner', 'correctly', 'cosigned', 'cosmetic', 'country', 'couple', 'coupons', 'course', 'courses', 'craft', 'crafts', 'cranmoreschool', 'crayola', 'crea', 'created', 'creating', 'creation', 'creative', 'creme', 'crib', 'cross', 'crossed', 'crying', 'crystals', 'culture', 'cunts', 'currents', 'cute', 'cutest', 'dagga', 'dance', 'daniellesmithtv', 'date', 'daughter', 'david', 'davidgold93', 'day', 'days', 'deal', 'decided', 'decision', 'decor', 'decorate', 'decorating', 'decoration', 'decorations', 'decoupage', 'def', 'delicious', 'delighted', 'department', 'design', 'designed', 'details', 'deviled', 'did', 'different', 'dinner', 'dinosaur', 'dis', 'dispensers', 'diy', 'dmnpys5nv7', 'does', 'dogs', 'doing', 'dollartree', 'don', 'door', 'doses', 'download', 'drawn', 'dress', 'dresses', 'drive', 'drizzle', 'drizzled', 'drop', 'drug', 'duckyv72', 'duncanrighwb', 'duncanrigscndry', 'durableuk', 'ea', 'earl', 'early', 'eas', 'easte', 'easter', 'easter2019', 'easterbasket', 'easterbunny', 'easterchick', 'easterdecor', 'easterdecoration', 'easterdecorations', 'easteregg', 'easteregghunt', 'easterfoodandgames', 'eastergifts', 'eastern', 'eastersealsns', 'eastersunday', 'easy', 'eat', 'ebay', 'edition', 'education', 'educational', 'egg', 'eggmazing', 'eggs', 'eggwin', 'elegant', 'emoraleigh', 'emshelx', 'encouraging', 'end', 'enjoy', 'enjoyed', 'enjoyment', 'ensure', 'enter', 'entered', 'entire', 'entirely', 'entries', 'epcot', 'estate', 'etsy', 'eu0ob5h8d8', 'event', 'events', 'evidence', 'excited', 'exeterlawschool', 'expected', 'experi', 'experience', 'explore', 'exploring', 'express', 'extra', 'eye', 'f8kusyd6a7', 'fabienlaine', 'fabulous', 'facebook', 'fair', 'fairy', 'faithful', 'family', 'fan', 'fanbases', 'fancy', 'fantastic', 'far', 'fashion', 'favorite', 'favourite', 'fb', 'fe', 'feel', 'feeling', 'felixstowe', 'festival', 'figured', 'filling', 'film', 'films', 'final', 'finally', 'fine', 'fingers', 'finished', 'fionagubelmann', 'firstdayofspring', 'fit', 'fleet', 'flights', 'floors', 'floral', 'florida', 'flower', 'flowers', 'fluffy', 'fluffychick', 'focused', 'folk', 'folkshire', 'follow', 'followvintage', 'food', 'fools', 'football', 'forget', 'form', 'forward', 'fr', 'fredblunt', 'free', 'french', 'fresh', 'friday', 'friend', 'friends', 'fss_uob', 'fuck', 'fuckin', 'fucking', 'fun', 'fungalpeeps', 'fungi', 'funplexng', 'futsal', 'gadget', 'game', 'games', 'garden', 'gardens', 'gaskellshouse', 'gearing', 'generous', 'getting', 'gift', 'gifts', 'gin', 'girl', 'girls', 'giveaway', 'giving', 'glorious', 'glory', 'glut', 'gmt', 'god', 'goes', 'going', 'gold', 'gonna', 'good', 'goodfriday', 'goodies', 'gorgeous', 'got', 'gotta', 'grab', 'grabbing', 'grandukholidays', 'gratitude', 'great', 'greece', 'green', 'greenwoodworker', 'greeting', 'group', 'grown', 'guess', 'guests', 'guide', 'gulliver', 'guy', 'guys', 'hair', 'half', 'halfway', 'halloween', 'hamper', 'hampers', 'hand', 'handmade', 'hands', 'hang', 'hanging', 'hangout', 'hantstopdaysout', 'happening', 'happens', 'happy', 'harlequin', 'harrisonpschool', 'hatch', 'hats', 'having', 'haydinmckenzie', 'hayesfinch', 'head', 'hear', 'heart', 'hello', 'help', 'helped', 'helpers', 'hematite', 'hi', 'hidden', 'high', 'hire', 'historical', 'ho', 'holder', 'holding', 'holiday', 'holidaying', 'holidays', 'holiest', 'holy', 'home', 'hoop', 'hop', 'hope', 'hopefully', 'hoppity', 'hoppy', 'host', 'hosting', 'hot', 'hotel', 'house', 'https', 'hundreds', 'hunt', 'ic5j0efmb9', 'icing', 'idea', 'ideas', 'im', 'immsnorfolk', 'important', 'include', 'including', 'indicates', 'info', 'information', 'ing', 'initial', 'innovative', 'inoculated', 'insert', 'inspiration', 'intended', 'interested', 'interfaith', 'invention', 'invited', 'inviting', 'involved', 'island', 'isn', 'italy', 'item', 'items', 'itsfamousjoe', 'itsindysev', 'james', 'je', 'jesus', 'jewelry', 'jewelrywiz', 'jlap64', 'join', 'josephdemauro1', 'jsismee', 'june', 'junior', 'just', 'kasoasmfanbase', 'kasson_wvu', 'keke', 'kellybullad', 'kelsey', 'keoshere', 'khloekardashian', 'ki', 'kid', 'kids', 'kimberlilarae', 'kind', 'kitchen', 'kitchensanc2ary', 'kiwitraveleu', 'kiwitraveleuhotels', 'knitted_niceties', 'knittedniceties', 'know', 'kz8j2ikshj', 'labradorite', 'lady', 'land', 'landed', 'large', 'later', 'latest', 'launched', 'launches', 'launching', 'lava', 'lawrence', 'lbz2', 'leads', 'learn', 'leave', 'leestrobel', 'left', 'lego', 'lemon', 'lent', 'lesson', 'let', 'life', 'lights', 'like', 'likes', 'limited', 'lindenrdoak', 'link', 'lions', 'list', 'literally', 'little', 'live', 'liverpool', 'living', 'll', 'loads', 'local', 'logo', 'lol', 'lolitastarr95', 'london', 'long', 'look', 'looking', 'looks', 'lord', 'lot', 'lots', 'loudly', 'love', 'loved', 'lovely', 'low', 'lucky', 'lunch', 'luxury', 'magic', 'magodo', 'make', 'makes', 'making', 'man', 'manchester', 'march', 'marwa', 'massive', 'materials', 'maxsportshangout', 'mean', 'means', 'mediaatbrighton', 'meet', 'members', 'memorial', 'men', 'mens', 'menu', 'message', 'messi', 'messy', 'metanoia', 'mgrant76308', 'mi', 'microbiology', 'mini', 'minute', 'miss', 'misssdeakin', 'mistressd25', 'mmr', 'mom', 'mommyblogger', 'momtograndma', 'monday', 'money', 'month', 'morning', 'morrisons', 'mosaic', 'mother', 'mothersday', 'movie', 'moviessssss', 'moving', 'mr', 'muddy', 'multi', 'museum', 'music', 'nature', 'nc', 'near', 'nearly', 'necklace', 'need', 'nejfrvma5f', 'nest', 'netball', 'new', 'newquay', 'newrelease', 'news', 'newsanddeli', 'newsletter', 'nice', 'nigeria', 'night', 'nin', 'non', 'normal', 'northants', 'note', 'novelties', 'nursery', 'o1rr8onlpk', 'offer', 'office', 'officially', 'oh', 'ok', 'ola', 'old', 'olympics', 'omg', 'ones', 'online', 'open', 'opened', 'opening', 'opportunity', 'orange', 'order', 'ordered', 'orders', 'ou', 'outdoors', 'oxpasturehotel', 'paces', 'pacismultiplex', 'page', 'paper', 'parade', 'paradigm', 'paramour', 'parents', 'paris', 'parishpriest', 'park', 'parliament', 'party', 'paschal', 'pass', 'passionately', 'passover', 'pastel', 'patfurstenberg', 'pattern', 'pay', 'peascommunity', 'peeled', 'peeps', 'pendant', 'people', 'peperhade', 'perf', 'perfect', 'personalised', 'personalized', 'peston', 'pez', 'phone', 'photo', 'photos', 'piagg', 'pieces', 'pink', 'pippin143', 'pitcher', 'place', 'places', 'planning', 'plans', 'plastic', 'plate', 'play', 'players', 'playing', 'plenty', 'plot', 'plus', 'plush', 'pm', 'point', 'police', 'political', 'pool', 'pop', 'poshmark', 'poshmarkapp', 'positive', 'post', 'poster', 'posters', 'pouch', 'prayer', 'pre', 'premium', 'prepare', 'presents', 'pretty', 'preview', 'price', 'primary', 'princess', 'printable', 'prioritize', 'prize', 'prizes', 'problematic', 'product', 'professing', 'profile', 'program', 'programme', 'project', 'promo', 'prosecco', 'prototypi', 'proud', 'provide', 'provision', 'pta', 'pun', 'pupils', 'purchase', 'purenogluten', 'purse', 'qu', 'question', 'quick', 'quickly', 'quiet', 'quite', 'rabbit', 'rabbits', 'raffle', 'raise', 'raleigh', 'range', 'rare', 'read', 'reading', 'ready', 'real', 'realized', 'really', 'rec', 'recently', 'recess', 'recipe', 'recomm', 'red', 'redwoodphotos', 'register', 'released', 'reliefs', 'religion', 'remain', 'remember', 'reminded', 'reminder', 'renewal', 'reservations', 'reserve', 'residents', 'respect', 'resur', 'resurr', 'resurrection', 'retired', 'return', 'retweets', 'rev', 'revelaions', 'rfl9yxq0il', 'ridiculous', 'right', 'rip', 'road', 'rolled', 'romans', 'ronaldo', 'room', 'roses', 'rt', 'rugby', 'ruined', 'rule', 'run', 'running', 'ruthnotman', 'safcfol', 'said', 'sainsburys', 'sale', 'samkellymusic', 'sammie', 'santa', 'santaclausvstheeasterbunny', 'saturday', 'save', 'saved', 'saw', 'say', 'saying', 'sazmeister88', 'sbethcaplin', 'scdiunbkwh', 'school', 'schools', 'scrapped', 'screen', 'screenshot', 'screenstudies', 'seale15eastcoast', 'seals', 'search', 'seaside', 'season', 'seat', 'second', 'secret', 'seder', 'seders', 'selling', 'send', 'sending', 'sentiment', 'series', 'seriously', 'service', 'serving', 'session', 'set', 'sets', 'sha', 'shaped', 'share', 'shared', 'shazam', 'sheep', 'sheila', 'shift', 'shifted', 'shire', 'shit', 'shoe', 'shop', 'shoplocal', 'shopmycloset', 'shops', 'shows', 'shun', 'sign', 'signed', 'silver', 'simply', 'site', 'size', 'skills', 'slfacademy', 'sm2daworld', 'small', 'soccer', 'social', 'sold', 'soldering', 'som', 'songs', 'soon', 'sorts', 'spaces', 'special', 'spending', 'spent', 'sport', 'sporting', 'sports', 'spot', 'spread', 'spring', 'springy', 'square', 'st', 'staff', 'staniford', 'start', 'start360org', 'started', 'starting', 'starts', 'sterling', 'stitch', 'stjohnfarnworth', 'stoaters', 'stone', 'stop', 'story', 'strike', 'strip', 'strong', 'students', 'stuff', 'stuffed', 'stunning', 'style', 'su', 'successful', 'sugar', 'sullivan', 'summer', 'sun', 'sunday', 'sunrise', 'super', 'superpowers', 'support', 'sure', 'sweet', 'switch', 'symbol', 'table', 'tadi', 'tags', 'takeover', 'taking', 'talking', 'tastes', 'tatehxppy', 'te', 'teaching', 'team', 'tech', 'techcampuk', 'teens', 'tell', 'tennis', 'term', 'tesco', 'testimony', 'tgdsquad', 'thank', 'thanks', 'thatsnotmy', 'the_christian_movies_', 'theatre', 'themed', 'theradr', 'thing', 'things', 'think', 'thinking', 'tho', 'thought', 'thoughtful', 'thriftythistle', 'throwback', 'thursday', 'ti', 'ticket', 'tickets', 'tiger', 'tightly', 'til', 'till', 'time', 'times', 'timetable', 'tlop8fl6yt', 'today', 'toddler', 'toiletry', 'told', 'ton', 'tonight', 'took', 'tooth', 'topped', 'toppsta', 'toronto', 'touch', 'tourism', 'town', 'toy', 'tpdesigns1', 'tracycampanell', 'traditional', 'traditions', 'trail', 'trailer', 'trampalina', 'travel', 'treat', 'treats', 'tree', 'trials', 'trick', 'trip', 'try', 'tuesday', 'tune', 'turnout', 'tweens', 'tweet', 'twitter', 'uglydolls', 'undecided', 'uni', 'unique', 'unitary', 'unless', 'uobmedia', 'upcoming', 'update', 'urhvg43two', 'use', 'using', 'v4qivynpuc', 'vacccine', 'valley', 'varied', 've', 'vegan', 'video', 'view', 'vintage', 'visit', 'visitblackpool', 'visiting', 'volume', 'volunteers', 'voucher', 'vpjffigwzb', 'wae', 'wait', 'waiting', 'wall', 'wanna', 'want', 'wanted', 'war', 'warning', 'watch', 'watched', 'watching', 'water', 'watercolor', 'wax', 'way', 'waynehotel', 'wdyt', 'weans', 'wear', 'wednesday', 'week', 'weekend', 'weeks', 'welcome', 'went', 'whatsonbrum', 'wheels', 'whimsyandwicked', 'whpiauaknj', 'wild', 'willing', 'win', 'winds', 'wine', 'winner', 'winners', 'winning', 'winter', 'wit', 'wnukrt', 'woman', 'womaninbiz', 'women', 'womeninbiz', 'won', 'wonder', 'wondered', 'wonderful', 'wondering', 'wood', 'word', 'words', 'work', 'works', 'world', 'worship', 'wow', 'wreath', 'wunderground', 'x5gx9nvrch', 'ya', 'yatetownfc', 'yeah', 'year', 'years', 'yellow', 'yes', 'yesterday', 'yl5albogqc', 'yo', 'young', 'youth', 'youtube', 'yr4', 'yrs', 'zingy', 'zipper']\n"
     ]
    }
   ],
   "source": [
    "unique_words = vectorizer.get_feature_names() \n",
    "print(unique_words)"
   ]
  },
  {
   "cell_type": "code",
   "execution_count": null,
   "metadata": {},
   "outputs": [],
   "source": [
    "'''\n",
    "Q8: (1) Perform NMF decomposition using a document-term matrix with TfidfVectorizer.\n",
    "    (2) Set the number of topics to 7.\n",
    "    (3) Create a document-topic matrix (i.e. \"doc_top_matrix\") and a topic-term matrix (i.e. \"top_term_matrix\").\n",
    "'''"
   ]
  },
  {
   "cell_type": "code",
   "execution_count": 9,
   "metadata": {},
   "outputs": [
    {
     "name": "stdout",
     "output_type": "stream",
     "text": [
      "[[0.05037002 0.00360844 0.0043616  ... 0.         0.01844328 0.        ]\n",
      " [0.04742787 0.         0.         ... 0.         0.05042501 0.06726873]\n",
      " [0.01616372 0.00182809 0.00388993 ... 0.00075566 0.09142365 0.        ]\n",
      " ...\n",
      " [0.00434349 0.         0.         ... 0.         0.         0.        ]\n",
      " [0.00341369 0.0003687  0.         ... 0.         0.         0.        ]\n",
      " [0.01100788 0.00066708 0.         ... 0.26117198 0.         0.        ]]\n"
     ]
    },
    {
     "name": "stderr",
     "output_type": "stream",
     "text": [
      "C:\\Users\\Blake\\anaconda3\\lib\\site-packages\\sklearn\\decomposition\\_nmf.py:312: FutureWarning: The 'init' value, when 'init=None' and n_components is less than n_samples and n_features, will be changed from 'nndsvd' to 'nndsvda' in 1.1 (renaming of 0.26).\n",
      "  warnings.warn((\"The 'init' value, when 'init=None' and \"\n"
     ]
    }
   ],
   "source": [
    "from sklearn import decomposition\n",
    "\n",
    "num_topics = 7\n",
    "\n",
    "clf = decomposition.NMF(n_components = num_topics)\n",
    "\n",
    "doc_top_matrix = clf.fit_transform(doc_term_matrix)\n",
    "\n",
    "print(doc_top_matrix)"
   ]
  },
  {
   "cell_type": "code",
   "execution_count": 10,
   "metadata": {},
   "outputs": [
    {
     "name": "stdout",
     "output_type": "stream",
     "text": [
      "[[4.92025794e-03 9.73287149e-04 5.10370323e-02 ... 9.73287149e-04\n",
      "  1.06346265e-03 1.43078060e-03]\n",
      " [0.00000000e+00 4.18793924e-03 0.00000000e+00 ... 4.18793924e-03\n",
      "  6.47488478e-04 1.10722297e-04]\n",
      " [4.87472834e-04 5.13604817e-04 0.00000000e+00 ... 5.13604817e-04\n",
      "  7.51528481e-04 2.97642846e-04]\n",
      " ...\n",
      " [0.00000000e+00 1.44461940e-05 0.00000000e+00 ... 1.44461940e-05\n",
      "  5.68394388e-05 0.00000000e+00]\n",
      " [2.31659818e-02 1.44826080e-03 2.79801805e-02 ... 1.44826080e-03\n",
      "  2.85970475e-03 2.61888186e-04]\n",
      " [0.00000000e+00 6.53785687e-03 1.72377503e-02 ... 6.53785687e-03\n",
      "  0.00000000e+00 0.00000000e+00]]\n"
     ]
    }
   ],
   "source": [
    "top_term_matrix = clf.components_\n",
    "\n",
    "print(top_term_matrix)"
   ]
  },
  {
   "cell_type": "code",
   "execution_count": null,
   "metadata": {},
   "outputs": [],
   "source": [
    "'''\n",
    "Q9: Display the constructed topics with the top 6 keywords.\n",
    "'''"
   ]
  },
  {
   "cell_type": "code",
   "execution_count": 15,
   "metadata": {},
   "outputs": [
    {
     "name": "stdout",
     "output_type": "stream",
     "text": [
      "https easter rt egg eggs make\n"
     ]
    }
   ],
   "source": [
    "import numpy as np\n",
    "from pprint import pprint\n",
    "\n",
    "num_top_words = 6\n",
    "\n",
    "np.argsort(topic_1)[-num_top_words:][::-1]\n",
    "\n",
    "print(unique_words[624], unique_words[393], unique_words[1008], unique_words[414], unique_words[416], unique_words[752])"
   ]
  },
  {
   "cell_type": "code",
   "execution_count": 16,
   "metadata": {},
   "outputs": [
    {
     "name": "stdout",
     "output_type": "stream",
     "text": [
      "[['https', 'easter', 'rt', 'basket', 'make', 'great'],\n",
      " ['grown', 'shazam', 'loudly', 'argue', 'superpowers', 'passionately'],\n",
      " ['getting',\n",
      "  'passover',\n",
      "  'theradr',\n",
      "  'problematic',\n",
      "  'appropriationisitc',\n",
      "  'seders'],\n",
      " ['ve', 'got', 'kasson_wvu', 'different', 'inoculated', 'called'],\n",
      " ['bunny', 'themed', 'available', '84igjhetvq', 'undecided', 'labradorite'],\n",
      " ['april', 'just', 'win', 'follow', 'break', 'tweet'],\n",
      " ['coming', 'amp', 'football', 'poster', 'trials', 'education'],\n",
      " ['wreath', 'spring', 'decor', 'floral', 'bunny', 'door'],\n",
      " ['womaninbiz', 'wnukrt', 'tpdesigns1', 'order', 'days', 'holder'],\n",
      " ['egg', 'easter', 'eggs', 'hunt', 'love', 'question']]\n"
     ]
    }
   ],
   "source": [
    "topic_words = []\n",
    "\n",
    "for topic in clf.components_:\n",
    "\n",
    "    word_idx = np.argsort(topic)[-num_top_words:]\n",
    "    \n",
    "    temp_lst = []\n",
    "    for idx in word_idx[::-1]: \n",
    "        temp_lst.append(unique_words[idx])\n",
    "        \n",
    "    topic_words.append(temp_lst)\n",
    "    \n",
    "pprint(topic_words)"
   ]
  },
  {
   "cell_type": "code",
   "execution_count": null,
   "metadata": {},
   "outputs": [],
   "source": [
    "'''\n",
    "Q10: Perform topic modeling with \"tweet_stream_easter_1000.json\". Set the number of topics to 10 and 10 keywords.\n",
    "'''"
   ]
  },
  {
   "cell_type": "code",
   "execution_count": 13,
   "metadata": {},
   "outputs": [
    {
     "name": "stdout",
     "output_type": "stream",
     "text": [
      "[['https',\n",
      "  'easter',\n",
      "  'rt',\n",
      "  'basket',\n",
      "  'make',\n",
      "  'great',\n",
      "  'sunday',\n",
      "  'good',\n",
      "  'holiday',\n",
      "  'ideas'],\n",
      " ['grown',\n",
      "  'shazam',\n",
      "  'loudly',\n",
      "  'argue',\n",
      "  'superpowers',\n",
      "  'passionately',\n",
      "  'old',\n",
      "  'men',\n",
      "  'boy',\n",
      "  '14'],\n",
      " ['getting',\n",
      "  'passover',\n",
      "  'theradr',\n",
      "  'problematic',\n",
      "  'appropriationisitc',\n",
      "  'seders',\n",
      "  'closer',\n",
      "  'reminder',\n",
      "  'christian',\n",
      "  'rt'],\n",
      " ['ve',\n",
      "  'got',\n",
      "  'kasson_wvu',\n",
      "  'different',\n",
      "  'inoculated',\n",
      "  'called',\n",
      "  'microbiology',\n",
      "  'fungalpeeps',\n",
      "  'fungi',\n",
      "  'successful'],\n",
      " ['bunny',\n",
      "  'themed',\n",
      "  'available',\n",
      "  '84igjhetvq',\n",
      "  'undecided',\n",
      "  'labradorite',\n",
      "  'update',\n",
      "  'date',\n",
      "  'haydinmckenzie',\n",
      "  'rt'],\n",
      " ['april',\n",
      "  'just',\n",
      "  'win',\n",
      "  'follow',\n",
      "  'break',\n",
      "  'tweet',\n",
      "  '18th',\n",
      "  'winner',\n",
      "  'luxury',\n",
      "  'drawn'],\n",
      " ['coming',\n",
      "  'amp',\n",
      "  'football',\n",
      "  'poster',\n",
      "  'trials',\n",
      "  'education',\n",
      "  'details',\n",
      "  'academy',\n",
      "  'easter',\n",
      "  'https'],\n",
      " ['wreath',\n",
      "  'spring',\n",
      "  'decor',\n",
      "  'floral',\n",
      "  'bunny',\n",
      "  'door',\n",
      "  'wall',\n",
      "  'nursery',\n",
      "  'room',\n",
      "  'biancasteinfeld'],\n",
      " ['womaninbiz',\n",
      "  'wnukrt',\n",
      "  'tpdesigns1',\n",
      "  'order',\n",
      "  'days',\n",
      "  'holder',\n",
      "  'boards',\n",
      "  '7gkgwmtz2h',\n",
      "  'breakfast',\n",
      "  'chance'],\n",
      " ['egg',\n",
      "  'easter',\n",
      "  'eggs',\n",
      "  'hunt',\n",
      "  'love',\n",
      "  'question',\n",
      "  'chocolate',\n",
      "  'giveaway',\n",
      "  'like',\n",
      "  'rt']]\n"
     ]
    },
    {
     "name": "stderr",
     "output_type": "stream",
     "text": [
      "C:\\Users\\Blake\\anaconda3\\lib\\site-packages\\sklearn\\decomposition\\_nmf.py:312: FutureWarning: The 'init' value, when 'init=None' and n_components is less than n_samples and n_features, will be changed from 'nndsvd' to 'nndsvda' in 1.1 (renaming of 0.26).\n",
      "  warnings.warn((\"The 'init' value, when 'init=None' and \"\n"
     ]
    }
   ],
   "source": [
    "import json\n",
    "import numpy as np\n",
    "from pprint import pprint\n",
    "from sklearn.feature_extraction.text import TfidfVectorizer\n",
    "from sklearn import decomposition\n",
    "import numpy as np\n",
    "\n",
    "infile = open('tweet_stream_easter_1000.json')\n",
    "data = json.load(infile)\n",
    "infile.close()\n",
    "\n",
    "corpus_contents = []\n",
    "\n",
    "for t in data:\n",
    "    corpus_contents.append(t['text'])\n",
    "    \n",
    "vectorizer = TfidfVectorizer(stop_words = 'english', min_df = 2)\n",
    "doc_term_matrix = vectorizer.fit_transform(corpus_contents)\n",
    "\n",
    "unique_words = vectorizer.get_feature_names() \n",
    "\n",
    "num_topics = 10\n",
    "\n",
    "clf = decomposition.NMF(n_components = num_topics)\n",
    "doc_top_matrix = clf.fit_transform(doc_term_matrix)\n",
    "top_term_matrix = clf.components_\n",
    "\n",
    "topic_words = []\n",
    "num_top_words = 10 \n",
    "\n",
    "for topic in clf.components_:\n",
    "    word_idx = np.argsort(topic)[-num_top_words: ]\n",
    "    temp_lst = []\n",
    "    for idx in word_idx[::-1]: \n",
    "        temp_lst.append(unique_words[idx])\n",
    "    topic_words.append(temp_lst) \n",
    "    \n",
    "pprint(topic_words)"
   ]
  }
 ],
 "metadata": {
  "anaconda-cloud": {},
  "kernelspec": {
   "display_name": "Python 3",
   "language": "python",
   "name": "python3"
  },
  "language_info": {
   "codemirror_mode": {
    "name": "ipython",
    "version": 3
   },
   "file_extension": ".py",
   "mimetype": "text/x-python",
   "name": "python",
   "nbconvert_exporter": "python",
   "pygments_lexer": "ipython3",
   "version": "3.8.8"
  }
 },
 "nbformat": 4,
 "nbformat_minor": 4
}
