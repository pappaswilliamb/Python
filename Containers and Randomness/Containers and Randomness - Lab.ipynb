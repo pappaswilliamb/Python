{
 "cells": [
  {
   "cell_type": "markdown",
   "metadata": {},
   "source": [
    "# Dictionary"
   ]
  },
  {
   "cell_type": "code",
   "execution_count": null,
   "metadata": {},
   "outputs": [],
   "source": [
    "\"\"\"\n",
    "Write a function wordcount() that:\n",
    "\n",
    "(1) Takes as input a text—as a string; and \n",
    "(2) Prints the frequency of each word in the text.\n",
    "Assume there is no punctuation in the text.\n",
    "\n",
    ">>> text = 'all animals are equal but some animals are more equal than other'\n",
    "\n",
    ">>> wordCount(text)\n",
    "all appears 1 time.\n",
    "animals appears 2 times.\n",
    "some appears 1 time.\n",
    "equal appears 2 times.\n",
    "but appears 1 time.\n",
    "other appears 1 time.\n",
    "are appears 2 times.\n",
    "than appears 1 time.\n",
    "more appears 1 time.\n",
    "\"\"\""
   ]
  },
  {
   "cell_type": "code",
   "execution_count": null,
   "metadata": {},
   "outputs": [],
   "source": [
    "def wordcount(text):\n",
    "    dict = {}\n",
    "    wordlst = text.split()\n",
    "    for w in wordlst:\n",
    "        if w not in dict:\n",
    "            dict[w] = 1\n",
    "        else:\n",
    "            dict[w] += 1\n",
    "    for k in dict.keys():\n",
    "        if dict[k] == 1:\n",
    "            print('{} appears {} time.'.format(k, dict[k]))\n",
    "        else:\n",
    "            print('{} appears {} times.'.format(k, dict[k]))"
   ]
  },
  {
   "cell_type": "code",
   "execution_count": 2,
   "metadata": {},
   "outputs": [],
   "source": [
    "text = 'all animals are equal but some animals are more equal than other'"
   ]
  },
  {
   "cell_type": "code",
   "execution_count": 3,
   "metadata": {},
   "outputs": [
    {
     "name": "stdout",
     "output_type": "stream",
     "text": [
      "all appears 1 time.\n",
      "animals appears 2 times.\n",
      "are appears 2 times.\n",
      "equal appears 2 times.\n",
      "but appears 1 time.\n",
      "some appears 1 time.\n",
      "more appears 1 time.\n",
      "than appears 1 time.\n",
      "other appears 1 time.\n"
     ]
    }
   ],
   "source": [
    "wordcount(text)"
   ]
  },
  {
   "cell_type": "code",
   "execution_count": 4,
   "metadata": {},
   "outputs": [],
   "source": [
    "dict = {'a':1, 'b':2, 'c':3, 'd':4}"
   ]
  },
  {
   "cell_type": "code",
   "execution_count": 5,
   "metadata": {},
   "outputs": [
    {
     "name": "stdout",
     "output_type": "stream",
     "text": [
      "a\n",
      "b\n",
      "c\n",
      "d\n"
     ]
    }
   ],
   "source": [
    "for k in dict:\n",
    "    print(k)"
   ]
  },
  {
   "cell_type": "code",
   "execution_count": 6,
   "metadata": {},
   "outputs": [
    {
     "name": "stdout",
     "output_type": "stream",
     "text": [
      "a\n",
      "b\n",
      "c\n",
      "d\n"
     ]
    }
   ],
   "source": [
    "for k in dict.keys():\n",
    "    print(k)"
   ]
  },
  {
   "cell_type": "code",
   "execution_count": 7,
   "metadata": {},
   "outputs": [
    {
     "name": "stdout",
     "output_type": "stream",
     "text": [
      "1\n",
      "2\n",
      "3\n",
      "4\n"
     ]
    }
   ],
   "source": [
    "for v in dict.values():\n",
    "    print(v)"
   ]
  },
  {
   "cell_type": "code",
   "execution_count": 8,
   "metadata": {},
   "outputs": [
    {
     "name": "stdout",
     "output_type": "stream",
     "text": [
      "1\n",
      "2\n",
      "3\n",
      "4\n"
     ]
    }
   ],
   "source": [
    "for k in dict:\n",
    "    print(dict[k])"
   ]
  },
  {
   "cell_type": "code",
   "execution_count": 9,
   "metadata": {},
   "outputs": [],
   "source": [
    "dict_2 = {'a':[1, 11], 'b':[2, 22], 'c':[3, 33], 'd':[4, 44]}"
   ]
  },
  {
   "cell_type": "code",
   "execution_count": 10,
   "metadata": {},
   "outputs": [],
   "source": [
    "a = dict_2['c']"
   ]
  },
  {
   "cell_type": "code",
   "execution_count": 11,
   "metadata": {},
   "outputs": [
    {
     "data": {
      "text/plain": [
       "33"
      ]
     },
     "execution_count": 11,
     "metadata": {},
     "output_type": "execute_result"
    }
   ],
   "source": [
    "a[1]"
   ]
  },
  {
   "cell_type": "code",
   "execution_count": 12,
   "metadata": {},
   "outputs": [
    {
     "data": {
      "text/plain": [
       "33"
      ]
     },
     "execution_count": 12,
     "metadata": {},
     "output_type": "execute_result"
    }
   ],
   "source": [
    "dict_2['c'][1]"
   ]
  },
  {
   "cell_type": "code",
   "execution_count": null,
   "metadata": {},
   "outputs": [],
   "source": [
    "\"\"\"\n",
    "Write a function birthstate() that:\n",
    "\n",
    "(1) Takes as input a dictionary of the the birth state for each recent president; and\n",
    "(2) Repeats 1) requesting an user to input the name of president, and 2) printing out his birth state\n",
    "If an user input a wrong name, prints out 'Wrong Name!' and stop the iteration\n",
    "\n",
    "You should use this dictionary to store the birth state \n",
    "for each recent president\n",
    "\n",
    "{'Barack Hussein Obama II': 'Hawaii', \n",
    " 'George Walker Bush': 'Connecticut', \n",
    " 'William Jefferson Clinton': 'Arkansas',\n",
    " 'George Herbert Walker Bush': 'Massachussetts',\n",
    " 'Ronald Wilson Reagan': 'Illinois',\n",
    " 'James Earl Carter, Jr': 'Georgia'}\n",
    " \n",
    " \n",
    ">>> P_dict = {'Barack Hussein Obama II': 'Hawaii', \n",
    " 'George Walker Bush': 'Connecticut', \n",
    " 'William Jefferson Clinton': 'Arkansas',\n",
    " 'George Herbert Walker Bush': 'Massachussetts',\n",
    " 'Ronald Wilson Reagan': 'Illinois',\n",
    " 'James Earl Carter, Jr': 'Georgia'}\n",
    "\n",
    ">>> birthstate(P_dict)\n",
    "Name of U.S. President: George Walker Bush\n",
    "Connecticut\n",
    "Name of U.S. President: William \n",
    "Wrong Name!\n",
    "\"\"\""
   ]
  },
  {
   "cell_type": "code",
   "execution_count": 13,
   "metadata": {},
   "outputs": [],
   "source": [
    "def birthstate(dict):\n",
    "    while True:\n",
    "        name = input('Name of U.S. President: ')\n",
    "        if name not in dict:\n",
    "            print('Wrong Name!')\n",
    "            break\n",
    "        print(dict[name])"
   ]
  },
  {
   "cell_type": "code",
   "execution_count": 14,
   "metadata": {},
   "outputs": [],
   "source": [
    "P_dict = {'Barack Hussein Obama II': 'Hawaii', \n",
    " 'George Walker Bush': 'Connecticut', \n",
    " 'William Jefferson Clinton': 'Arkansas',\n",
    " 'George Herbert Walker Bush': 'Massachussetts',\n",
    " 'Ronald Wilson Reagan': 'Illinois',\n",
    " 'James Earl Carter, Jr': 'Georgia'}"
   ]
  },
  {
   "cell_type": "code",
   "execution_count": 15,
   "metadata": {},
   "outputs": [
    {
     "name": "stdout",
     "output_type": "stream",
     "text": [
      "Name of U.S. President: George Walker Bush\n",
      "Connecticut\n",
      "Name of U.S. President: William\n",
      "Wrong Name!\n"
     ]
    }
   ],
   "source": [
    "birthstate(P_dict)"
   ]
  },
  {
   "cell_type": "code",
   "execution_count": null,
   "metadata": {},
   "outputs": [],
   "source": [
    "\"\"\"\n",
    "Write a function lookup() that:\n",
    "\n",
    "Implements a phone book lookup application. \n",
    "\n",
    "Your function takes, as input, a dictionary representing a phone book,\n",
    "mapping tuples (containing the first and last name) \n",
    "to strings (containing phone numbers) \n",
    "\n",
    "It repeats 1) requesting an user to input first name and last name, and 2) printing out one's phone number.\n",
    "If an user input nothing, stop the iteration\n",
    "\n",
    ">>> phonebook = {('Anna', 'Karenina'): '(123) 456-7890',\n",
    "                ('Yu', 'Tsun'): '(901) 234-5678',\n",
    "                ('Hans', 'Castorp'): '(321) 908-7654'}\n",
    "\n",
    ">>> lookup(phonebook)\n",
    "Enter the first name: Anna\n",
    "Enter the last name: Karenina\n",
    "(123) 456-7890\n",
    "Enter the first name: \n",
    "\"\"\""
   ]
  },
  {
   "cell_type": "code",
   "execution_count": 16,
   "metadata": {},
   "outputs": [],
   "source": [
    "def lookup(dict):\n",
    "    while True:\n",
    "        fname = input('Enter the first name: ')\n",
    "        if fname == '':\n",
    "            break\n",
    "        lname = input('Enter the last name: ')\n",
    "        if lname == '':\n",
    "            break\n",
    "        kname = (fname, lname)\n",
    "        print(dict[kname])"
   ]
  },
  {
   "cell_type": "code",
   "execution_count": 17,
   "metadata": {},
   "outputs": [],
   "source": [
    "phonebook = {\n",
    "    ('Anna', 'Karenina'): '(123) 456-7890',\n",
    "    ('Yu', 'Tsun'): '(901) 234-5678',\n",
    "    ('Hans', 'Castorp'): '(321) 908-7654'}"
   ]
  },
  {
   "cell_type": "code",
   "execution_count": 18,
   "metadata": {},
   "outputs": [
    {
     "name": "stdout",
     "output_type": "stream",
     "text": [
      "Enter the first name: Anna\n",
      "Enter the last name: Karenina\n",
      "(123) 456-7890\n",
      "Enter the first name: \n"
     ]
    }
   ],
   "source": [
    "lookup(phonebook)"
   ]
  },
  {
   "cell_type": "code",
   "execution_count": 19,
   "metadata": {},
   "outputs": [],
   "source": [
    "def lookup(dict):\n",
    "    while True:\n",
    "        fname = input('Enter the first name: ')\n",
    "        lname = input('Enter the last name: ')\n",
    "        if lname == '' or fname == '':\n",
    "            break\n",
    "        kname = (fname, lname)\n",
    "        print(dict[kname])"
   ]
  },
  {
   "cell_type": "code",
   "execution_count": 20,
   "metadata": {},
   "outputs": [],
   "source": [
    "phonebook = {\n",
    "    ('Anna', 'Karenina'): '(123) 456-7890',\n",
    "    ('Yu', 'Tsun'): '(901) 234-5678',\n",
    "    ('Hans', 'Castorp'): '(321) 908-7654'}"
   ]
  },
  {
   "cell_type": "code",
   "execution_count": 21,
   "metadata": {},
   "outputs": [
    {
     "name": "stdout",
     "output_type": "stream",
     "text": [
      "Enter the first name: Anna\n",
      "Enter the last name: Karenina\n",
      "(123) 456-7890\n",
      "Enter the first name: \n",
      "Enter the last name: \n"
     ]
    }
   ],
   "source": [
    "lookup(phonebook)"
   ]
  },
  {
   "cell_type": "markdown",
   "metadata": {},
   "source": [
    "# Random Module"
   ]
  },
  {
   "cell_type": "code",
   "execution_count": null,
   "metadata": {},
   "outputs": [],
   "source": [
    "'''\n",
    "Write a function coin() that:\n",
    "\n",
    "Returns 'Heads' or 'Tails' with equal probability.\n",
    "\n",
    ">>> coin()\n",
    "'Heads'\n",
    ">>> coin()\n",
    "'Heads'\n",
    ">>> coin()\n",
    "'Tails'\n",
    "'''"
   ]
  },
  {
   "cell_type": "code",
   "execution_count": 22,
   "metadata": {},
   "outputs": [],
   "source": [
    "def coin():\n",
    "    import random\n",
    "    t = random.randrange(2)\n",
    "    if t == 0:\n",
    "        return 'Heads'\n",
    "    else:\n",
    "        return 'Tails'"
   ]
  },
  {
   "cell_type": "code",
   "execution_count": 23,
   "metadata": {},
   "outputs": [
    {
     "data": {
      "text/plain": [
       "'Heads'"
      ]
     },
     "execution_count": 23,
     "metadata": {},
     "output_type": "execute_result"
    }
   ],
   "source": [
    "coin()"
   ]
  },
  {
   "cell_type": "code",
   "execution_count": 24,
   "metadata": {},
   "outputs": [
    {
     "data": {
      "text/plain": [
       "'Tails'"
      ]
     },
     "execution_count": 24,
     "metadata": {},
     "output_type": "execute_result"
    }
   ],
   "source": [
    "coin()"
   ]
  },
  {
   "cell_type": "code",
   "execution_count": 25,
   "metadata": {},
   "outputs": [
    {
     "data": {
      "text/plain": [
       "'Tails'"
      ]
     },
     "execution_count": 25,
     "metadata": {},
     "output_type": "execute_result"
    }
   ],
   "source": [
    "coin()"
   ]
  },
  {
   "cell_type": "code",
   "execution_count": null,
   "metadata": {},
   "outputs": [],
   "source": [
    "'''\n",
    "Implement function guess() that:\n",
    "\n",
    "(1) Takes as input an integer n; and\n",
    "(2) Implements a simple, interactive number guessing game.\n",
    "\n",
    "The function should start by choosing a random number \n",
    "in the range from 0 up to but not including n.\n",
    "The function will then repeatedly ask the user to guess\n",
    "the chosen number; When the user guesses correctly, the function\n",
    "should print a 'You got it.' message and terminate.\n",
    "Each time the user guesses incorrectly, the function should\n",
    "help the user by pringing message 'Too low.', or 'Too high.'.\n",
    "\n",
    ">>> guess(100)\n",
    "Enter your guess: 50\n",
    "Too low.\n",
    "Enter your guess: 75\n",
    "Too high.\n",
    "Enter your guess: 62\n",
    "Too high.\n",
    "Enter your guess: 56\n",
    "Too low.\n",
    "Enter your guess: 59\n",
    "Too high.\n",
    "Enter your guess: 57\n",
    "You got it!\n",
    "'''"
   ]
  },
  {
   "cell_type": "code",
   "execution_count": 26,
   "metadata": {},
   "outputs": [],
   "source": [
    "def guess(n):\n",
    "    import random\n",
    "    t = random.randrange(n)\n",
    "    while True:\n",
    "        g = input('Enter your guess: ')\n",
    "        if int(g) == t:\n",
    "            print('You got it!')\n",
    "            break\n",
    "        elif int(g) > t:\n",
    "                print('Too high.')\n",
    "        else:\n",
    "            print('Too low.')"
   ]
  },
  {
   "cell_type": "code",
   "execution_count": 27,
   "metadata": {},
   "outputs": [
    {
     "name": "stdout",
     "output_type": "stream",
     "text": [
      "Enter your guess: 50\n",
      "Too low.\n",
      "Enter your guess: 75\n",
      "Too low.\n",
      "Enter your guess: 90\n",
      "Too high.\n",
      "Enter your guess: 85\n",
      "Too high.\n",
      "Enter your guess: 80\n",
      "Too high.\n",
      "Enter your guess: 79\n",
      "Too high.\n",
      "Enter your guess: 78\n",
      "You got it!\n"
     ]
    }
   ],
   "source": [
    "guess(100)"
   ]
  },
  {
   "cell_type": "code",
   "execution_count": null,
   "metadata": {},
   "outputs": [],
   "source": [
    "'''\n",
    "Develop function game() that:\n",
    "\n",
    "(1) Takes integers r and c as input;\n",
    "(2) Generates a field of r rows and c columns with a bomb at a randomly chosen row and column; and\n",
    "(3) Then asks users to find the bomb.\n",
    "\n",
    ">>> game(2, 3)\n",
    "Enter next position (format: x y): 1 2\n",
    "No bomb at position 1 2 \n",
    "Enter next position (format: x y): 1 1\n",
    "No bomb at position 1 1 \n",
    "Enter next position (format: x y): 2 1\n",
    "You found the bomb!\n",
    "'''"
   ]
  },
  {
   "cell_type": "code",
   "execution_count": 28,
   "metadata": {},
   "outputs": [],
   "source": [
    "def game(r, c):\n",
    "    import random\n",
    "    t_r = random.randrange(1, r + 1)\n",
    "    t_c = random.randrange(1, c + 1)\n",
    "    while True:\n",
    "        guess = input('Enter next position (format: x y): ')\n",
    "        g_r = int(guess[0])\n",
    "        g_c = int(guess[-1])\n",
    "        if t_r == g_r and t_c == g_c:\n",
    "            print('You found the bomb!')\n",
    "            break\n",
    "        else:\n",
    "            print('No bomb at position {} {}'.format(g_r, g_c))"
   ]
  },
  {
   "cell_type": "code",
   "execution_count": 29,
   "metadata": {},
   "outputs": [
    {
     "name": "stdout",
     "output_type": "stream",
     "text": [
      "Enter next position (format: x y): 1 2\n",
      "You found the bomb!\n"
     ]
    }
   ],
   "source": [
    "game(2, 3)"
   ]
  }
 ],
 "metadata": {
  "anaconda-cloud": {},
  "kernelspec": {
   "display_name": "Python 3",
   "language": "python",
   "name": "python3"
  },
  "language_info": {
   "codemirror_mode": {
    "name": "ipython",
    "version": 3
   },
   "file_extension": ".py",
   "mimetype": "text/x-python",
   "name": "python",
   "nbconvert_exporter": "python",
   "pygments_lexer": "ipython3",
   "version": "3.8.8"
  }
 },
 "nbformat": 4,
 "nbformat_minor": 4
}
