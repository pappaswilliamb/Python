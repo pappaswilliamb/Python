{
 "cells": [
  {
   "cell_type": "markdown",
   "metadata": {},
   "source": [
    "# (1) Dictionary"
   ]
  },
  {
   "cell_type": "code",
   "execution_count": null,
   "metadata": {},
   "outputs": [],
   "source": [
    "'''\n",
    "Q1: Write a program that:\n",
    "\n",
    "Creates a dictionary, dic_1, mapping the following keys to values:\n",
    "    \n",
    "key-value pairs:\n",
    "1) apple and fruit\n",
    "2) strawberry and fruit\n",
    "3) brocolli and vegetable\n",
    "4) carrot and vegetable\n",
    "5) tomato and fruit\n",
    "\n",
    ">>> dic_1\n",
    "{'apple': 'fruit', \n",
    " 'strwberry': 'fruit', \n",
    " 'brocolli': 'vegetable', \n",
    " 'carrot': 'vegetable', \n",
    " 'tomato': 'fruit'}\n",
    "'''"
   ]
  },
  {
   "cell_type": "code",
   "execution_count": 1,
   "metadata": {},
   "outputs": [],
   "source": [
    "dic_1 = {'apple': 'fruit', 'strwberry': 'fruit', 'brocolli': 'vegetable', 'carrot': 'vegetable', 'tomato': 'fruit'}"
   ]
  },
  {
   "cell_type": "code",
   "execution_count": 2,
   "metadata": {},
   "outputs": [
    {
     "data": {
      "text/plain": [
       "{'apple': 'fruit',\n",
       " 'strwberry': 'fruit',\n",
       " 'brocolli': 'vegetable',\n",
       " 'carrot': 'vegetable',\n",
       " 'tomato': 'fruit'}"
      ]
     },
     "execution_count": 2,
     "metadata": {},
     "output_type": "execute_result"
    }
   ],
   "source": [
    "dic_1"
   ]
  },
  {
   "cell_type": "code",
   "execution_count": null,
   "metadata": {},
   "outputs": [],
   "source": [
    "'''\n",
    "Q2: Write a program that:\n",
    "\n",
    "Changes dic_1 by the following:\n",
    "    \n",
    "from tomato and fruit\n",
    "to tomato and vegetable\n",
    "\n",
    ">>> dic_1\n",
    "{'apple': 'fruit', \n",
    " 'strwberry': 'fruit', \n",
    " 'brocolli': 'vegetable', \n",
    " 'carrot': 'vegetable', \n",
    " 'tomato': 'vegetable'}\n",
    "'''"
   ]
  },
  {
   "cell_type": "code",
   "execution_count": 3,
   "metadata": {},
   "outputs": [],
   "source": [
    "dic_1['tomato'] = 'vegetable'"
   ]
  },
  {
   "cell_type": "code",
   "execution_count": 4,
   "metadata": {},
   "outputs": [
    {
     "data": {
      "text/plain": [
       "{'apple': 'fruit',\n",
       " 'strwberry': 'fruit',\n",
       " 'brocolli': 'vegetable',\n",
       " 'carrot': 'vegetable',\n",
       " 'tomato': 'vegetable'}"
      ]
     },
     "execution_count": 4,
     "metadata": {},
     "output_type": "execute_result"
    }
   ],
   "source": [
    "dic_1"
   ]
  },
  {
   "cell_type": "code",
   "execution_count": null,
   "metadata": {},
   "outputs": [],
   "source": [
    "'''\n",
    "Q3: Write a program that:\n",
    "\n",
    "(1) Counts a number of occurences of each value in the dic_1; and\n",
    "(2) Prints following messages:\n",
    "    \n",
    ">>> \n",
    "fruit appears 2 times.\n",
    "vegetable appears 3 times.\n",
    "'''"
   ]
  },
  {
   "cell_type": "code",
   "execution_count": 5,
   "metadata": {},
   "outputs": [
    {
     "name": "stdout",
     "output_type": "stream",
     "text": [
      "fruit appears 2 times.\n",
      "vegetable appears 3 times.\n"
     ]
    }
   ],
   "source": [
    "counters = {}\n",
    "\n",
    "for i in dic_1.values():\n",
    "    if i in counters:\n",
    "        counters[i] += 1\n",
    "    else:\n",
    "        counters[i] = 1\n",
    "\n",
    "for i in counters:\n",
    "    print('{} appears {} times.'.format(i, counters[i]))"
   ]
  },
  {
   "cell_type": "code",
   "execution_count": null,
   "metadata": {},
   "outputs": [],
   "source": [
    "'''\n",
    "Q4: Write a function lookup_dic() that:\n",
    "\n",
    "Implements an employee information management application.\n",
    "\n",
    "The function should take, as inputs, a dictionary representing a employee table,\n",
    "mapping strings (containing an employee number) as a key\n",
    "to tuples (containing first name and last name) as a value \n",
    "\n",
    "It repeats 1) requesting an user to input employee number, and \n",
    "           2) printing out one's first and last name.\n",
    "\n",
    "If an user inputs wrong number, it prints out \"Wrong number!\"\n",
    "If an user inputs nothing, stop the iteration and print out \"Goodbye.\"\n",
    "\n",
    ">>> employee = {'901234': ('Anna', 'Karenina'), \n",
    "                '321908': ('Yu', 'Tsun'), \n",
    "                '123456': ('Hans', 'Castorp')}\n",
    "\n",
    ">>> lookup_dic(employee)\n",
    "Enter the employee number: 321908\n",
    "Name: Yu Tsun\n",
    "Enter the employee number: 123456\n",
    "Name: Hans Castorp\n",
    "Enter the employee number: 001234\n",
    "Name: Wrong number!\n",
    "Enter the employee number: \n",
    "Goodbye.\n",
    "'''"
   ]
  },
  {
   "cell_type": "code",
   "execution_count": 6,
   "metadata": {},
   "outputs": [],
   "source": [
    "employee = {'901234': ('Anna', 'Karenina'), \n",
    "            '321908': ('Yu', 'Tsun'), \n",
    "            '123456': ('Hans', 'Castorp')}"
   ]
  },
  {
   "cell_type": "code",
   "execution_count": 7,
   "metadata": {},
   "outputs": [],
   "source": [
    "def lookup_dic(employee):\n",
    "    while True:\n",
    "        emp_no = input('Enter the employee number: ')\n",
    "        a = employee.values()\n",
    "        b = list(a)\n",
    "        if emp_no in employee:\n",
    "            print('Name:', * employee[emp_no])\n",
    "        elif emp_no == '':\n",
    "            print('Goodbye.')\n",
    "            break\n",
    "        else:\n",
    "            print('Name: Wrong number!')"
   ]
  },
  {
   "cell_type": "code",
   "execution_count": 5,
   "metadata": {},
   "outputs": [
    {
     "name": "stdin",
     "output_type": "stream",
     "text": [
      "Enter the employee number:  321908\n"
     ]
    },
    {
     "name": "stdout",
     "output_type": "stream",
     "text": [
      "Name: Yu Tsun\n"
     ]
    },
    {
     "name": "stdin",
     "output_type": "stream",
     "text": [
      "Enter the employee number:  123456\n"
     ]
    },
    {
     "name": "stdout",
     "output_type": "stream",
     "text": [
      "Name: Hans Castorp\n"
     ]
    },
    {
     "name": "stdin",
     "output_type": "stream",
     "text": [
      "Enter the employee number:  001234\n"
     ]
    },
    {
     "name": "stdout",
     "output_type": "stream",
     "text": [
      "Name: Wrong number!\n"
     ]
    },
    {
     "name": "stdin",
     "output_type": "stream",
     "text": [
      "Enter the employee number:  \n"
     ]
    },
    {
     "name": "stdout",
     "output_type": "stream",
     "text": [
      "Goodbye.\n"
     ]
    }
   ],
   "source": [
    "lookup_dic(employee)"
   ]
  },
  {
   "cell_type": "code",
   "execution_count": null,
   "metadata": {},
   "outputs": [],
   "source": [
    "'''\n",
    "Q5: Write a function create_dic() that:\n",
    "\n",
    "Implements an employee information management application. \n",
    "\n",
    "The function takes nothing,\n",
    "mapping strings (containing an employee number) as a key\n",
    "to tuples (containing first name and last name) as a value \n",
    "\n",
    "It 1) repeats requesting an user to input employee number, firt name, and last name\n",
    "   2) returns the employee table (i.e. dictionary) and stops the iteration, as an user inputs nothing.\n",
    "\n",
    ">>> create_dic()\n",
    "Enter the employee number: 901234\n",
    "Enter the first name: Anna\n",
    "Enter the last name: Karenina\n",
    "Enter the employee number: 321908\n",
    "Enter the first name: Yu\n",
    "Enter the last name: Tsun\n",
    "Enter the employee number: 123456\n",
    "Enter the first name: Hans\n",
    "Enter the last name: Castorp\n",
    "Enter the employee number: \n",
    "{'901234': ('Anna', 'Karenina'), '321908': ('Yu', 'Tsun'), '123456': ('Hans', 'Castorp')}\n",
    "'''"
   ]
  },
  {
   "cell_type": "code",
   "execution_count": 8,
   "metadata": {},
   "outputs": [],
   "source": [
    "def create_dic():\n",
    "    dict1 = {}\n",
    "    dict2 = {}\n",
    "    dict3 = {}\n",
    "    while True:\n",
    "        emp_no = input('Enter the employee number:')\n",
    "        if emp_no == '':\n",
    "            break\n",
    "        fname = input('Enter the first name:')\n",
    "        lname = input('Enter the last name:')\n",
    "        emps = {emp_no:(fname, lname)}\n",
    "        dict1.update(emps)\n",
    "        dict2.update(dict1)\n",
    "        dict3.update(dict2)\n",
    "    print(dict3)"
   ]
  },
  {
   "cell_type": "code",
   "execution_count": 9,
   "metadata": {},
   "outputs": [
    {
     "name": "stdout",
     "output_type": "stream",
     "text": [
      "Enter the employee number:901234\n",
      "Enter the first name:Anna\n",
      "Enter the last name:Karenina\n",
      "Enter the employee number:321908\n",
      "Enter the first name:Yu\n",
      "Enter the last name:Tsun\n",
      "Enter the employee number:123456\n",
      "Enter the first name:Hans\n",
      "Enter the last name:Castorp\n",
      "Enter the employee number:\n",
      "{'901234': ('Anna', 'Karenina'), '321908': ('Yu', 'Tsun'), '123456': ('Hans', 'Castorp')}\n"
     ]
    }
   ],
   "source": [
    "create_dic()"
   ]
  },
  {
   "cell_type": "markdown",
   "metadata": {},
   "source": [
    "# (2) Random Module"
   ]
  },
  {
   "cell_type": "code",
   "execution_count": null,
   "metadata": {},
   "outputs": [],
   "source": [
    "'''\n",
    "Q6: Write a function rand_n() that:\n",
    "\n",
    "(1) Takes a bound as an input; and\n",
    "(2) Returns a random positive integer number lower than the bound.\n",
    "\n",
    ">>> rand_n(10)\n",
    "3\n",
    ">>> rand_n(100)\n",
    "13\n",
    "'''"
   ]
  },
  {
   "cell_type": "code",
   "execution_count": 10,
   "metadata": {},
   "outputs": [],
   "source": [
    "def rand_n(bound):\n",
    "    import random\n",
    "    t = random.randrange(bound)\n",
    "    return t"
   ]
  },
  {
   "cell_type": "code",
   "execution_count": 11,
   "metadata": {},
   "outputs": [
    {
     "data": {
      "text/plain": [
       "2"
      ]
     },
     "execution_count": 11,
     "metadata": {},
     "output_type": "execute_result"
    }
   ],
   "source": [
    "rand_n(10)"
   ]
  },
  {
   "cell_type": "code",
   "execution_count": 12,
   "metadata": {},
   "outputs": [
    {
     "data": {
      "text/plain": [
       "46"
      ]
     },
     "execution_count": 12,
     "metadata": {},
     "output_type": "execute_result"
    }
   ],
   "source": [
    "rand_n(100)"
   ]
  },
  {
   "cell_type": "code",
   "execution_count": null,
   "metadata": {},
   "outputs": [],
   "source": [
    "'''\n",
    "Q7: Write a function random_choice() that:\n",
    "\n",
    "(1) Takes a list as an input; and\n",
    "(2) Randomly selects an item in the list and returns it.\n",
    "\n",
    ">>> random_choice(['apple', 'pear', 'strawberry', 'rasberry'])\n",
    "'apple'\n",
    ">>> random_choice(['apple', 'pear', 'strawberry', 'rasberry'])\n",
    "'rasberry'\n",
    ">>> random_choice(['apple', 'pear', 'strawberry', 'rasberry'])\n",
    "'pear'\n",
    "'''"
   ]
  },
  {
   "cell_type": "code",
   "execution_count": 13,
   "metadata": {},
   "outputs": [],
   "source": [
    "def random_choice(lst):\n",
    "    import random\n",
    "    return random.choice(lst)"
   ]
  },
  {
   "cell_type": "code",
   "execution_count": 14,
   "metadata": {},
   "outputs": [
    {
     "data": {
      "text/plain": [
       "'strawberry'"
      ]
     },
     "execution_count": 14,
     "metadata": {},
     "output_type": "execute_result"
    }
   ],
   "source": [
    "random_choice(['apple', 'pear', 'strawberry', 'rasberry'])"
   ]
  },
  {
   "cell_type": "code",
   "execution_count": 15,
   "metadata": {},
   "outputs": [
    {
     "data": {
      "text/plain": [
       "'rasberry'"
      ]
     },
     "execution_count": 15,
     "metadata": {},
     "output_type": "execute_result"
    }
   ],
   "source": [
    "random_choice(['apple', 'pear', 'strawberry', 'rasberry'])"
   ]
  },
  {
   "cell_type": "code",
   "execution_count": 16,
   "metadata": {},
   "outputs": [
    {
     "data": {
      "text/plain": [
       "'apple'"
      ]
     },
     "execution_count": 16,
     "metadata": {},
     "output_type": "execute_result"
    }
   ],
   "source": [
    "random_choice(['apple', 'pear', 'strawberry', 'rasberry'])"
   ]
  },
  {
   "cell_type": "code",
   "execution_count": null,
   "metadata": {},
   "outputs": [],
   "source": [
    "'''\n",
    "Q8: Write a function dice() that returns an integer from 1 to 6 with equal probability.\n",
    "\n",
    ">>> dice()\n",
    "3\n",
    ">>> dice()\n",
    "1\n",
    ">>> dice()\n",
    "5\n",
    "'''"
   ]
  },
  {
   "cell_type": "code",
   "execution_count": 17,
   "metadata": {},
   "outputs": [],
   "source": [
    "def dice():\n",
    "    import random\n",
    "    a = random.randrange(1, 7)\n",
    "    return a"
   ]
  },
  {
   "cell_type": "code",
   "execution_count": 18,
   "metadata": {},
   "outputs": [
    {
     "data": {
      "text/plain": [
       "5"
      ]
     },
     "execution_count": 18,
     "metadata": {},
     "output_type": "execute_result"
    }
   ],
   "source": [
    "dice()"
   ]
  },
  {
   "cell_type": "code",
   "execution_count": 19,
   "metadata": {},
   "outputs": [
    {
     "data": {
      "text/plain": [
       "5"
      ]
     },
     "execution_count": 19,
     "metadata": {},
     "output_type": "execute_result"
    }
   ],
   "source": [
    "dice()"
   ]
  },
  {
   "cell_type": "code",
   "execution_count": 20,
   "metadata": {},
   "outputs": [
    {
     "data": {
      "text/plain": [
       "4"
      ]
     },
     "execution_count": 20,
     "metadata": {},
     "output_type": "execute_result"
    }
   ],
   "source": [
    "dice()"
   ]
  },
  {
   "cell_type": "code",
   "execution_count": null,
   "metadata": {},
   "outputs": [],
   "source": [
    "'''\n",
    "Q9: Write function dice_game() that:\n",
    "\n",
    "(1) Has two players (i.e. A and B) who roll a dice ranging from 1 to 6; and\n",
    "(2) Prints out following messages that show:\n",
    "    1) Each player's dice value;\n",
    "    2) The winner; and\n",
    "    3) If the dice values are same, prints out \"Draw!\".\"\n",
    "        \n",
    ">>> dice_game()\n",
    "A:3, B:4\n",
    "B is the winner!\n",
    "\n",
    ">>> dice_game()\n",
    "A:5, B:2\n",
    "A is the winner!\n",
    "\n",
    ">>> dice_game()\n",
    "A:4, B:4\n",
    "Draw!\n",
    "'''"
   ]
  },
  {
   "cell_type": "code",
   "execution_count": 21,
   "metadata": {},
   "outputs": [],
   "source": [
    "def dice_game():\n",
    "    import random\n",
    "    a = random.randrange(1, 7)\n",
    "    b = random.randrange(1, 7)\n",
    "    print('A:{}, B:{}'.format(a, b))\n",
    "    \n",
    "    if a > b:\n",
    "        print('A is the winner!')\n",
    "    elif a < b:\n",
    "        print('B is the winner!')\n",
    "    else:\n",
    "        print('Draw!')"
   ]
  },
  {
   "cell_type": "code",
   "execution_count": 22,
   "metadata": {},
   "outputs": [
    {
     "name": "stdout",
     "output_type": "stream",
     "text": [
      "A:2, B:2\n",
      "Draw!\n"
     ]
    }
   ],
   "source": [
    "dice_game()"
   ]
  },
  {
   "cell_type": "code",
   "execution_count": 23,
   "metadata": {},
   "outputs": [
    {
     "name": "stdout",
     "output_type": "stream",
     "text": [
      "A:5, B:4\n",
      "A is the winner!\n"
     ]
    }
   ],
   "source": [
    "dice_game()"
   ]
  },
  {
   "cell_type": "code",
   "execution_count": 24,
   "metadata": {},
   "outputs": [
    {
     "name": "stdout",
     "output_type": "stream",
     "text": [
      "A:4, B:5\n",
      "B is the winner!\n"
     ]
    }
   ],
   "source": [
    "dice_game()"
   ]
  },
  {
   "cell_type": "code",
   "execution_count": null,
   "metadata": {},
   "outputs": [],
   "source": [
    "'''\n",
    "Q10: Write function dice_game_summary() that:\n",
    "\n",
    "(1) Takes a number of games (i.e. rounds) as an input;\n",
    "(2) Has two players (i.e. A and B) who roll a dice ranging from 1 to 6\n",
    "(3) It repeatedly prints out the result of each round that shows:\n",
    "    1) Each player's dice value;\n",
    "    2) The winner; and\n",
    "    3) If the dice values are same, prints out \"Draw!\"; and\n",
    "(4) After running all rounds, it prints out the summary by following:\n",
    "    1) A number of winning games of A;\n",
    "    2) A number of winning games of B;\n",
    "    3) The final champion; and\n",
    "    4) If the number of winning games are same, prints out \"Unbelievable!\".\n",
    "        \n",
    ">>> dice_game_summary(3)\n",
    "A:3, B:4\n",
    "B is the winner!\n",
    "A:5, B:2\n",
    "A is the winner!\n",
    "A:4, B:4\n",
    "Draw!\n",
    "Winning games of A: 1\n",
    "Winning games of B: 1\n",
    "Unbelievable!\n",
    "\n",
    ">>> dice_game_summary(4)\n",
    "A:2, B:6\n",
    "B is the winner!\n",
    "A:3, B:4\n",
    "B is the winner!\n",
    "A:5, B:2\n",
    "A is the winner!\n",
    "A:4, B:4\n",
    "Draw!\n",
    "Winning games of A: 2\n",
    "Winning games of B: 1\n",
    "Final Champion is A!\n",
    "'''"
   ]
  },
  {
   "cell_type": "code",
   "execution_count": 25,
   "metadata": {},
   "outputs": [],
   "source": [
    "def dice_game_summary(n):\n",
    "    \n",
    "        def dice_game():\n",
    "            import random\n",
    "            a = random.randrange(1, 7)\n",
    "            b = random.randrange(1, 7)\n",
    "            print('A:{}, B:{}'.format(a, b))\n",
    "\n",
    "            if a > b:\n",
    "                return 'A is the winner!'\n",
    "            elif a < b:\n",
    "                return 'B is the winner!'\n",
    "            else:\n",
    "                return'Draw!'\n",
    "    \n",
    "        lst1 = 0\n",
    "        lst2 = 0\n",
    "        lst3 = 0\n",
    "        for i in range(n):\n",
    "            import random\n",
    "            a_rand = random.randrange(1, 7)\n",
    "            b_rand = random.randrange(1, 7)\n",
    "            if a_rand > b_rand:\n",
    "                lst1 += 1\n",
    "            elif a_rand < b_rand:\n",
    "                lst2 += 1\n",
    "            else:\n",
    "                lst3 += 1\n",
    "            print(dice_game())\n",
    "\n",
    "        print('Winning games of A: {}'.format(lst1))\n",
    "        print('Winning games of B: {}'.format(lst2))\n",
    "        if lst1 > lst2:\n",
    "            print('Final champion is A!')\n",
    "        elif lst1 < lst2:\n",
    "            print('Final champion is B!')\n",
    "        else:\n",
    "            print('Unbelievable!')"
   ]
  },
  {
   "cell_type": "code",
   "execution_count": 26,
   "metadata": {},
   "outputs": [
    {
     "name": "stdout",
     "output_type": "stream",
     "text": [
      "A:5, B:3\n",
      "A is the winner!\n",
      "A:6, B:3\n",
      "A is the winner!\n",
      "A:6, B:6\n",
      "Draw!\n",
      "A:1, B:4\n",
      "B is the winner!\n",
      "A:5, B:2\n",
      "A is the winner!\n",
      "A:6, B:5\n",
      "A is the winner!\n",
      "A:3, B:1\n",
      "A is the winner!\n",
      "A:4, B:2\n",
      "A is the winner!\n",
      "A:1, B:2\n",
      "B is the winner!\n",
      "A:6, B:5\n",
      "A is the winner!\n",
      "Winning games of A: 2\n",
      "Winning games of B: 6\n",
      "Final champion is B!\n"
     ]
    }
   ],
   "source": [
    "dice_game_summary(10)"
   ]
  }
 ],
 "metadata": {
  "anaconda-cloud": {},
  "kernelspec": {
   "display_name": "Python 3",
   "language": "python",
   "name": "python3"
  },
  "language_info": {
   "codemirror_mode": {
    "name": "ipython",
    "version": 3
   },
   "file_extension": ".py",
   "mimetype": "text/x-python",
   "name": "python",
   "nbconvert_exporter": "python",
   "pygments_lexer": "ipython3",
   "version": "3.8.8"
  }
 },
 "nbformat": 4,
 "nbformat_minor": 4
}
