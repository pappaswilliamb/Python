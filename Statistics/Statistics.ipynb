{
 "cells": [
  {
   "cell_type": "code",
   "execution_count": 4,
   "id": "0cd21714",
   "metadata": {},
   "outputs": [],
   "source": [
    "num_friends = [100, 49, 41, 40, 25, 21, 21, 19, 19, 18, 18, 16, 15, 15, 15, 15, 14, 14, 13, 13, 13, 13, 12, 12, 11, 10, 10, 10, 10, 10, 10, 10, 10, 10, 10, 10, 10, 10, 10, 10, 9, 9, 9, 9, 9, 9, 9, 9, 9, 9, 9, 9, 9, 9, 9, 9, 9, 9, 8, 8, 8, 8, 8, 8, 8, 8, 8, 8, 8, 8, 8, 7, 7, 7, 7, 7, 7, 7, 7, 7, 7, 7, 7, 7, 7, 7, 6, 6, 6, 6, 6, 6, 6, 6, 6, 6, 6, 6, 6, 6, 6, 6, 6, 6, 6, 6, 6, 6, 5, 5, 5, 5, 5, 5, 5, 5, 5, 5, 5, 5, 5, 5, 5, 5, 5, 4, 4, 4, 4, 4, 4, 4, 4, 4, 4, 4, 4, 4, 4, 4, 4, 4, 4, 4, 4, 3, 3, 3, 3, 3, 3, 3, 3, 3, 3, 3, 3, 3, 3, 3, 3, 3, 3, 3, 3, 2, 2, 2, 2, 2, 2, 2, 2, 2, 2, 2, 2, 2, 2, 2, 2, 2, 1, 1, 1, 1, 1, 1, 1, 1, 1, 1, 1, 1, 1, 1, 1, 1, 1, 1, 1, 1, 1, 1]"
   ]
  },
  {
   "cell_type": "code",
   "execution_count": 5,
   "id": "206d15af",
   "metadata": {},
   "outputs": [],
   "source": [
    "from collections import Counter\n",
    "import matplotlib.pyplot as plt"
   ]
  },
  {
   "cell_type": "code",
   "execution_count": 6,
   "id": "1c7b55e6",
   "metadata": {},
   "outputs": [
    {
     "data": {
      "text/plain": [
       "Text(0, 0.5, 'Number of People')"
      ]
     },
     "execution_count": 6,
     "metadata": {},
     "output_type": "execute_result"
    },
    {
     "data": {
      "image/png": "[encoded data removed]",
      "text/plain": [
       "<Figure size 432x288 with 1 Axes>"
      ]
     },
     "metadata": {
      "needs_background": "light"
     },
     "output_type": "display_data"
    }
   ],
   "source": [
    "friend_counts = Counter(num_friends)\n",
    "xs = range(101)                         # The largest value is 100\n",
    "ys = [friend_counts[x] for x in xs]     # The height is just the number of friends\n",
    "plt.bar(xs, ys)\n",
    "plt.axis([0, 101, 0, 25])\n",
    "plt.title(\"Histogram of Friend Counts\")\n",
    "plt.xlabel(\"Number of Friends\")\n",
    "plt.ylabel(\"Number of People\")\n",
    "# plt.show()"
   ]
  },
  {
   "cell_type": "code",
   "execution_count": 7,
   "id": "e7a7e272",
   "metadata": {},
   "outputs": [],
   "source": [
    "num_points = len(num_friends)               # 204"
   ]
  },
  {
   "cell_type": "code",
   "execution_count": 8,
   "id": "1190597c",
   "metadata": {},
   "outputs": [],
   "source": [
    "assert num_points == 204"
   ]
  },
  {
   "cell_type": "code",
   "execution_count": 9,
   "id": "7193513d",
   "metadata": {},
   "outputs": [],
   "source": [
    "largest_value = max(num_friends)            # 100\n",
    "smallest_value = min(num_friends)           # 1"
   ]
  },
  {
   "cell_type": "code",
   "execution_count": 10,
   "id": "771b7e3b",
   "metadata": {},
   "outputs": [],
   "source": [
    "assert largest_value == 100\n",
    "assert smallest_value == 1"
   ]
  },
  {
   "cell_type": "code",
   "execution_count": 11,
   "id": "4e3fb27b",
   "metadata": {},
   "outputs": [],
   "source": [
    "sorted_values = sorted(num_friends)\n",
    "smallest_value = sorted_values[0]           # 1\n",
    "second_smallest_value = sorted_values[1]    # 1\n",
    "second_largest_value = sorted_values[-2]    # 49"
   ]
  },
  {
   "cell_type": "code",
   "execution_count": 12,
   "id": "f40068c6",
   "metadata": {},
   "outputs": [],
   "source": [
    "assert smallest_value == 1"
   ]
  },
  {
   "cell_type": "code",
   "execution_count": 13,
   "id": "93adfb0c",
   "metadata": {},
   "outputs": [],
   "source": [
    "assert second_smallest_value == 1"
   ]
  },
  {
   "cell_type": "code",
   "execution_count": 14,
   "id": "9df1a177",
   "metadata": {},
   "outputs": [],
   "source": [
    "assert second_largest_value == 49"
   ]
  },
  {
   "cell_type": "code",
   "execution_count": 15,
   "id": "a9c25e3d",
   "metadata": {},
   "outputs": [],
   "source": [
    "from typing import List"
   ]
  },
  {
   "cell_type": "code",
   "execution_count": 16,
   "id": "29a7f667",
   "metadata": {},
   "outputs": [],
   "source": [
    "def mean(xs: List[float]) -> float:\n",
    "    return sum(xs) / len(xs)"
   ]
  },
  {
   "cell_type": "code",
   "execution_count": 17,
   "id": "fe439615",
   "metadata": {},
   "outputs": [
    {
     "data": {
      "text/plain": [
       "7.333333333333333"
      ]
     },
     "execution_count": 17,
     "metadata": {},
     "output_type": "execute_result"
    }
   ],
   "source": [
    "mean(num_friends)   # 7.333333"
   ]
  },
  {
   "cell_type": "code",
   "execution_count": 18,
   "id": "f6a95185",
   "metadata": {},
   "outputs": [],
   "source": [
    "assert 7.3333 < mean(num_friends) < 7.3334"
   ]
  },
  {
   "cell_type": "code",
   "execution_count": 19,
   "id": "1d6e5914",
   "metadata": {},
   "outputs": [],
   "source": [
    "# The Underscores Indicate That These Are Private Functions, as They're\n",
    "# Intended to Be Called by the Median Function but Not by Other People\n",
    "# Using the Statistics Library\n",
    "\n",
    "def _median_odd(xs: List[float]) -> float:\n",
    "    \"\"\"If len(xs) is odd, the median is the middle element\"\"\"\n",
    "    return sorted(xs)[len(xs) // 2]"
   ]
  },
  {
   "cell_type": "code",
   "execution_count": 20,
   "id": "f397c341",
   "metadata": {},
   "outputs": [],
   "source": [
    "def _median_even(xs: List[float]) -> float:\n",
    "    \"\"\"If len(xs) is even, it's the average of the middle two elements\"\"\"\n",
    "    sorted_xs = sorted(xs)\n",
    "    hi_midpoint = len(xs) // 2  # e.g. length 4 => hi_midpoint 2\n",
    "    return (sorted_xs[hi_midpoint - 1] + sorted_xs[hi_midpoint]) / 2"
   ]
  },
  {
   "cell_type": "code",
   "execution_count": 22,
   "id": "0b885af4",
   "metadata": {},
   "outputs": [],
   "source": [
    "def median(v: List[float]) -> float:\n",
    "    \"\"\"Finds the middle-most value of v\"\"\"\n",
    "    return _median_even(v) if len(v) % 2 == 0 else _median_odd(v)"
   ]
  },
  {
   "cell_type": "code",
   "execution_count": 23,
   "id": "c8c26c79",
   "metadata": {},
   "outputs": [],
   "source": [
    "assert median([1, 10, 2, 9, 5]) == 5"
   ]
  },
  {
   "cell_type": "code",
   "execution_count": 24,
   "id": "f4c01111",
   "metadata": {},
   "outputs": [],
   "source": [
    "assert median([1, 9, 2, 10]) == (2 + 9) / 2"
   ]
  },
  {
   "cell_type": "code",
   "execution_count": 25,
   "id": "d564f374",
   "metadata": {},
   "outputs": [],
   "source": [
    "assert median(num_friends) == 6"
   ]
  },
  {
   "cell_type": "code",
   "execution_count": 26,
   "id": "0806f7f5",
   "metadata": {},
   "outputs": [],
   "source": [
    "def quantile(xs: List[float], p: float) -> float:\n",
    "    \"\"\"Returns the p-th percentile value in x\"\"\"\n",
    "    p_index = int(p * len(xs))\n",
    "    return sorted(xs)[p_index]"
   ]
  },
  {
   "cell_type": "code",
   "execution_count": 27,
   "id": "8a3d54eb",
   "metadata": {},
   "outputs": [],
   "source": [
    "assert quantile(num_friends, 0.10) == 1"
   ]
  },
  {
   "cell_type": "code",
   "execution_count": 28,
   "id": "822397b3",
   "metadata": {},
   "outputs": [],
   "source": [
    "assert quantile(num_friends, 0.25) == 3"
   ]
  },
  {
   "cell_type": "code",
   "execution_count": 29,
   "id": "423b4937",
   "metadata": {},
   "outputs": [],
   "source": [
    "assert quantile(num_friends, 0.75) == 9"
   ]
  },
  {
   "cell_type": "code",
   "execution_count": 30,
   "id": "848ae137",
   "metadata": {},
   "outputs": [],
   "source": [
    "assert quantile(num_friends, 0.90) == 13"
   ]
  },
  {
   "cell_type": "code",
   "execution_count": 31,
   "id": "1dbb344d",
   "metadata": {},
   "outputs": [],
   "source": [
    "def mode(x: List[float]) -> List[float]:\n",
    "    \"\"\"Returns a list, since there might be more than one mode\"\"\"\n",
    "    counts = Counter(x)\n",
    "    max_count = max(counts.values())\n",
    "    return [x_i for x_i, count in counts.items()\n",
    "            if count == max_count]"
   ]
  },
  {
   "cell_type": "code",
   "execution_count": 32,
   "id": "fca351f9",
   "metadata": {},
   "outputs": [],
   "source": [
    "assert set(mode(num_friends)) == {1, 6}"
   ]
  },
  {
   "cell_type": "code",
   "execution_count": 33,
   "id": "70cecf87",
   "metadata": {},
   "outputs": [],
   "source": [
    "# \"range\" Already Means Something In Python, so We'll Use a Different Name\n",
    "\n",
    "def data_range(xs: List[float]) -> float:\n",
    "    return max(xs) - min(xs)"
   ]
  },
  {
   "cell_type": "code",
   "execution_count": 34,
   "id": "898e7022",
   "metadata": {},
   "outputs": [],
   "source": [
    "assert data_range(num_friends) == 99"
   ]
  },
  {
   "cell_type": "code",
   "execution_count": 43,
   "id": "2aa408b2",
   "metadata": {},
   "outputs": [],
   "source": [
    "from scratch.linear_algebra import sum_of_squares"
   ]
  },
  {
   "cell_type": "code",
   "execution_count": 44,
   "id": "e2720d0d",
   "metadata": {},
   "outputs": [],
   "source": [
    "def de_mean(xs: List[float]) -> List[float]:\n",
    "    \"\"\"Translate xs by subtracting its mean (so the result has mean 0)\"\"\"\n",
    "    x_bar = mean(xs)\n",
    "    return [x - x_bar for x in xs]"
   ]
  },
  {
   "cell_type": "code",
   "execution_count": 45,
   "id": "716fbf33",
   "metadata": {},
   "outputs": [],
   "source": [
    "def variance(xs: List[float]) -> float:\n",
    "    \"\"\"Almost the average squared deviation from the mean\"\"\"\n",
    "    assert len(xs) >= 2, \"Variance requires at least two elements\"\n",
    "\n",
    "    n = len(xs)\n",
    "    deviations = de_mean(xs)\n",
    "    return sum_of_squares(deviations) / (n - 1)"
   ]
  },
  {
   "cell_type": "code",
   "execution_count": 46,
   "id": "ce939bb6",
   "metadata": {},
   "outputs": [],
   "source": [
    "assert 81.54 < variance(num_friends) < 81.55"
   ]
  },
  {
   "cell_type": "code",
   "execution_count": 47,
   "id": "49536a4b",
   "metadata": {},
   "outputs": [],
   "source": [
    "import math"
   ]
  },
  {
   "cell_type": "code",
   "execution_count": 48,
   "id": "2703a46a",
   "metadata": {},
   "outputs": [],
   "source": [
    "def standard_deviation(xs: List[float]) -> float:\n",
    "    \"\"\"The standard deviation is the square root of the variance\"\"\"\n",
    "    return math.sqrt(variance(xs))"
   ]
  },
  {
   "cell_type": "code",
   "execution_count": 49,
   "id": "d956ea3d",
   "metadata": {},
   "outputs": [],
   "source": [
    "assert 9.02 < standard_deviation(num_friends) < 9.04"
   ]
  },
  {
   "cell_type": "code",
   "execution_count": 50,
   "id": "953ed274",
   "metadata": {},
   "outputs": [],
   "source": [
    "def interquartile_range(xs: List[float]) -> float:\n",
    "    \"\"\"Returns the difference between the 75th percentile and the 25th percentile\"\"\"\n",
    "    return quantile(xs, 0.75) - quantile(xs, 0.25)"
   ]
  },
  {
   "cell_type": "code",
   "execution_count": 51,
   "id": "f7e091ea",
   "metadata": {},
   "outputs": [],
   "source": [
    "assert interquartile_range(num_friends) == 6"
   ]
  },
  {
   "cell_type": "code",
   "execution_count": 52,
   "id": "92934ef1",
   "metadata": {},
   "outputs": [],
   "source": [
    "daily_minutes = [1, 68.77, 51.25, 52.08, 38.36, 44.54, 57.13, 51.4, 41.42, 31.22, 34.76, 54.01, 38.79, 47.59, 49.1, 27.66, 41.03, 36.73, 48.65, 28.12, 46.62, 35.57, 32.98, 35, 26.07, 23.77, 39.73, 40.57, 31.65, 31.21, 36.32, 20.45, 21.93, 26.02, 27.34, 23.49, 46.94, 30.5, 33.8, 24.23, 21.4, 27.94, 32.24, 40.57, 25.07, 19.42, 22.39, 18.42, 46.96, 23.72, 26.41, 26.97, 36.76, 40.32, 35.02, 29.47, 30.2, 31, 38.11, 38.18, 36.31, 21.03, 30.86, 36.07, 28.66, 29.08, 37.28, 15.28, 24.17, 22.31, 30.17, 25.53, 19.85, 35.37, 44.6, 17.23, 13.47, 26.33, 35.02, 32.09, 24.81, 19.33, 28.77, 24.26, 31.98, 25.73, 24.86, 16.28, 34.51, 15.23, 39.72, 40.8, 26.06, 35.76, 34.76, 16.13, 44.04, 18.03, 19.65, 32.62, 35.59, 39.43, 14.18, 35.24, 40.13, 41.82, 35.45, 36.07, 43.67, 24.61, 20.9, 21.9, 18.79, 27.61, 27.21, 26.61, 29.77, 20.59, 27.53, 13.82, 33.2, 25, 33.1, 36.65, 18.63, 14.87, 22.2, 36.81, 25.53, 24.62, 26.25, 18.21, 28.08, 19.42, 29.79, 32.8, 35.99, 28.32, 27.79, 35.88, 29.06, 36.28, 14.1, 36.63, 37.49, 26.9, 18.58, 38.48, 24.48, 18.95, 33.55, 14.24, 29.04, 32.51, 25.63, 22.22, 19, 32.73, 15.16, 13.9, 27.2, 32.01, 29.27, 33, 13.74, 20.42, 27.32, 18.23, 35.35, 28.48, 9.08, 24.62, 20.12, 35.26, 19.92, 31.02, 16.49, 12.16, 30.7, 31.22, 34.65, 13.13, 27.51, 33.2, 31.57, 14.1, 33.42, 17.44, 10.12, 24.42, 9.82, 23.39, 30.93, 15.03, 21.67, 31.09, 33.29, 22.61, 26.89, 23.48, 8.38, 27.81, 32.35, 23.84]"
   ]
  },
  {
   "cell_type": "code",
   "execution_count": 53,
   "id": "aff9699a",
   "metadata": {},
   "outputs": [],
   "source": [
    "daily_hours = [dm / 60 for dm in daily_minutes]"
   ]
  },
  {
   "cell_type": "code",
   "execution_count": 54,
   "id": "45e068dd",
   "metadata": {},
   "outputs": [],
   "source": [
    "from scratch.linear_algebra import dot"
   ]
  },
  {
   "cell_type": "code",
   "execution_count": 55,
   "id": "027c2393",
   "metadata": {},
   "outputs": [],
   "source": [
    "def covariance(xs: List[float], ys: List[float]) -> float:\n",
    "    assert len(xs) == len(ys), \"The xs and ys must have same number of elements\"\n",
    "\n",
    "    return dot(de_mean(xs), de_mean(ys)) / (len(xs) - 1)"
   ]
  },
  {
   "cell_type": "code",
   "execution_count": 56,
   "id": "3bd2d996",
   "metadata": {},
   "outputs": [],
   "source": [
    "assert 22.42 < covariance(num_friends, daily_minutes) < 22.43"
   ]
  },
  {
   "cell_type": "code",
   "execution_count": 57,
   "id": "18c181d1",
   "metadata": {},
   "outputs": [],
   "source": [
    "assert 22.42 / 60 < covariance(num_friends, daily_hours) < 22.43 / 60"
   ]
  },
  {
   "cell_type": "code",
   "execution_count": 58,
   "id": "e9e4432e",
   "metadata": {},
   "outputs": [],
   "source": [
    "def correlation(xs: List[float], ys: List[float]) -> float:\n",
    "    \"\"\"Measures how much the xs and ys vary in tandem about their means\"\"\"\n",
    "    stdev_x = standard_deviation(xs)\n",
    "    stdev_y = standard_deviation(ys)\n",
    "    if stdev_x > 0 and stdev_y > 0:\n",
    "        return covariance(xs, ys) / stdev_x / stdev_y\n",
    "    else:\n",
    "        return 0    # If there is no variation, then the correlation is zero"
   ]
  },
  {
   "cell_type": "code",
   "execution_count": 59,
   "id": "9fe01ce1",
   "metadata": {},
   "outputs": [],
   "source": [
    "assert 0.24 < correlation(num_friends, daily_minutes) < 0.25"
   ]
  },
  {
   "cell_type": "code",
   "execution_count": 60,
   "id": "84993e27",
   "metadata": {},
   "outputs": [],
   "source": [
    "assert 0.24 < correlation(num_friends, daily_hours) < 0.25"
   ]
  },
  {
   "cell_type": "code",
   "execution_count": 61,
   "id": "c7ef1759",
   "metadata": {},
   "outputs": [],
   "source": [
    "outlier = num_friends.index(100)    # Index of the outlier"
   ]
  },
  {
   "cell_type": "code",
   "execution_count": 62,
   "id": "01061370",
   "metadata": {},
   "outputs": [],
   "source": [
    "num_friends_good = [x\n",
    "                    for i, x in enumerate(num_friends)\n",
    "                    if i != outlier]"
   ]
  },
  {
   "cell_type": "code",
   "execution_count": 63,
   "id": "d32c5c40",
   "metadata": {},
   "outputs": [],
   "source": [
    "daily_minutes_good = [x\n",
    "                      for i, x in enumerate(daily_minutes)\n",
    "                      if i != outlier]"
   ]
  },
  {
   "cell_type": "code",
   "execution_count": 64,
   "id": "0606afca",
   "metadata": {},
   "outputs": [],
   "source": [
    "daily_hours_good = [dm / 60 for dm in daily_minutes_good]"
   ]
  },
  {
   "cell_type": "code",
   "execution_count": 65,
   "id": "db966b00",
   "metadata": {},
   "outputs": [],
   "source": [
    "assert 0.57 < correlation(num_friends_good, daily_minutes_good) < 0.58"
   ]
  },
  {
   "cell_type": "code",
   "execution_count": 66,
   "id": "aab0d445",
   "metadata": {},
   "outputs": [],
   "source": [
    "assert 0.57 < correlation(num_friends_good, daily_hours_good) < 0.58"
   ]
  }
 ],
 "metadata": {
  "kernelspec": {
   "display_name": "Python 3",
   "language": "python",
   "name": "python3"
  },
  "language_info": {
   "codemirror_mode": {
    "name": "ipython",
    "version": 3
   },
   "file_extension": ".py",
   "mimetype": "text/x-python",
   "name": "python",
   "nbconvert_exporter": "python",
   "pygments_lexer": "ipython3",
   "version": "3.8.8"
  }
 },
 "nbformat": 4,
 "nbformat_minor": 5
}
