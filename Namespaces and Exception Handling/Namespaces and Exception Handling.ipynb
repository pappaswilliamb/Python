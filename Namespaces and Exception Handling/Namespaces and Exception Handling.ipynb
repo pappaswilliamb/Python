{
 "cells": [
  {
   "cell_type": "markdown",
   "metadata": {},
   "source": [
    "# (1) Namespaces: Global vs. Local Variables"
   ]
  },
  {
   "cell_type": "code",
   "execution_count": null,
   "metadata": {},
   "outputs": [],
   "source": [
    "'''\n",
    "Q1: Let us assume that you've defined a function triple() as shown below:\n",
    "\n",
    "def triple(a):\n",
    "    b = 3\n",
    "    print('a = {}, b = {}'.format(a, b))\n",
    "    return a * b\n",
    "    \n",
    "In you function, a variable 'b' is local variable. \n",
    "\n",
    "Rewrite (i.e. redefine) the function triple() in which a variable 'b' is a global variable.\n",
    "'''"
   ]
  },
  {
   "cell_type": "code",
   "execution_count": 1,
   "metadata": {},
   "outputs": [],
   "source": [
    "b = 3\n",
    "def triple(a):\n",
    "    \n",
    "    print('a = {}, b = {}'.format(a, b))\n",
    "    return a * b"
   ]
  },
  {
   "cell_type": "code",
   "execution_count": 2,
   "metadata": {},
   "outputs": [
    {
     "name": "stdout",
     "output_type": "stream",
     "text": [
      "a = 1, b = 3\n"
     ]
    },
    {
     "data": {
      "text/plain": [
       "3"
      ]
     },
     "execution_count": 2,
     "metadata": {},
     "output_type": "execute_result"
    }
   ],
   "source": [
    "triple(1)"
   ]
  },
  {
   "cell_type": "markdown",
   "metadata": {},
   "source": [
    "# (2) Exception Handling"
   ]
  },
  {
   "cell_type": "code",
   "execution_count": null,
   "metadata": {},
   "outputs": [],
   "source": [
    "'''\n",
    "Q2: Let us assume that you defined a function open_new() as shown below:\n",
    "\n",
    "def open_new(filename, mode):\n",
    "    infile = open(filename, mode)\n",
    "    contents = infile.read().split()\n",
    "    infile.close()\n",
    "    return contents\n",
    "\n",
    "When the file doesn't exist in the current working directory, \n",
    "running the open_new() function will trigger IOError.\n",
    "    \n",
    "Write a new function safe_open_new() that takes filename and mode as input arguments.\n",
    "\n",
    "If an exception (i.e. errors) is rased while trying to open the file, \n",
    "your newly defined safe_open_new() will return the following message, not the ordanary error message.\n",
    "\n",
    "'Master, I cannot find your treasure in the working directory...'\n",
    "'''"
   ]
  },
  {
   "cell_type": "code",
   "execution_count": 3,
   "metadata": {},
   "outputs": [],
   "source": [
    "def safe_open_new(filename, mode):\n",
    "    try:\n",
    "        infile = open(filename, mode)\n",
    "        contents = infile.read().split()\n",
    "        infile.close()\n",
    "        return contents\n",
    "    except:\n",
    "        print('Master, I cannot find your treasure in the working directory...')"
   ]
  },
  {
   "cell_type": "code",
   "execution_count": 4,
   "metadata": {},
   "outputs": [
    {
     "ename": "NameError",
     "evalue": "name 'open_new' is not defined",
     "output_type": "error",
     "traceback": [
      "\u001b[1;31m---------------------------------------------------------------------------\u001b[0m",
      "\u001b[1;31mNameError\u001b[0m                                 Traceback (most recent call last)",
      "\u001b[1;32m<ipython-input-4-fb3fc89673a8>\u001b[0m in \u001b[0;36m<module>\u001b[1;34m\u001b[0m\n\u001b[1;32m----> 1\u001b[1;33m \u001b[0mopen_new\u001b[0m\u001b[1;33m(\u001b[0m\u001b[1;34m'randomname.txt'\u001b[0m\u001b[1;33m,\u001b[0m \u001b[1;34m'r'\u001b[0m\u001b[1;33m)\u001b[0m\u001b[1;33m\u001b[0m\u001b[1;33m\u001b[0m\u001b[0m\n\u001b[0m",
      "\u001b[1;31mNameError\u001b[0m: name 'open_new' is not defined"
     ]
    }
   ],
   "source": [
    "open_new('randomname.txt', 'r')"
   ]
  },
  {
   "cell_type": "code",
   "execution_count": 5,
   "metadata": {},
   "outputs": [
    {
     "name": "stdout",
     "output_type": "stream",
     "text": [
      "Master, I cannot find your treasure in the working directory...\n"
     ]
    }
   ],
   "source": [
    "safe_open_new('randomname.txt', 'r')"
   ]
  },
  {
   "cell_type": "code",
   "execution_count": null,
   "metadata": {},
   "outputs": [],
   "source": [
    "'''\n",
    "Q3: Let us assume that you defined a function math_game() as shown below:\n",
    "\n",
    "def math_game(n):\n",
    "    import random\n",
    "    count = 0\n",
    "    for i in range(n):\n",
    "        x = random.randrange(0, 10)\n",
    "        y = random.randrange(0, 10)\n",
    "        numbers = x + y\n",
    "        print ('{} + {} ='.format(x, y))\n",
    "        guess = int(input('Enter your guess: '))\n",
    "        if guess == numbers:\n",
    "            count += 1\n",
    "            print(\"Correct.\")\n",
    "        elif guess != numbers:\n",
    "            print(\"Incorrect.\")\n",
    "    print('You got {} correct answer(s) out of {}.'.format(count, n))\n",
    "\n",
    "One sample run of math_game() is following:\n",
    "\n",
    ">>> math_game(2)\n",
    "3 + 1 =\n",
    "Enter your guess: 4\n",
    "Correct.\n",
    "4 + 9 =\n",
    "Enter your guess: 11\n",
    "Incorrect.\n",
    "You got 1 correct answer(s) out of 2.\n",
    "\n",
    "However, this function math_game() requires users to to enter their answers using digits 0 through 9.\n",
    "\n",
    "Write a new function new_math_game() that:\n",
    "\n",
    "Takes a number of rounds as an input. The function can handle non-digit user input by:\n",
    "(1) Printing a message like \"Please write your answer using digits 0 through 9. Try again!\"; and\n",
    "(2) Then, give the user another opportunity to enter an answer.\n",
    "\n",
    "One sample run of new_math_game() is following:\n",
    "\n",
    ">>> new_math_game(3)\n",
    "4 + 3 =\n",
    "Enter your guess: 7\n",
    "Correct.\n",
    "7 + 8 = \n",
    "Enter your guess: fifteen\n",
    "Please write your answer using digits 0 through 9. Try again!\n",
    "Enter your guess: 15\n",
    "Correct.\n",
    "2 + 8 =\n",
    "Enter your guess: 9\n",
    "Incorrect.\n",
    "You got 2 correct answer(s) out of 3.\n",
    "'''"
   ]
  },
  {
   "cell_type": "code",
   "execution_count": 1,
   "metadata": {},
   "outputs": [],
   "source": [
    "def new_math_game(n):\n",
    "    while True:\n",
    "        try:\n",
    "            import random\n",
    "            count = 0\n",
    "            for i in range(n):\n",
    "                x = random.randrange(0, 10)\n",
    "                y = random.randrange(0, 10)\n",
    "                numbers = x + y\n",
    "                print ('{} + {} ='.format(x, y))\n",
    "                guess = int(input('Enter your guess: '))\n",
    "                if guess == numbers:\n",
    "                    count += 1\n",
    "                    print(\"Correct.\")\n",
    "                elif guess != numbers:\n",
    "                    print(\"Incorrect.\")\n",
    "            print('You got {} correct answer(s) out of {}.'.format(count, n))\n",
    "        except:\n",
    "            print('Please write your answer using digits 0 through 9. Try again!')"
   ]
  },
  {
   "cell_type": "code",
   "execution_count": 3,
   "metadata": {},
   "outputs": [
    {
     "name": "stdout",
     "output_type": "stream",
     "text": [
      "4 + 3 =\n",
      "Enter your guess: 7\n",
      "Correct.\n",
      "7 + 8 =\n",
      "Enter your guess: fifteen\n",
      "Please write your answer using digits 0 through 9. Try again!\n",
      "Enter your guess: 15\n",
      "Correct.\n",
      "2 + 8 =\n",
      "Enter your guess: 9\n",
      "Incorrect.\n",
      "You got 2 correct answer(s) out of 3.\n"
     ]
    }
   ],
   "source": [
    "new_math_game(3)"
   ]
  },
  {
   "cell_type": "code",
   "execution_count": null,
   "metadata": {},
   "outputs": [],
   "source": [
    "'''\n",
    "Q4: In Q3, you defined a function new_math_game(). \n",
    "\n",
    "Your function gives another opportunity to enter an answer. \n",
    "\n",
    "What if you wish to limit the number of opportunities when users can input non-digits?\n",
    "\n",
    "Write a new function new_math_game_2() that:\n",
    "\n",
    "Takes a number of rounds as an input. The function can handle non-digit user input by:\n",
    "(1) Printing a message like \"Please write your answer using digits 0 through 9. Try again!\";\n",
    "(2) Them give the user another opportunity to enter an answer; but \n",
    "(3) When users input non-digits more than two times, the function will quit and print following messages\n",
    "    'Two erros. Quitting...'\n",
    "\n",
    "Two sample runs of new_math_game_2() is following:\n",
    "\n",
    ">>> new_math_game_2(3)\n",
    "4 + 3 =\n",
    "Enter your guess: 7\n",
    "Correct.\n",
    "7 + 8 = \n",
    "Enter your guess: fifteen\n",
    "Please write your answer using digits 0 through 9. Try again!\n",
    "Enter your guess: 15\n",
    "Correct.\n",
    "2 + 8 =\n",
    "Enter your guess: 9\n",
    "Incorrect.\n",
    "You got 2 correct answer(s) out of 3.\n",
    "\n",
    ">>> new_math_game_2(3)\n",
    "4 + 3 =\n",
    "Enter your guess: 7\n",
    "Correct.\n",
    "7 + 8 = \n",
    "Enter your guess: fifteen\n",
    "Please write your answer using digits 0 through 9. Try again!\n",
    "Enter your guess: 15\n",
    "Correct.\n",
    "2 + 8 =\n",
    "Enter your guess: ten\n",
    "Two errors. Quitting...\n",
    "'''"
   ]
  },
  {
   "cell_type": "code",
   "execution_count": 1,
   "metadata": {},
   "outputs": [],
   "source": [
    "def new_math_game_2(n):\n",
    "    while True:\n",
    "        try:\n",
    "            import random\n",
    "            count = 0\n",
    "            for i in range(n):\n",
    "                x = random.randrange(0, 10)\n",
    "                y = random.randrange(0, 10)\n",
    "                numbers = x + y\n",
    "                print ('{} + {} ='.format(x, y))\n",
    "                guess = int(input('Enter your guess: '))\n",
    "                if guess == numbers:\n",
    "                    count += 1\n",
    "                    print(\"Correct.\")\n",
    "                elif guess != numbers:\n",
    "                    print(\"Incorrect.\")\n",
    "            print('You got {} correct answer(s) out of {}.'.format(count, n))\n",
    "        except:\n",
    "            print('Please write your answer using digits 0 through 9. Try again!')\n",
    "            print('Two errors. Quitting...')"
   ]
  },
  {
   "cell_type": "code",
   "execution_count": 1,
   "metadata": {},
   "outputs": [
    {
     "name": "stdout",
     "output_type": "stream",
     "text": [
      "4 + 3 =\n",
      "Enter your guess: 7\n",
      "Correct.\n",
      "7 + 8 =\n",
      "Enter your guess: fifteen\n",
      "Please write your answer using digits 0 through 9. Try again!\n",
      "Enter your guess: 15\n",
      "Correct.\n",
      "2 + 8 =\n",
      "Enter your guess: ten\n",
      "Two errors. Quitting...\n"
     ]
    }
   ],
   "source": [
    "new_math_game_2(3)"
   ]
  },
  {
   "cell_type": "markdown",
   "metadata": {},
   "source": [
    "# (3) Modules (Top-Level Module)"
   ]
  },
  {
   "cell_type": "code",
   "execution_count": null,
   "metadata": {},
   "outputs": [],
   "source": [
    "'''\n",
    "Q5 and Q6: Python has its own search path, but your desktop folder wouldn't be included. \n",
    "'''"
   ]
  },
  {
   "cell_type": "code",
   "execution_count": null,
   "metadata": {},
   "outputs": [],
   "source": [
    "# Q5: Print out the search path"
   ]
  },
  {
   "cell_type": "code",
   "execution_count": null,
   "metadata": {},
   "outputs": [],
   "source": [
    "import sys\n",
    "sys.path"
   ]
  },
  {
   "cell_type": "code",
   "execution_count": null,
   "metadata": {},
   "outputs": [],
   "source": [
    "# Q6: Add the desktop folder to the search path"
   ]
  },
  {
   "cell_type": "code",
   "execution_count": null,
   "metadata": {},
   "outputs": [],
   "source": [
    "import sys\n",
    "sys.path.append('C:/Users/Desktop')\n",
    "sys.path"
   ]
  },
  {
   "cell_type": "code",
   "execution_count": null,
   "metadata": {},
   "outputs": [],
   "source": [
    "'''\n",
    "Q7 ~ Q8: In Python, you can import math module.\n",
    "'''"
   ]
  },
  {
   "cell_type": "code",
   "execution_count": null,
   "metadata": {},
   "outputs": [],
   "source": [
    "# Q7: Display the name of math module"
   ]
  },
  {
   "cell_type": "code",
   "execution_count": 4,
   "metadata": {},
   "outputs": [
    {
     "data": {
      "text/plain": [
       "['__doc__',\n",
       " '__loader__',\n",
       " '__name__',\n",
       " '__package__',\n",
       " '__spec__',\n",
       " 'acos',\n",
       " 'acosh',\n",
       " 'asin',\n",
       " 'asinh',\n",
       " 'atan',\n",
       " 'atan2',\n",
       " 'atanh',\n",
       " 'ceil',\n",
       " 'comb',\n",
       " 'copysign',\n",
       " 'cos',\n",
       " 'cosh',\n",
       " 'degrees',\n",
       " 'dist',\n",
       " 'e',\n",
       " 'erf',\n",
       " 'erfc',\n",
       " 'exp',\n",
       " 'expm1',\n",
       " 'fabs',\n",
       " 'factorial',\n",
       " 'floor',\n",
       " 'fmod',\n",
       " 'frexp',\n",
       " 'fsum',\n",
       " 'gamma',\n",
       " 'gcd',\n",
       " 'hypot',\n",
       " 'inf',\n",
       " 'isclose',\n",
       " 'isfinite',\n",
       " 'isinf',\n",
       " 'isnan',\n",
       " 'isqrt',\n",
       " 'ldexp',\n",
       " 'lgamma',\n",
       " 'log',\n",
       " 'log10',\n",
       " 'log1p',\n",
       " 'log2',\n",
       " 'modf',\n",
       " 'nan',\n",
       " 'perm',\n",
       " 'pi',\n",
       " 'pow',\n",
       " 'prod',\n",
       " 'radians',\n",
       " 'remainder',\n",
       " 'sin',\n",
       " 'sinh',\n",
       " 'sqrt',\n",
       " 'tan',\n",
       " 'tanh',\n",
       " 'tau',\n",
       " 'trunc']"
      ]
     },
     "execution_count": 4,
     "metadata": {},
     "output_type": "execute_result"
    }
   ],
   "source": [
    "import math\n",
    "dir(math)"
   ]
  },
  {
   "cell_type": "code",
   "execution_count": 5,
   "metadata": {},
   "outputs": [
    {
     "data": {
      "text/plain": [
       "'math'"
      ]
     },
     "execution_count": 5,
     "metadata": {},
     "output_type": "execute_result"
    }
   ],
   "source": [
    "import math\n",
    "math.__name__"
   ]
  },
  {
   "cell_type": "code",
   "execution_count": null,
   "metadata": {},
   "outputs": [],
   "source": [
    "# Q8: Display the absolute pathname of the file containing math module"
   ]
  },
  {
   "cell_type": "code",
   "execution_count": null,
   "metadata": {},
   "outputs": [],
   "source": [
    "# Attribute Error Due to Windows OS Issue\n",
    "\n",
    "import math\n",
    "math.__file__"
   ]
  },
  {
   "cell_type": "markdown",
   "metadata": {},
   "source": [
    "# (4) Method Invocations"
   ]
  },
  {
   "cell_type": "code",
   "execution_count": null,
   "metadata": {},
   "outputs": [],
   "source": [
    "'''\n",
    "Q9 ~ Q10: Rewrite the Python codes below with the method invocations.\n",
    "\n",
    "Example:\n",
    "\n",
    "s = 'clemson tigers'\n",
    "s.upper()\n",
    "\n",
    "str.upper(s)\n",
    "'''"
   ]
  },
  {
   "cell_type": "code",
   "execution_count": 10,
   "metadata": {},
   "outputs": [],
   "source": [
    "s = 'clemson tigers'\n",
    "lst = ['apple', 'pear', 'strawberry']"
   ]
  },
  {
   "cell_type": "code",
   "execution_count": null,
   "metadata": {},
   "outputs": [],
   "source": [
    "# Q9: lst.append('blueberry')"
   ]
  },
  {
   "cell_type": "code",
   "execution_count": 11,
   "metadata": {},
   "outputs": [],
   "source": [
    "list.append(lst, 'blueberry')"
   ]
  },
  {
   "cell_type": "code",
   "execution_count": 12,
   "metadata": {},
   "outputs": [
    {
     "data": {
      "text/plain": [
       "['apple', 'pear', 'strawberry', 'blueberry']"
      ]
     },
     "execution_count": 12,
     "metadata": {},
     "output_type": "execute_result"
    }
   ],
   "source": [
    "lst"
   ]
  },
  {
   "cell_type": "code",
   "execution_count": null,
   "metadata": {},
   "outputs": [],
   "source": [
    "# Q10: s.upper().split()"
   ]
  },
  {
   "cell_type": "code",
   "execution_count": 13,
   "metadata": {},
   "outputs": [
    {
     "data": {
      "text/plain": [
       "['CLEMSON', 'TIGERS']"
      ]
     },
     "execution_count": 13,
     "metadata": {},
     "output_type": "execute_result"
    }
   ],
   "source": [
    "str.upper(s).split()"
   ]
  }
 ],
 "metadata": {
  "anaconda-cloud": {},
  "kernelspec": {
   "display_name": "Python 3",
   "language": "python",
   "name": "python3"
  },
  "language_info": {
   "codemirror_mode": {
    "name": "ipython",
    "version": 3
   },
   "file_extension": ".py",
   "mimetype": "text/x-python",
   "name": "python",
   "nbconvert_exporter": "python",
   "pygments_lexer": "ipython3",
   "version": "3.8.8"
  }
 },
 "nbformat": 4,
 "nbformat_minor": 4
}
