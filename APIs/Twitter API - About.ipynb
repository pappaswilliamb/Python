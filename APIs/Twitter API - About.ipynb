{
 "cells": [
  {
   "cell_type": "markdown",
   "metadata": {},
   "source": [
    "# Data Collection\n",
    "\n",
    "## API (Application Programming Interface)\n",
    "\n",
    "> An application programming interface (API) is a set of subroutine definitions, communication protocols, and tools for building software. In general terms, it is a set of clearly defined methods of communication among various components. A good API makes it easier to develop a computer program by providing all the building blocks, which are then put together by the programmer."
   ]
  },
  {
   "cell_type": "markdown",
   "metadata": {},
   "source": [
    "## (1) Create a Twitter Developer Account and an App to Use the Twitter API\n",
    "\n",
    "> The Twitter API is simply a set of URLs that take parameters. These URLs let you access many features of Twitter, such as posting a tweet or finding tweets that contain a word, etc."
   ]
  },
  {
   "cell_type": "markdown",
   "metadata": {},
   "source": [
    ">In order to collect tweets from Twitter API, we need to create a Twitter account and create an app (could be empty) to get credentials (consumer keys, consumer secret, access token, and access token secret) from Twitter.\n",
    ">\n",
    ">Twitter Application Management:\n",
    ">https://apps.twitter.com/\n",
    ">"
   ]
  },
  {
   "cell_type": "markdown",
   "metadata": {},
   "source": [
    "### Step 1: Developer Portal Overview"
   ]
  },
  {
   "cell_type": "markdown",
   "metadata": {},
   "source": [
    "### Step 2: Create an App\n",
    "> To create an app, please click \"Create App\" button, and input the name of your app."
   ]
  },
  {
   "cell_type": "markdown",
   "metadata": {},
   "source": [
    "### Step 3: Check Your Keys and Tokens\n",
    "> Now you just created your twitter app. Please check your keys and tokens, and copy and paste them in your Notes or MS Word app."
   ]
  },
  {
   "cell_type": "markdown",
   "metadata": {},
   "source": [
    "### Step 4: Check Your App on the Menu Bar\n",
    "> You can access your app settings anytime. Plese click your app on the menu bar."
   ]
  },
  {
   "cell_type": "markdown",
   "metadata": {},
   "source": [
    "### Step 5: Check Keys and Tokens through the Menu Bar\n",
    "> Please click \"Keys and tokens\"."
   ]
  },
  {
   "cell_type": "markdown",
   "metadata": {},
   "source": [
    "### Step 6: Access the API Key & Secret\n",
    "> If you may not save the API Key and Secret in Step 3, you can access them here. Please check your API key and API key secret, and copy and paste them in your Notes or MS Word app."
   ]
  },
  {
   "cell_type": "markdown",
   "metadata": {},
   "source": [
    "### Step 7: Acess the Access Token & Secret\n",
    "> Please check your access token and access token secret, and copy and paste them in your Notes or MS Word app."
   ]
  },
  {
   "cell_type": "markdown",
   "metadata": {},
   "source": [
    "## (2) Create JSON File of Your Credentials\n",
    "\n",
    "> Once you get the four credentials, create your own credential JSON file in the current working directory."
   ]
  },
  {
   "cell_type": "code",
   "execution_count": null,
   "metadata": {},
   "outputs": [],
   "source": [
    "credential = {\"API_KEY\": \"VqR9HJemANJ893BekWXTxXWT7\", \n",
    "    \"API_SECRET\": \"gfAdxfdXj3eP9xH1XzwkKlcs7tQ6x2q68yzQRP4gOzuDu3t0iF\", \n",
    "    \"ACCESS_TOKEN\": \"1244356645393707024-YgjM3PKRbwc65oFmmgdyEFNSkhoHqF\", \n",
    "    \"ACCESS_TOKEN_SECRET\": \"LJLnwmw65iMuZnR2ULsU5RQq8Edfu4f1oHUilW3If9TTe\"\n",
    "}\n",
    "\n",
    "credential"
   ]
  },
  {
   "cell_type": "code",
   "execution_count": null,
   "metadata": {},
   "outputs": [],
   "source": [
    "import json\n",
    "outfile = open('twitter_credentials.json', 'w')\n",
    "json.dump(credential, outfile)\n",
    "outfile.close()"
   ]
  },
  {
   "cell_type": "markdown",
   "metadata": {},
   "source": [
    "## (3) Install twython Package"
   ]
  },
  {
   "cell_type": "markdown",
   "metadata": {},
   "source": [
    "> Twitter API can be used in various languages. Within Python, there are many Python packages for Twitter API:\n",
    "> https://developer.twitter.com/en/docs/developer-utilities/twitter-libraries\n",
    "> \n",
    "> We will use Twython: \n",
    "> https://github.com/ryanmcgrath/twython\n",
    "> \n",
    "> However, this is not installed in Anaconda. So we need to install it using pip (a Python package manager):\n",
    "> https://packaging.python.org/tutorials/installing-packages/#use-pip-for-installing\n",
    "> \n",
    "> You can also use conda (a package manager for Anaconda):\n",
    "> https://conda.io/docs/user-guide/tasks/manage-pkgs.html"
   ]
  },
  {
   "cell_type": "code",
   "execution_count": null,
   "metadata": {},
   "outputs": [],
   "source": [
    "!pip install twython"
   ]
  },
  {
   "cell_type": "markdown",
   "metadata": {},
   "source": [
    "## (4) Create a Twython Instance with Your Credentials from JSON file"
   ]
  },
  {
   "cell_type": "markdown",
   "metadata": {},
   "source": [
    "> Now we will read credentials from the JSON file.\n",
    ">\n",
    "> Let's create a Twython instance with our credentials."
   ]
  },
  {
   "cell_type": "code",
   "execution_count": null,
   "metadata": {},
   "outputs": [],
   "source": [
    "from twython import Twython\n",
    "import sys"
   ]
  },
  {
   "cell_type": "code",
   "execution_count": null,
   "metadata": {},
   "outputs": [],
   "source": [
    "infile = open('twitter_credentials.json', 'r')\n",
    "credentials = json.load(infile)\n",
    "infile.close()\n",
    "\n",
    "credentials "
   ]
  },
  {
   "cell_type": "code",
   "execution_count": null,
   "metadata": {},
   "outputs": [],
   "source": [
    "# Create your own app to get consumer key and secret\n",
    "API_KEY = credentials['API_KEY']\n",
    "API_SECRET = credentials['API_SECRET']"
   ]
  },
  {
   "cell_type": "code",
   "execution_count": null,
   "metadata": {
    "scrolled": true
   },
   "outputs": [],
   "source": [
    "help(Twython)"
   ]
  },
  {
   "cell_type": "code",
   "execution_count": null,
   "metadata": {},
   "outputs": [],
   "source": [
    "twitter = Twython(API_KEY, API_SECRET)"
   ]
  },
  {
   "cell_type": "code",
   "execution_count": null,
   "metadata": {},
   "outputs": [],
   "source": [
    "dir(twitter)"
   ]
  },
  {
   "cell_type": "markdown",
   "metadata": {},
   "source": [
    "## (5) Let's Use the Twitter Standard Search API"
   ]
  },
  {
   "cell_type": "markdown",
   "metadata": {},
   "source": [
    "> We will first use the Twitter search API:\n",
    "> https://developer.twitter.com/en/docs/tweets/search/api-reference/get-search-tweets"
   ]
  },
  {
   "cell_type": "code",
   "execution_count": null,
   "metadata": {},
   "outputs": [],
   "source": [
    "res = twitter.search(q = \"COVID\")"
   ]
  },
  {
   "cell_type": "code",
   "execution_count": null,
   "metadata": {
    "scrolled": true
   },
   "outputs": [],
   "source": [
    "res"
   ]
  },
  {
   "cell_type": "code",
   "execution_count": null,
   "metadata": {},
   "outputs": [],
   "source": [
    "type(res)"
   ]
  },
  {
   "cell_type": "code",
   "execution_count": null,
   "metadata": {},
   "outputs": [],
   "source": [
    "len(res)"
   ]
  },
  {
   "cell_type": "code",
   "execution_count": null,
   "metadata": {},
   "outputs": [],
   "source": [
    "res.keys()"
   ]
  },
  {
   "cell_type": "code",
   "execution_count": null,
   "metadata": {},
   "outputs": [],
   "source": [
    "res['statuses']"
   ]
  },
  {
   "cell_type": "code",
   "execution_count": null,
   "metadata": {},
   "outputs": [],
   "source": [
    "type(res['statuses'])"
   ]
  },
  {
   "cell_type": "code",
   "execution_count": null,
   "metadata": {},
   "outputs": [],
   "source": [
    "len(res['statuses'])"
   ]
  },
  {
   "cell_type": "code",
   "execution_count": null,
   "metadata": {},
   "outputs": [],
   "source": [
    "res['search_metadata']"
   ]
  },
  {
   "cell_type": "code",
   "execution_count": null,
   "metadata": {
    "scrolled": true
   },
   "outputs": [],
   "source": [
    "type(res['search_metadata'])"
   ]
  },
  {
   "cell_type": "code",
   "execution_count": null,
   "metadata": {
    "scrolled": true
   },
   "outputs": [],
   "source": [
    "res['statuses'][0]"
   ]
  },
  {
   "cell_type": "code",
   "execution_count": null,
   "metadata": {},
   "outputs": [],
   "source": [
    "type(res['statuses'][0])"
   ]
  },
  {
   "cell_type": "code",
   "execution_count": null,
   "metadata": {},
   "outputs": [],
   "source": [
    "res['statuses'][0].keys()"
   ]
  },
  {
   "cell_type": "code",
   "execution_count": null,
   "metadata": {},
   "outputs": [],
   "source": [
    "res['statuses'][0]['text']"
   ]
  },
  {
   "cell_type": "code",
   "execution_count": null,
   "metadata": {},
   "outputs": [],
   "source": [
    "for t in res['statuses']:\n",
    "    print(t['text'])"
   ]
  },
  {
   "cell_type": "code",
   "execution_count": null,
   "metadata": {},
   "outputs": [],
   "source": [
    "for item in res['statuses']:\n",
    "    print(item['lang'])"
   ]
  },
  {
   "cell_type": "code",
   "execution_count": null,
   "metadata": {},
   "outputs": [],
   "source": [
    "for t in res['statuses']:\n",
    "    if t['lang'] == 'en':\n",
    "        print(t['text'])"
   ]
  },
  {
   "cell_type": "code",
   "execution_count": null,
   "metadata": {},
   "outputs": [],
   "source": [
    "outfile = open('tweet_search_COVID.json', 'w')\n",
    "json.dump(res, outfile)\n",
    "outfile.close()"
   ]
  },
  {
   "cell_type": "code",
   "execution_count": null,
   "metadata": {},
   "outputs": [],
   "source": [
    "# To search more than 15 tweets (but up to 100 tweets), use the count parameter.\n",
    "\n",
    "res = twitter.search(q = \"COVID\", count = 100)\n",
    "\n",
    "for t in res['statuses']:\n",
    "    if t['lang'] == 'en':\n",
    "        print(t['text'])"
   ]
  },
  {
   "cell_type": "code",
   "execution_count": null,
   "metadata": {},
   "outputs": [],
   "source": [
    "len(res['statuses'])"
   ]
  },
  {
   "cell_type": "markdown",
   "metadata": {},
   "source": [
    "## (6) Putting Things Together (Example #1)"
   ]
  },
  {
   "cell_type": "markdown",
   "metadata": {},
   "source": [
    "> Please define a function 'call_twitter_search_api( )' that takes inputs of a keyword and a number of tweets, 1) searches the number of tweets using the keyword in Twitter, 2) creates a list of searched tweets, 3) prints a user name and his/her tweet, 4) prints a number of tweets. and 5) save the list of searched tweets to 'tweet_search_keyword_number.json'."
   ]
  },
  {
   "cell_type": "code",
   "execution_count": null,
   "metadata": {},
   "outputs": [],
   "source": [
    "def call_twitter_search_api(keyword, number):\n",
    "    \n",
    "    from twython import Twython\n",
    "    import sys\n",
    "    import json\n",
    "    \n",
    "    infile = open('twitter_credentials.json', 'r')\n",
    "    credentials = json.load(infile)\n",
    "    infile.close()\n",
    "    \n",
    "    twitter = Twython(credentials['API_KEY'], credentials['API_SECRET'])\n",
    "    \n",
    "    tweets = []\n",
    "    \n",
    "    for t in twitter.search(q = '{}'.format(keyword), count = '{}'.format(number))['statuses']:\n",
    "        user = t['user']['screen_name']\n",
    "        text = t['text']\n",
    "        print('{}\\t{}'.format(user, text))\n",
    "        tweets.append(t)\n",
    "    print(len(tweets), 'tweets')\n",
    "    \n",
    "    outfile = open('tweet_search_{}_{}.json'.format(keyword, number), 'w')\n",
    "    json.dump(tweets, outfile)\n",
    "    outfile.close()"
   ]
  },
  {
   "cell_type": "code",
   "execution_count": null,
   "metadata": {},
   "outputs": [],
   "source": [
    "call_twitter_search_api('CLEMSON', 20)"
   ]
  },
  {
   "cell_type": "code",
   "execution_count": null,
   "metadata": {},
   "outputs": [],
   "source": [
    "infile = open('tweet_search_CLEMSON_20.json')\n",
    "data = json.load(infile)\n",
    "infile.close()"
   ]
  },
  {
   "cell_type": "code",
   "execution_count": null,
   "metadata": {},
   "outputs": [],
   "source": [
    "print(data[0])"
   ]
  },
  {
   "cell_type": "code",
   "execution_count": null,
   "metadata": {},
   "outputs": [],
   "source": [
    "from pprint import pprint"
   ]
  },
  {
   "cell_type": "code",
   "execution_count": null,
   "metadata": {
    "scrolled": true
   },
   "outputs": [],
   "source": [
    "pprint(data[0])"
   ]
  },
  {
   "cell_type": "markdown",
   "metadata": {},
   "source": [
    "## (7) Let's Use the Twitter Streaming API"
   ]
  },
  {
   "cell_type": "markdown",
   "metadata": {},
   "source": [
    "> Now, we will use the Streaming API:\n",
    "https://twython.readthedocs.io/en/latest/usage/streaming_api.html"
   ]
  },
  {
   "cell_type": "code",
   "execution_count": null,
   "metadata": {},
   "outputs": [],
   "source": [
    "from twython import TwythonStreamer\n",
    "import sys\n",
    "import json"
   ]
  },
  {
   "cell_type": "code",
   "execution_count": null,
   "metadata": {},
   "outputs": [],
   "source": [
    "infile = open('twitter_credentials.json')\n",
    "credentials = json.load(infile)\n",
    "infile.close()\n",
    "    \n",
    "API_KEY = credentials['API_KEY']\n",
    "API_SECRET = credentials['API_SECRET']\n",
    "ACCESS_TOKEN = credentials['ACCESS_TOKEN']\n",
    "ACCESS_TOKEN_SECRET = credentials['ACCESS_TOKEN_SECRET']"
   ]
  },
  {
   "cell_type": "code",
   "execution_count": null,
   "metadata": {},
   "outputs": [],
   "source": [
    "dir(TwythonStreamer)"
   ]
  },
  {
   "cell_type": "code",
   "execution_count": null,
   "metadata": {},
   "outputs": [],
   "source": [
    "help(TwythonStreamer)"
   ]
  },
  {
   "cell_type": "code",
   "execution_count": null,
   "metadata": {},
   "outputs": [],
   "source": [
    "stream = TwythonStreamer(API_KEY, API_SECRET, ACCESS_TOKEN, ACCESS_TOKEN_SECRET)"
   ]
  },
  {
   "cell_type": "code",
   "execution_count": null,
   "metadata": {},
   "outputs": [],
   "source": [
    "dir(stream)"
   ]
  },
  {
   "cell_type": "code",
   "execution_count": null,
   "metadata": {},
   "outputs": [],
   "source": [
    "help(stream.statuses)"
   ]
  },
  {
   "cell_type": "markdown",
   "metadata": {},
   "source": [
    "> Now, we can filter realtime tweets with the Streaming API with following parameters:\n",
    "\n",
    "> https://developer.twitter.com/en/docs/twitter-api/v1/tweets/filter-realtime/api-reference/post-statuses-filter"
   ]
  },
  {
   "cell_type": "code",
   "execution_count": null,
   "metadata": {},
   "outputs": [],
   "source": [
    "stream.statuses.filter(track = 'covid')"
   ]
  },
  {
   "cell_type": "markdown",
   "metadata": {},
   "source": [
    "> You may not have any outcome and your kernel would run forever.\n",
    "\n",
    "> It's time to set your own streamer."
   ]
  },
  {
   "cell_type": "code",
   "execution_count": null,
   "metadata": {},
   "outputs": [],
   "source": [
    "from twython import TwythonStreamer\n",
    "\n",
    "# We are inheriting from TwythonStreamer class\n",
    "\n",
    "class MyStream(TwythonStreamer):\n",
    "    '''our own subclass of TwythonStreamer'''\n",
    "\n",
    "    # Overriding\n",
    "    def on_success(self, data):\n",
    "        if 'text' in data:\n",
    "            print(data['text'])\n",
    "        \n",
    "    # Overriding\n",
    "    def on_error(self, status_code, data):\n",
    "        print(status_code)"
   ]
  },
  {
   "cell_type": "code",
   "execution_count": null,
   "metadata": {},
   "outputs": [],
   "source": [
    "import json\n",
    "\n",
    "infile = open('twitter_credentials.json')\n",
    "credentials = json.load(infile)\n",
    "infile.close()\n",
    "    \n",
    "API_KEY = credentials['API_KEY']\n",
    "API_SECRET = credentials['API_SECRET']\n",
    "ACCESS_TOKEN = credentials['ACCESS_TOKEN']\n",
    "ACCESS_TOKEN_SECRET = credentials['ACCESS_TOKEN_SECRET']\n",
    "\n",
    "stream = MyStream(API_KEY, API_SECRET, ACCESS_TOKEN, ACCESS_TOKEN_SECRET)\n",
    "\n",
    "stream.statuses.filter(track = 'covid')"
   ]
  },
  {
   "cell_type": "markdown",
   "metadata": {},
   "source": [
    "> You may have a lot of outcomes and your kernel would run forever.\n",
    "\n",
    "> Now, it's time to think about how to stop it.\n",
    "\n",
    "> What if you want to stop the streamer after getting 200 tweets?"
   ]
  },
  {
   "cell_type": "code",
   "execution_count": null,
   "metadata": {},
   "outputs": [],
   "source": [
    "from twython import TwythonStreamer\n",
    "\n",
    "# Set a container to append 200 tweets\n",
    "container = []\n",
    "\n",
    "# We are inheriting from TwythonStreamer class\n",
    "class MyStream(TwythonStreamer):\n",
    "    '''our own subclass of TwythonStreamer'''\n",
    "\n",
    "    # Overriding\n",
    "    def on_success(self, data):\n",
    "        if 'text' in data:\n",
    "            print(data['text'])\n",
    "            # append tweets to the container\n",
    "            container.append(data)\n",
    "\n",
    "        # If you get enough tweets (e.g. 200), disconnect API.\n",
    "        if len(container) == 200:\n",
    "            self.disconnect()\n",
    "            \n",
    "    # Overriding\n",
    "    def on_error(self, status_code, data):\n",
    "        print(status_code)"
   ]
  },
  {
   "cell_type": "code",
   "execution_count": null,
   "metadata": {},
   "outputs": [],
   "source": [
    "import json\n",
    "\n",
    "infile = open('twitter_credentials.json')\n",
    "credentials = json.load(infile)\n",
    "infile.close()\n",
    "    \n",
    "API_KEY = credentials['API_KEY']\n",
    "API_SECRET = credentials['API_SECRET']\n",
    "ACCESS_TOKEN = credentials['ACCESS_TOKEN']\n",
    "ACCESS_TOKEN_SECRET = credentials['ACCESS_TOKEN_SECRET']\n",
    "\n",
    "stream = MyStream(API_KEY, API_SECRET, ACCESS_TOKEN, ACCESS_TOKEN_SECRET)\n",
    "\n",
    "stream.statuses.filter(track = 'covid')"
   ]
  },
  {
   "cell_type": "code",
   "execution_count": null,
   "metadata": {},
   "outputs": [],
   "source": [
    "len(container)"
   ]
  },
  {
   "cell_type": "code",
   "execution_count": null,
   "metadata": {},
   "outputs": [],
   "source": [
    "container"
   ]
  },
  {
   "cell_type": "markdown",
   "metadata": {},
   "source": [
    "> What if you want to save the 200 tweets into a JSON file when you search them? "
   ]
  },
  {
   "cell_type": "code",
   "execution_count": null,
   "metadata": {},
   "outputs": [],
   "source": [
    "from twython import TwythonStreamer\n",
    "import json\n",
    "\n",
    "# Set a container to append 200 tweets\n",
    "container = []\n",
    "\n",
    "# We are inheriting from TwythonStreamer class\n",
    "class MyStream(TwythonStreamer):\n",
    "    '''our own subclass of TwythonStreamer'''\n",
    "\n",
    "    # Overriding\n",
    "    def on_success(self, data):\n",
    "        if 'text' in data:\n",
    "            print(data['text'])\n",
    "            # Append tweets to the container\n",
    "            container.append(data)\n",
    "\n",
    "        # If you get enough tweets (e.g. 200), store it into JSON file and disconnect API.\n",
    "        if len(container) == 200:\n",
    "            self.store_json()\n",
    "            self.disconnect()\n",
    "            \n",
    "    # Overriding\n",
    "    def on_error(self, status_code, data):\n",
    "        print(status_code)\n",
    "        \n",
    "    # New method to store tweets into JSON file\n",
    "    def store_json(self):\n",
    "        infile = open('tweet_stream.json', 'w')\n",
    "        json.dump(container, infile)\n",
    "        infile.close()"
   ]
  },
  {
   "cell_type": "code",
   "execution_count": null,
   "metadata": {
    "scrolled": true
   },
   "outputs": [],
   "source": [
    "import json\n",
    "\n",
    "infile = open('twitter_credentials.json')\n",
    "credentials = json.load(infile)\n",
    "infile.close()\n",
    "    \n",
    "API_KEY = credentials['API_KEY']\n",
    "API_SECRET = credentials['API_SECRET']\n",
    "ACCESS_TOKEN = credentials['ACCESS_TOKEN']\n",
    "ACCESS_TOKEN_SECRET = credentials['ACCESS_TOKEN_SECRET']\n",
    "\n",
    "stream = MyStream(API_KEY, API_SECRET, ACCESS_TOKEN, ACCESS_TOKEN_SECRET)\n",
    "\n",
    "stream.statuses.filter(track = 'covid')"
   ]
  },
  {
   "cell_type": "code",
   "execution_count": null,
   "metadata": {},
   "outputs": [],
   "source": [
    "infile = open('tweet_stream.json')\n",
    "tweets = json.load(infile)\n",
    "infile.close()\n",
    "\n",
    "tweets"
   ]
  },
  {
   "cell_type": "code",
   "execution_count": null,
   "metadata": {},
   "outputs": [],
   "source": [
    "len(tweets)"
   ]
  },
  {
   "cell_type": "markdown",
   "metadata": {},
   "source": [
    "## (8) Putting Things Together (Example #2)"
   ]
  },
  {
   "cell_type": "code",
   "execution_count": null,
   "metadata": {},
   "outputs": [],
   "source": [
    "# From the twython package, import the TwythonStreamer module\n",
    "from twython import TwythonStreamer\n",
    "import sys\n",
    "import json\n",
    "\n",
    "# Set a container to append 200 tweets\n",
    "container = []\n",
    "\n",
    "# We are inheriting from TwythonStreamer class\n",
    "class MyStream(TwythonStreamer):\n",
    "    '''our own subclass of TwythonStreamer'''\n",
    "\n",
    "    # Overriding\n",
    "    def on_success(self, data):\n",
    "        if 'text' in data:\n",
    "            print(data['text'])\n",
    "            # append tweets to the container\n",
    "            container.append(data)\n",
    "\n",
    "        # If you get enough tweets (e.g. 200), store it into JSON file and disconnect API.\n",
    "        if len(container) == 200:\n",
    "            self.store_json()\n",
    "            self.disconnect()\n",
    "            \n",
    "    # Overriding\n",
    "    def on_error(self, status_code, data):\n",
    "        print(status_code)\n",
    "        self.disconnect()\n",
    "        \n",
    "    # New method to store tweets into JSON file\n",
    "    def store_json(self):\n",
    "        infile = open('tweet_stream_{}_{}.json'.format(keyword, len(container)), 'w')\n",
    "        json.dump(container, infile)\n",
    "        infile.close()\n",
    "\n",
    "# Read Twitter credentials from json file and assign them to variables\n",
    "infile = open('twitter_credentials.json')\n",
    "credentials = json.load(infile)\n",
    "infile.close()\n",
    "    \n",
    "API_KEY = credentials['API_KEY']\n",
    "API_SECRET = credentials['API_SECRET']\n",
    "ACCESS_TOKEN = credentials['ACCESS_TOKEN']\n",
    "ACCESS_TOKEN_SECRET = credentials['ACCESS_TOKEN_SECRET']\n",
    "\n",
    "# Twitter Streaming API needs all four credentials\n",
    "stream = MyStream(API_KEY, API_SECRET, ACCESS_TOKEN, ACCESS_TOKEN_SECRET)\n",
    "\n",
    "# Set a keyword\n",
    "keyword = 'covid'\n",
    "\n",
    "# Time to collect 200 tweets of the keyword\n",
    "stream.statuses.filter(track = keyword)"
   ]
  },
  {
   "cell_type": "code",
   "execution_count": null,
   "metadata": {},
   "outputs": [],
   "source": [
    "infile = open('tweet_stream_covid_200.json')\n",
    "tweets = json.load(infile)\n",
    "infile.close()\n",
    "\n",
    "tweets"
   ]
  },
  {
   "cell_type": "code",
   "execution_count": null,
   "metadata": {},
   "outputs": [],
   "source": [
    "len(tweets)"
   ]
  },
  {
   "cell_type": "markdown",
   "metadata": {},
   "source": [
    "## (9) Develop a Twitter Streaming Module (Example #3)\n",
    "\n",
    "> What if you want to make a Twitter Streaming module from MyStream class, which can run in the terminal or command line or import it to use the MyStream class?"
   ]
  },
  {
   "cell_type": "code",
   "execution_count": null,
   "metadata": {},
   "outputs": [],
   "source": [
    "# From the twython package, import the TwythonStreamer module\n",
    "from twython import TwythonStreamer\n",
    "import sys\n",
    "import json\n",
    "\n",
    "# Set a container to append 200 tweets\n",
    "container = []\n",
    "\n",
    "# We are inheriting from TwythonStreamer class\n",
    "class MyStream(TwythonStreamer):\n",
    "    '''our own subclass of TwythonStreamer'''\n",
    "\n",
    "    # Overriding\n",
    "    def on_success(self, data):\n",
    "        if 'text' in data:\n",
    "            print(data['text'])\n",
    "            # Append tweets to the container\n",
    "            container.append(data)\n",
    "\n",
    "        # If you get enough tweets (e.g. 200), store it into JSON file and disconnect API.\n",
    "        if len(container) == 200:\n",
    "            self.store_json()\n",
    "            self.disconnect()\n",
    "            \n",
    "    # Overriding\n",
    "    def on_error(self, status_code, data):\n",
    "        print(status_code)\n",
    "        self.disconnect()\n",
    "        \n",
    "    # New method to store tweets into JSON file\n",
    "    def store_json(self):\n",
    "        infile = open('tweet_stream_{}_{}.json'.format(keyword, len(container)), 'w')\n",
    "        json.dump(container, infile)\n",
    "        infile.close()\n",
    "\n",
    "# Read Twitter credentials from json file and assign them to variables\n",
    "infile = open('twitter_credentials.json')\n",
    "credentials = json.load(infile)\n",
    "infile.close()\n",
    "    \n",
    "API_KEY = credentials['API_KEY']\n",
    "API_SECRET = credentials['API_SECRET']\n",
    "ACCESS_TOKEN = credentials['ACCESS_TOKEN']\n",
    "ACCESS_TOKEN_SECRET = credentials['ACCESS_TOKEN_SECRET']\n",
    "\n",
    "# Twitter Streaming API needs all four credentials\n",
    "stream = MyStream(API_KEY, API_SECRET, ACCESS_TOKEN, ACCESS_TOKEN_SECRET)\n",
    "\n",
    "# Set a keyword\n",
    "keyword = 'covid'\n",
    "\n",
    "# Time to collect 200 tweets of the keyword\n",
    "stream.statuses.filter(track = keyword)"
   ]
  },
  {
   "cell_type": "code",
   "execution_count": null,
   "metadata": {},
   "outputs": [],
   "source": [
    "!cat API_v1.py"
   ]
  },
  {
   "cell_type": "code",
   "execution_count": null,
   "metadata": {},
   "outputs": [],
   "source": [
    "!python API_v1.py"
   ]
  },
  {
   "cell_type": "code",
   "execution_count": null,
   "metadata": {},
   "outputs": [],
   "source": [
    "'''\n",
    "!python API_v1.py covid, 300\n",
    "'''"
   ]
  },
  {
   "cell_type": "markdown",
   "metadata": {},
   "source": [
    "### sys.argv\n",
    "> To get command line arguments, use sys.argv."
   ]
  },
  {
   "cell_type": "code",
   "execution_count": null,
   "metadata": {},
   "outputs": [],
   "source": [
    "!cat test.py"
   ]
  },
  {
   "cell_type": "code",
   "execution_count": null,
   "metadata": {},
   "outputs": [],
   "source": [
    "!python test.py argt1, argt2, argt3"
   ]
  },
  {
   "cell_type": "markdown",
   "metadata": {},
   "source": [
    "### Step 1: Keyword\n",
    "> Let's change the Twitter Streaming Module to take a keyword."
   ]
  },
  {
   "cell_type": "code",
   "execution_count": null,
   "metadata": {},
   "outputs": [],
   "source": [
    "!cat API_v2.py"
   ]
  },
  {
   "cell_type": "code",
   "execution_count": null,
   "metadata": {},
   "outputs": [],
   "source": [
    "!python API_v2.py covid"
   ]
  },
  {
   "cell_type": "markdown",
   "metadata": {},
   "source": [
    "### Step 2: Keyword and a Number of Tweets\n",
    "> Let's change the Twitter Streaming Module to take a keyword and a number of tweets."
   ]
  },
  {
   "cell_type": "code",
   "execution_count": null,
   "metadata": {},
   "outputs": [],
   "source": [
    "!cat API_v3.py"
   ]
  },
  {
   "cell_type": "code",
   "execution_count": null,
   "metadata": {},
   "outputs": [],
   "source": [
    "!python API_v3.py covid 10"
   ]
  },
  {
   "cell_type": "markdown",
   "metadata": {},
   "source": [
    "### Step 3: Error Handling\n",
    "> What if a user may import the API_v3 module? What will happen? How do we prevent the error?"
   ]
  },
  {
   "cell_type": "code",
   "execution_count": null,
   "metadata": {},
   "outputs": [],
   "source": [
    "import API_v3"
   ]
  },
  {
   "cell_type": "code",
   "execution_count": null,
   "metadata": {},
   "outputs": [],
   "source": [
    "!cat API_v4.py"
   ]
  },
  {
   "cell_type": "code",
   "execution_count": null,
   "metadata": {},
   "outputs": [],
   "source": [
    "!python API_v4.py covid 10"
   ]
  },
  {
   "cell_type": "code",
   "execution_count": null,
   "metadata": {},
   "outputs": [],
   "source": [
    "import API_v4"
   ]
  }
 ],
 "metadata": {
  "anaconda-cloud": {},
  "kernelspec": {
   "display_name": "Python 3",
   "language": "python",
   "name": "python3"
  },
  "language_info": {
   "codemirror_mode": {
    "name": "ipython",
    "version": 3
   },
   "file_extension": ".py",
   "mimetype": "text/x-python",
   "name": "python",
   "nbconvert_exporter": "python",
   "pygments_lexer": "ipython3",
   "version": "3.8.8"
  }
 },
 "nbformat": 4,
 "nbformat_minor": 4
}
