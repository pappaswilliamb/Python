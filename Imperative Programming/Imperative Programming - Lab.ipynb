{
 "cells": [
  {
   "cell_type": "markdown",
   "metadata": {},
   "source": [
    "# (1) Use print() and input() With int()"
   ]
  },
  {
   "cell_type": "code",
   "execution_count": null,
   "metadata": {},
   "outputs": [],
   "source": [
    "'''\n",
    "Write a program that:\n",
    "\n",
    "(1) Requests the user’s first name;\n",
    "(2) Requests the user’s last name; and\n",
    "(3) Prints the message:\n",
    "\n",
    "Hello ### ###\n",
    "Welcome to the world of Python!\n",
    "\n",
    ">>> \n",
    "Enter your first name: Blake\n",
    "Enter your last name: Pappas\n",
    "Hello Blake Pappas\n",
    "Welcome to the world of Python!\n",
    "'''"
   ]
  },
  {
   "cell_type": "code",
   "execution_count": 1,
   "metadata": {},
   "outputs": [
    {
     "name": "stdout",
     "output_type": "stream",
     "text": [
      "Enter your first name: Blake\n",
      "Enter your last name: Pappas\n",
      "Hello Blake Pappas\n",
      "Welcome to the world of Python!\n"
     ]
    }
   ],
   "source": [
    "fname = input('Enter your first name: ')\n",
    "lname = input('Enter your last name: ')\n",
    "print('Hello ' + fname + ' ' + lname)\n",
    "print('Welcome to the world of Python!')"
   ]
  },
  {
   "cell_type": "code",
   "execution_count": null,
   "metadata": {},
   "outputs": [],
   "source": [
    "'''\n",
    "Write a program that:\n",
    "\n",
    "(1) Requests the user’s first name;\n",
    "(2) Requests the user’s last name; and\n",
    "(3) Prints the message:\n",
    "\n",
    "'Hello ### ###'\n",
    "'Welcome to the world of Python!'\n",
    "\n",
    ">>> \n",
    "Enter your first name: Blake\n",
    "Enter your last name: Pappas\n",
    "'Hello Blake Pappas'\n",
    "'Welcome to the world of Python!'\n",
    "'''"
   ]
  },
  {
   "cell_type": "code",
   "execution_count": 2,
   "metadata": {},
   "outputs": [
    {
     "name": "stdout",
     "output_type": "stream",
     "text": [
      "Enter your first name: Blake\n",
      "Enter your last name: Pappas\n",
      "'Hello Blake Pappas'\n",
      "'Welcome to the world of Python!'\n"
     ]
    }
   ],
   "source": [
    "fname = input('Enter your first name: ')\n",
    "lname = input('Enter your last name: ')\n",
    "print(\"'Hello \" + fname + ' ' + lname + \"'\")\n",
    "print(\"'Welcome to the world of Python!'\")"
   ]
  },
  {
   "cell_type": "code",
   "execution_count": null,
   "metadata": {},
   "outputs": [],
   "source": [
    "'''\n",
    "Write a program that:\n",
    "\n",
    "(1) Requests the user’s name;\n",
    "(2) Requests the user’s age; and\n",
    "(3) Computes the user’s age one year from now and prints the message:\n",
    "\n",
    ">>> \n",
    "Enter your name: Blake\n",
    "Enter your age: 23\n",
    "Blake, you will be 24 next year!\n",
    "'''"
   ]
  },
  {
   "cell_type": "code",
   "execution_count": 3,
   "metadata": {},
   "outputs": [
    {
     "name": "stdout",
     "output_type": "stream",
     "text": [
      "Enter your name: Blake\n",
      "Enter your age: 23\n",
      "Blake, you will be 24 next year!\n"
     ]
    }
   ],
   "source": [
    "name = input('Enter your name: ')\n",
    "age = input('Enter your age: ')\n",
    "print (name + ', you will be ' + str(int(age) + 1) + ' next year!')"
   ]
  },
  {
   "cell_type": "markdown",
   "metadata": {},
   "source": [
    "# (2) One-Way If Statements"
   ]
  },
  {
   "cell_type": "code",
   "execution_count": null,
   "metadata": {},
   "outputs": [],
   "source": [
    "''' \n",
    "Write a program that:\n",
    "\n",
    "(1) Requests the user's age; and\n",
    "(2) If \"age\" is greater than 62, prints: \n",
    "\n",
    "You can get Social Security benefits!\n",
    "\n",
    "If \"age\" is not greater than 62, prints nothing.\n",
    "\n",
    ">>>\n",
    "Enter your age: 64\n",
    "You can get Social Security benefits!\n",
    "\n",
    ">>>\n",
    "Enter your age: 60\n",
    "'''"
   ]
  },
  {
   "cell_type": "code",
   "execution_count": 5,
   "metadata": {},
   "outputs": [
    {
     "name": "stdout",
     "output_type": "stream",
     "text": [
      "Enter your age: 64\n",
      "You can get Social Security benefits!\n"
     ]
    }
   ],
   "source": [
    "age = input('Enter your age: ')\n",
    "if int(age) > 62:\n",
    "    print('You can get Social Security benefits!')"
   ]
  },
  {
   "cell_type": "code",
   "execution_count": null,
   "metadata": {},
   "outputs": [],
   "source": [
    "''' \n",
    "Write a program that:\n",
    "\n",
    "(1) Requests the user's age; and\n",
    "(2) If \"age\" is greater than 62, prints:\n",
    "\n",
    "You can get Social Security benefits!\n",
    "Goodbye.\n",
    "\n",
    "If \"age\" is not greater than 62, prints:\n",
    "\n",
    "Goodbye.\n",
    "\n",
    ">>>\n",
    "Enter your age: 64\n",
    "You can get Social Security benefits!\n",
    "Goodbye.\n",
    "\n",
    ">>>\n",
    "Enter your age: 60\n",
    "Goodbye.\n",
    "'''"
   ]
  },
  {
   "cell_type": "code",
   "execution_count": 6,
   "metadata": {},
   "outputs": [
    {
     "name": "stdout",
     "output_type": "stream",
     "text": [
      "Enter your age: 64\n",
      "You can get Social Security benefits!\n",
      "Goodbye.\n"
     ]
    }
   ],
   "source": [
    "age = input('Enter your age: ')\n",
    "if int(age) > 62:\n",
    "    print('You can get Social Security benefits!')\n",
    "    print('Goodbye.')\n",
    "else:\n",
    "    print('Goodbye.')"
   ]
  },
  {
   "cell_type": "code",
   "execution_count": null,
   "metadata": {},
   "outputs": [],
   "source": [
    "'''\n",
    "Write a program that:\n",
    "\n",
    "(1) Inputs 'We have large bonuses in this year!' to a variable \"report\"; and\n",
    "(2) If string 'large bonuses' appears in the variable \"report\", prints:\n",
    "\n",
    "Vacation time!\n",
    "'''"
   ]
  },
  {
   "cell_type": "code",
   "execution_count": 7,
   "metadata": {},
   "outputs": [
    {
     "name": "stdout",
     "output_type": "stream",
     "text": [
      "Vacation time!\n"
     ]
    }
   ],
   "source": [
    "report = 'We have large bonuses this year!'\n",
    "if 'large bonuses' in report:\n",
    "    print('Vacation time!')"
   ]
  },
  {
   "cell_type": "code",
   "execution_count": null,
   "metadata": {},
   "outputs": [],
   "source": [
    "'''\n",
    "Write a program that:\n",
    "\n",
    "(1) Inputs 20 to a variable hits;\n",
    "(2) Inputs 0 to a variable shield; and\n",
    "(3) If the variable \"hits\" is greater than 10 and the variable \"shield\" is 0, prints:\n",
    "\n",
    "You're dead...\n",
    "'''"
   ]
  },
  {
   "cell_type": "code",
   "execution_count": 8,
   "metadata": {},
   "outputs": [
    {
     "name": "stdout",
     "output_type": "stream",
     "text": [
      "You're dead...\n"
     ]
    }
   ],
   "source": [
    "hits = 20\n",
    "shield = 0\n",
    "if hits > 10 and shield == 0:\n",
    "    print(\"You're dead...\")"
   ]
  },
  {
   "cell_type": "markdown",
   "metadata": {},
   "source": [
    "# (3) Two-Way If Statement"
   ]
  },
  {
   "cell_type": "code",
   "execution_count": null,
   "metadata": {},
   "outputs": [],
   "source": [
    "'''\n",
    "Write a program that:\n",
    "\n",
    "(1) Requests the current temperature; and\n",
    "(2) Prints two different messages: \n",
    "\n",
    "If the temperature is higher than 86, prints:\n",
    "\n",
    "It is hot!\n",
    "Be sure to drink liquids.\n",
    "Goodbye.\n",
    "\n",
    "If the temperature is lower than or equal to 86, prints:\n",
    "\n",
    "It is not hot!\n",
    "Bring a jacket.\n",
    "Goodbye.\n",
    "\n",
    ">>> \n",
    "Enter current temperature: 90\n",
    "It is hot!\n",
    "Be sure to drink liquids.\n",
    "Goodbye.\n",
    "\n",
    ">>> \n",
    "Enter current temperature: 80\n",
    "It is not hot!\n",
    "Bring a jacket.\n",
    "Goodbye.\n",
    "'''"
   ]
  },
  {
   "cell_type": "code",
   "execution_count": 9,
   "metadata": {},
   "outputs": [
    {
     "name": "stdout",
     "output_type": "stream",
     "text": [
      "Enter current temperature: 90\n",
      "It is hot!\n",
      "Be sure to drink liquids.\n",
      "Goodbye.\n"
     ]
    }
   ],
   "source": [
    "temp = input('Enter current temperature: ')\n",
    "if int(temp) > 86:\n",
    "    print('It is hot!')\n",
    "    print('Be sure to drink liquids.')\n",
    "else:\n",
    "    print('It is not hot!')\n",
    "    print('Bring a jacket.')\n",
    "print('Goodbye.')"
   ]
  },
  {
   "cell_type": "code",
   "execution_count": null,
   "metadata": {},
   "outputs": [],
   "source": [
    "'''\n",
    "Write a program that:\n",
    "\n",
    "(1) Requests the user’s name;\n",
    "(2) Requests the user’s age; and\n",
    "(3) Prints a message saying whether the user is eligible (i.e. age >= 18) to vote or not:\n",
    "\n",
    "If the user's age is greater than or equal to 18, prints:\n",
    "\n",
    "###, you can vote.\n",
    "\n",
    "If the user's age is smaller than 18, prints:\n",
    "\n",
    "###, you can't vote.\n",
    "\n",
    ">>> \n",
    "Enter your name: Marie\n",
    "Enter your age: 17\n",
    "Marie, you can't vote.\n",
    "\n",
    ">>> \n",
    "Enter your name: Blake\n",
    "Enter your age: 23\n",
    "Blake, you can vote.\n",
    "'''"
   ]
  },
  {
   "cell_type": "code",
   "execution_count": 10,
   "metadata": {},
   "outputs": [
    {
     "name": "stdout",
     "output_type": "stream",
     "text": [
      "Enter your name: Blake\n",
      "Enter your age: 23\n",
      "Blake, you can vote.\n"
     ]
    }
   ],
   "source": [
    "name = input('Enter your name: ')\n",
    "age = input('Enter your age: ')\n",
    "if int(age) >= 18:\n",
    "    print(name + ', you can vote.')\n",
    "else:\n",
    "    print(name + \", you can't vote.\")"
   ]
  },
  {
   "cell_type": "markdown",
   "metadata": {},
   "source": [
    "# (4) For Loop Statement"
   ]
  },
  {
   "cell_type": "code",
   "execution_count": null,
   "metadata": {},
   "outputs": [],
   "source": [
    "'''\n",
    "Write a “spelling” program that:\n",
    "\n",
    "(1) Requests a word from the user; and\n",
    "(2) Prints the characters in the word from left to right, one per line.\n",
    "\n",
    ">>> \n",
    "Enter a word: clemson\n",
    "The word spelled out: \n",
    "c\n",
    "l\n",
    "e\n",
    "m\n",
    "s\n",
    "o\n",
    "n\n",
    "'''"
   ]
  },
  {
   "cell_type": "code",
   "execution_count": 11,
   "metadata": {},
   "outputs": [
    {
     "name": "stdout",
     "output_type": "stream",
     "text": [
      "Enter a word: clemson\n",
      "The word spelled out: \n",
      "c\n",
      "l\n",
      "e\n",
      "m\n",
      "s\n",
      "o\n",
      "n\n"
     ]
    }
   ],
   "source": [
    "word = input('Enter a word: ')\n",
    "print('The word spelled out: ')\n",
    "for var in word:\n",
    "    print(var)"
   ]
  },
  {
   "cell_type": "code",
   "execution_count": null,
   "metadata": {},
   "outputs": [],
   "source": [
    "'''\n",
    "Write a “spelling” program that:\n",
    "\n",
    "(1) Requests a list from the user; and\n",
    "(2) Prints the items in the list from left to right, one per line.\n",
    "\n",
    ">>> \n",
    "Enter a list: ['apple', 'pear', 'strawberry']\n",
    "The word spelled out: \n",
    "apple\n",
    "pear\n",
    "strawberry\n",
    "'''"
   ]
  },
  {
   "cell_type": "code",
   "execution_count": 12,
   "metadata": {},
   "outputs": [
    {
     "name": "stdout",
     "output_type": "stream",
     "text": [
      "Enter a list: ['apple', 'pear', 'strawberry']\n",
      "The word spelled out: \n",
      "apple\n",
      "pear\n",
      "strawberry\n"
     ]
    }
   ],
   "source": [
    "lst = input('Enter a list: ')\n",
    "print('The word spelled out: ')\n",
    "for w in eval(lst):\n",
    "    print(w)"
   ]
  },
  {
   "cell_type": "markdown",
   "metadata": {},
   "source": [
    "# (5) Using the range() Function to Write For Loops That Will Print the Following Sequences:"
   ]
  },
  {
   "cell_type": "code",
   "execution_count": null,
   "metadata": {},
   "outputs": [],
   "source": [
    "# 0, 1, 2, 3, 4, 5, 6, 7, 8 , 9, 10"
   ]
  },
  {
   "cell_type": "code",
   "execution_count": 13,
   "metadata": {},
   "outputs": [
    {
     "name": "stdout",
     "output_type": "stream",
     "text": [
      "0\n",
      "1\n",
      "2\n",
      "3\n",
      "4\n",
      "5\n",
      "6\n",
      "7\n",
      "8\n",
      "9\n",
      "10\n"
     ]
    }
   ],
   "source": [
    "for n in range(11):\n",
    "    print(n)"
   ]
  },
  {
   "cell_type": "code",
   "execution_count": null,
   "metadata": {},
   "outputs": [],
   "source": [
    "# 1, 2, 3, 4, 5, 6, 7, 8, 9"
   ]
  },
  {
   "cell_type": "code",
   "execution_count": 14,
   "metadata": {},
   "outputs": [
    {
     "name": "stdout",
     "output_type": "stream",
     "text": [
      "1\n",
      "2\n",
      "3\n",
      "4\n",
      "5\n",
      "6\n",
      "7\n",
      "8\n",
      "9\n"
     ]
    }
   ],
   "source": [
    "for n in range(1, 10):\n",
    "    print(n)"
   ]
  },
  {
   "cell_type": "code",
   "execution_count": null,
   "metadata": {},
   "outputs": [],
   "source": [
    "# 0, 2, 4, 6, 8"
   ]
  },
  {
   "cell_type": "code",
   "execution_count": 15,
   "metadata": {},
   "outputs": [
    {
     "name": "stdout",
     "output_type": "stream",
     "text": [
      "0\n",
      "2\n",
      "4\n",
      "6\n",
      "8\n"
     ]
    }
   ],
   "source": [
    "for n in range(0, 9, 2):\n",
    "    print(n)"
   ]
  },
  {
   "cell_type": "code",
   "execution_count": null,
   "metadata": {},
   "outputs": [],
   "source": [
    "# 1, 3, 5, 7, 9"
   ]
  },
  {
   "cell_type": "code",
   "execution_count": 16,
   "metadata": {},
   "outputs": [
    {
     "name": "stdout",
     "output_type": "stream",
     "text": [
      "1\n",
      "3\n",
      "5\n",
      "7\n",
      "9\n"
     ]
    }
   ],
   "source": [
    "for n in range(1, 10, 2):\n",
    "    print(n)"
   ]
  },
  {
   "cell_type": "code",
   "execution_count": null,
   "metadata": {},
   "outputs": [],
   "source": [
    "# 20, 30, 40, 50, 60"
   ]
  },
  {
   "cell_type": "code",
   "execution_count": 17,
   "metadata": {},
   "outputs": [
    {
     "name": "stdout",
     "output_type": "stream",
     "text": [
      "20\n",
      "30\n",
      "40\n",
      "50\n",
      "60\n"
     ]
    }
   ],
   "source": [
    "for n in range(20, 61, 10):\n",
    "    print(n)"
   ]
  },
  {
   "cell_type": "markdown",
   "metadata": {},
   "source": [
    "# (6) Defining New Functions"
   ]
  },
  {
   "cell_type": "code",
   "execution_count": null,
   "metadata": {},
   "outputs": [],
   "source": [
    "'''\n",
    "Write function hello() that:\n",
    "\n",
    "(1) Takes a name (i.e., a string) as input; and\n",
    "(2) Prints a personalized welcome message (i.e. Welcome, ###, to the world of Python.)\n",
    "\n",
    ">>> hello('Julie')\n",
    "Welcome, Julie, to the world of Python.\n",
    "'''"
   ]
  },
  {
   "cell_type": "code",
   "execution_count": 18,
   "metadata": {},
   "outputs": [],
   "source": [
    "def hello(name):\n",
    "    print('Welcome, ' + name + ', to the world of Python.')"
   ]
  },
  {
   "cell_type": "code",
   "execution_count": 19,
   "metadata": {},
   "outputs": [
    {
     "name": "stdout",
     "output_type": "stream",
     "text": [
      "Welcome, Julie, to the world of Python.\n"
     ]
    }
   ],
   "source": [
    "hello('Julie')"
   ]
  },
  {
   "cell_type": "code",
   "execution_count": null,
   "metadata": {},
   "outputs": [],
   "source": [
    "'''\n",
    ">>> hello('Julie', 'How are you?')\n",
    "Welcome, Julie, How are you?\n",
    "\n",
    ">>> hello('Julie')\n",
    "Welcome, Julie, to the qworld of Python.\n",
    "'''"
   ]
  },
  {
   "cell_type": "code",
   "execution_count": 20,
   "metadata": {},
   "outputs": [],
   "source": [
    "def hello(name, msg = 'to the world of Python.'): # Takes two values. However, only needs one because it has a default message\n",
    "    print('Welcome, ' + name + ', ' + msg)"
   ]
  },
  {
   "cell_type": "code",
   "execution_count": 21,
   "metadata": {},
   "outputs": [
    {
     "name": "stdout",
     "output_type": "stream",
     "text": [
      "Welcome, Julie, to the world of Python.\n"
     ]
    }
   ],
   "source": [
    "hello('Julie')"
   ]
  },
  {
   "cell_type": "code",
   "execution_count": null,
   "metadata": {},
   "outputs": [],
   "source": [
    "'''\n",
    "Write function rng() that:\n",
    "\n",
    "(1) Takes a list of numbers as input; and\n",
    "(2) Returns the range of the numbers in the list\n",
    "\n",
    ">>> rng([4, 0, 1, -2])\n",
    "6\n",
    "'''"
   ]
  },
  {
   "cell_type": "code",
   "execution_count": 22,
   "metadata": {},
   "outputs": [],
   "source": [
    "def rng(lst):\n",
    "    r = max(lst) - min(lst)\n",
    "    return r"
   ]
  },
  {
   "cell_type": "code",
   "execution_count": 23,
   "metadata": {},
   "outputs": [
    {
     "data": {
      "text/plain": [
       "6"
      ]
     },
     "execution_count": 23,
     "metadata": {},
     "output_type": "execute_result"
    }
   ],
   "source": [
    "rng([4, 0, 1, -2])"
   ]
  }
 ],
 "metadata": {
  "anaconda-cloud": {},
  "kernelspec": {
   "display_name": "Python 3",
   "language": "python",
   "name": "python3"
  },
  "language_info": {
   "codemirror_mode": {
    "name": "ipython",
    "version": 3
   },
   "file_extension": ".py",
   "mimetype": "text/x-python",
   "name": "python",
   "nbconvert_exporter": "python",
   "pygments_lexer": "ipython3",
   "version": "3.8.8"
  }
 },
 "nbformat": 4,
 "nbformat_minor": 4
}
