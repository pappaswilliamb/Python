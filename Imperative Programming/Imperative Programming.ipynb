{
 "cells": [
  {
   "cell_type": "markdown",
   "metadata": {},
   "source": [
    "# (1) Translate the Following Into Python Algebraic or Boolean Expressions and Then Evaluate Them."
   ]
  },
  {
   "cell_type": "code",
   "execution_count": null,
   "metadata": {},
   "outputs": [],
   "source": [
    "''' \n",
    "Q1: The maximum of 2, 5, 7, 0, -5, -3, 9 is equal to the sum of 1, 3, 5.\n",
    "''' "
   ]
  },
  {
   "cell_type": "code",
   "execution_count": 1,
   "metadata": {},
   "outputs": [
    {
     "data": {
      "text/plain": [
       "True"
      ]
     },
     "execution_count": 1,
     "metadata": {},
     "output_type": "execute_result"
    }
   ],
   "source": [
    "max([2, 5, 7, 0, -5, -3, 9]) == sum([1, 3, 5])"
   ]
  },
  {
   "cell_type": "markdown",
   "metadata": {},
   "source": [
    "# (2) Write Python Expressions Involving Strings s1, s2, and s3 That Correspond to:"
   ]
  },
  {
   "cell_type": "code",
   "execution_count": 2,
   "metadata": {},
   "outputs": [],
   "source": [
    "s1 = 'Data'\n",
    "s2 = ' '\n",
    "s3 = 'Science'"
   ]
  },
  {
   "cell_type": "code",
   "execution_count": null,
   "metadata": {},
   "outputs": [],
   "source": [
    "''' \n",
    "Q2: The total number of characters in the concatenation of 5 copies of \"the concatenation of s1, s2, and s3\" \n",
    "    is bigger than 65.\n",
    "''' "
   ]
  },
  {
   "cell_type": "code",
   "execution_count": 3,
   "metadata": {},
   "outputs": [
    {
     "data": {
      "text/plain": [
       "False"
      ]
     },
     "execution_count": 3,
     "metadata": {},
     "output_type": "execute_result"
    }
   ],
   "source": [
    "len(5 * (s1 + s2 + s3)) > 65"
   ]
  },
  {
   "cell_type": "markdown",
   "metadata": {},
   "source": [
    "# (3) String s Is Defined to be \"Clemson University\". Write Expressions Using s and the Indexing Operator [] That Returns the Following Strings:"
   ]
  },
  {
   "cell_type": "code",
   "execution_count": 4,
   "metadata": {},
   "outputs": [],
   "source": [
    "s = 'Clemson University'"
   ]
  },
  {
   "cell_type": "code",
   "execution_count": null,
   "metadata": {},
   "outputs": [],
   "source": [
    "''' \n",
    "Q3: 'U'\n",
    "''' "
   ]
  },
  {
   "cell_type": "code",
   "execution_count": 5,
   "metadata": {},
   "outputs": [
    {
     "data": {
      "text/plain": [
       "'U'"
      ]
     },
     "execution_count": 5,
     "metadata": {},
     "output_type": "execute_result"
    }
   ],
   "source": [
    "s[8]"
   ]
  },
  {
   "cell_type": "code",
   "execution_count": 6,
   "metadata": {},
   "outputs": [
    {
     "data": {
      "text/plain": [
       "'U'"
      ]
     },
     "execution_count": 6,
     "metadata": {},
     "output_type": "execute_result"
    }
   ],
   "source": [
    "s[-10]"
   ]
  },
  {
   "cell_type": "markdown",
   "metadata": {},
   "source": [
    "# (4) List lst Is a List of Prices For a Pair of Boots at Different Online Retailers."
   ]
  },
  {
   "cell_type": "code",
   "execution_count": 7,
   "metadata": {},
   "outputs": [],
   "source": [
    "lst = [159.99, 160.00, 205.95, 128.83, 175.49]"
   ]
  },
  {
   "cell_type": "code",
   "execution_count": null,
   "metadata": {},
   "outputs": [],
   "source": [
    "''' \n",
    "Q4: Compute the number of retailers selling the boots for 160.00.\n",
    "''' "
   ]
  },
  {
   "cell_type": "code",
   "execution_count": 8,
   "metadata": {},
   "outputs": [
    {
     "data": {
      "text/plain": [
       "1"
      ]
     },
     "execution_count": 8,
     "metadata": {},
     "output_type": "execute_result"
    }
   ],
   "source": [
    "lst.count(160.00)"
   ]
  },
  {
   "cell_type": "code",
   "execution_count": null,
   "metadata": {},
   "outputs": [],
   "source": [
    "''' \n",
    "Q5: Find the index of the retailer selling the boots for 160.00 in list lst.\n",
    "''' "
   ]
  },
  {
   "cell_type": "code",
   "execution_count": 9,
   "metadata": {},
   "outputs": [
    {
     "data": {
      "text/plain": [
       "1"
      ]
     },
     "execution_count": 9,
     "metadata": {},
     "output_type": "execute_result"
    }
   ],
   "source": [
    "lst.index(160.00)"
   ]
  },
  {
   "cell_type": "markdown",
   "metadata": {},
   "source": [
    "# (5) Print() Function"
   ]
  },
  {
   "cell_type": "code",
   "execution_count": null,
   "metadata": {},
   "outputs": [],
   "source": [
    "''' \n",
    "Q6: Write a program that:\n",
    "\n",
    "(1) Assigns a string value 'Clemson' to a variable school;\n",
    "(2) Assigns a string value 'Tigers' to a variable slogan; and\n",
    "(3) Prints a following message using variables school and slogan:\n",
    "\n",
    "'Clemson Tigers'\n",
    "'''"
   ]
  },
  {
   "cell_type": "code",
   "execution_count": 10,
   "metadata": {},
   "outputs": [
    {
     "name": "stdout",
     "output_type": "stream",
     "text": [
      "'Clemson Tigers'\n"
     ]
    }
   ],
   "source": [
    "school = \"'Clemson\"\n",
    "slogan = \"Tigers'\"\n",
    "print(school + ' ' + slogan)"
   ]
  },
  {
   "cell_type": "markdown",
   "metadata": {},
   "source": [
    "# (6) Input() Function"
   ]
  },
  {
   "cell_type": "code",
   "execution_count": null,
   "metadata": {},
   "outputs": [],
   "source": [
    "'''\n",
    "Q7: Write a program that:\n",
    "\n",
    "(1) Requests the user’s first name;\n",
    "(2) Requests the user's school name;\n",
    "(3) Requests the last year when the user's school won the CFP Championship; and\n",
    "(4) Prints the message:\n",
    "\n",
    "Hello ###\n",
    "######### won CFP Championship ####\n",
    "It has been # year(s)\n",
    "\n",
    ">>> \n",
    "What is your first name? Blake\n",
    "What is your school name? Clemson University\n",
    "When is the last year your school won the CFP Championship? 2018\n",
    "\n",
    "Hello Blake\n",
    "Clemson University won CFP Championship 2018\n",
    "It has been 2 year(s)\n",
    "'''"
   ]
  },
  {
   "cell_type": "code",
   "execution_count": 12,
   "metadata": {},
   "outputs": [
    {
     "name": "stdout",
     "output_type": "stream",
     "text": [
      "What is your first name? Blake\n",
      "What is your school name? Clemson University\n",
      "When is the last year your school won the CFP Championship? 2018\n",
      "\n",
      "Hello Blake\n",
      "Clemson University won CFP Championship 2018\n",
      "It has been 5 year(s)\n"
     ]
    }
   ],
   "source": [
    "import time\n",
    "current_year = int(time.strftime('%Y'))\n",
    "first_name = input('What is your first name? ')\n",
    "school_name = input('What is your school name? ')\n",
    "last_CFP = int(input('When is the last year your school won the CFP Championship? '))\n",
    "num_years = current_year - last_CFP\n",
    "print()\n",
    "print('Hello ' + first_name)\n",
    "print(school_name + ' won CFP Championship ' + str(last_CFP))\n",
    "print('It has been ' + str(num_years) + ' year(s)')"
   ]
  },
  {
   "cell_type": "markdown",
   "metadata": {},
   "source": [
    "# (7) If Statement"
   ]
  },
  {
   "cell_type": "code",
   "execution_count": null,
   "metadata": {},
   "outputs": [],
   "source": [
    "'''\n",
    "Q8: Write a program that:\n",
    "\n",
    "(1) Requests the health;\n",
    "(2) Requests the shield; and\n",
    "(3) Requests the damage:\n",
    "\n",
    "If damage is greater than or equal to the sum of health and shield, prints:\n",
    "\n",
    "Sorry... You're dead...\n",
    "Goodbye...\n",
    "\n",
    "If damage is smaller than the sum of health and shield, prints:\n",
    "\n",
    "Congratulations! You've survived!\n",
    "Goodbye!\n",
    "\n",
    ">>>\n",
    "Enter the health: 100\n",
    "Enter the shield: 50\n",
    "Enter the damage: 150\n",
    "\n",
    "Sorry... You're dead...\n",
    "Goodbye...\n",
    "\n",
    ">>>\n",
    "Enter the health: 100\n",
    "Enter the shield: 50\n",
    "Enter the damage: 100\n",
    "\n",
    "Congratulations! You've survived!\n",
    "Goodbye!\n",
    "'''"
   ]
  },
  {
   "cell_type": "code",
   "execution_count": 14,
   "metadata": {},
   "outputs": [
    {
     "name": "stdout",
     "output_type": "stream",
     "text": [
      "Enter the health: 100\n",
      "Enter the shield: 50\n",
      "Enter the damage: 150\n",
      "\n",
      "Sorry... You're dead...\n",
      "Goodbye...\n"
     ]
    }
   ],
   "source": [
    "health = int(input('Enter the health: '))\n",
    "shield = int(input('Enter the shield: '))\n",
    "damage = int(input('Enter the damage: '))\n",
    "print()\n",
    "if damage >= health + shield:\n",
    "    print(\"Sorry... You're dead...\")\n",
    "    print('Goodbye...')\n",
    "else:\n",
    "    print(\"Congratulation! You've survived!\")\n",
    "    print('Goodbye!')"
   ]
  },
  {
   "cell_type": "markdown",
   "metadata": {},
   "source": [
    "# (8) For Loop Statement"
   ]
  },
  {
   "cell_type": "code",
   "execution_count": null,
   "metadata": {},
   "outputs": [],
   "source": [
    "'''\n",
    "Q9: Write a \"spelling\" program that:\n",
    "\n",
    "(1) Assigns strings (i.e. 'apple', 'pear', 'strawberry') to a list variable lst; and\n",
    "(2) Prints a number of items in the list with the message:\n",
    "\n",
    "The last letters of the # strings are:\n",
    "\n",
    "Prints the last letter of each item from right to left in the list, one per line.\n",
    "\n",
    ">>>\n",
    "The last letters of the 3 strings are:\n",
    "y\n",
    "r\n",
    "e\n",
    "'''"
   ]
  },
  {
   "cell_type": "code",
   "execution_count": 22,
   "metadata": {},
   "outputs": [
    {
     "name": "stdout",
     "output_type": "stream",
     "text": [
      "The last letters of the 3 strings are:\n",
      "y\n",
      "r\n",
      "e\n"
     ]
    }
   ],
   "source": [
    "lst = input('Enter a list: ')\n",
    "lst.reverse()\n",
    "print('The last letters of the 3 strings are:')\n",
    "\n",
    "for strings in eval(lst):\n",
    "    print(strings[-1])"
   ]
  },
  {
   "cell_type": "markdown",
   "metadata": {},
   "source": [
    "# (9) range() Function"
   ]
  },
  {
   "cell_type": "code",
   "execution_count": null,
   "metadata": {},
   "outputs": [],
   "source": [
    "'''\n",
    "Q10: Using the range() function, write a program that:\n",
    "\n",
    "(1) Requests the beginnig of the range;\n",
    "(2) Requests the ending of the range;\n",
    "(3) Requests the interval of ther range; and\n",
    "(4) Prints a sequence of numbers, one per line.\n",
    "\n",
    ">>>\n",
    "Please enter the beginning of the range: 5\n",
    "Please enter the ending of the range: 11\n",
    "Please enter the interval of the range: 2\n",
    "5\n",
    "7\n",
    "9\n",
    "11\n",
    "'''"
   ]
  },
  {
   "cell_type": "code",
   "execution_count": 1,
   "metadata": {},
   "outputs": [
    {
     "name": "stdout",
     "output_type": "stream",
     "text": [
      "Please enter the beginning of the range: 5\n",
      "Please enter the ending of the range: 11\n",
      "Please enter the interval of the range: 2\n",
      "5\n",
      "7\n",
      "9\n",
      "11\n"
     ]
    }
   ],
   "source": [
    "beginning = int(input('Please enter the beginning of the range: '))\n",
    "ending = 1 + int(input('Please enter the ending of the range: '))\n",
    "interval = int(input('Please enter the interval of the range: '))\n",
    "for n in range(beginning, ending, interval):\n",
    "    print (n)"
   ]
  }
 ],
 "metadata": {
  "anaconda-cloud": {},
  "kernelspec": {
   "display_name": "Python 3",
   "language": "python",
   "name": "python3"
  },
  "language_info": {
   "codemirror_mode": {
    "name": "ipython",
    "version": 3
   },
   "file_extension": ".py",
   "mimetype": "text/x-python",
   "name": "python",
   "nbconvert_exporter": "python",
   "pygments_lexer": "ipython3",
   "version": "3.8.8"
  }
 },
 "nbformat": 4,
 "nbformat_minor": 4
}
