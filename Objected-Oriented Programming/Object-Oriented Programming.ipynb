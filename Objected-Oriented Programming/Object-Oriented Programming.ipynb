{
 "cells": [
  {
   "cell_type": "markdown",
   "metadata": {},
   "source": [
    "# (1) Implementing a New Class"
   ]
  },
  {
   "cell_type": "code",
   "execution_count": null,
   "metadata": {},
   "outputs": [],
   "source": [
    "'''\n",
    "Q1: Implement a class \"Circle\" that represents circles. The class should support the following methods:\n",
    "\n",
    "setSize(diameter): Takes a numeric value as input ans sets the diameter of the circle\n",
    "perimeter(): Returns the perimeter of the circle\n",
    "area(): Returns the area of the circle\n",
    "\n",
    ">>> circle = Circle()\n",
    ">>> circle.setSize(20)\n",
    ">>> circle.perimeter()\n",
    "62.83185307179586\n",
    ">>> circle.area()\n",
    "314.1592653589793\n",
    "'''"
   ]
  },
  {
   "cell_type": "code",
   "execution_count": 1,
   "metadata": {},
   "outputs": [],
   "source": [
    "class Circle:\n",
    "    \n",
    "    def setSize(self, diameter):\n",
    "        self.diam = diameter\n",
    "    \n",
    "    def perimeter(self):\n",
    "        import math\n",
    "        return math.pi * self.diam\n",
    "    \n",
    "    def area(self):\n",
    "        import math\n",
    "        return math.pi * (self.diam / 2) ** 2"
   ]
  },
  {
   "cell_type": "code",
   "execution_count": 2,
   "metadata": {},
   "outputs": [],
   "source": [
    "circle = Circle()"
   ]
  },
  {
   "cell_type": "code",
   "execution_count": 3,
   "metadata": {},
   "outputs": [],
   "source": [
    "circle.setSize(20)"
   ]
  },
  {
   "cell_type": "code",
   "execution_count": 4,
   "metadata": {},
   "outputs": [
    {
     "data": {
      "text/plain": [
       "62.83185307179586"
      ]
     },
     "execution_count": 4,
     "metadata": {},
     "output_type": "execute_result"
    }
   ],
   "source": [
    "circle.perimeter()"
   ]
  },
  {
   "cell_type": "code",
   "execution_count": 5,
   "metadata": {},
   "outputs": [
    {
     "data": {
      "text/plain": [
       "314.1592653589793"
      ]
     },
     "execution_count": 5,
     "metadata": {},
     "output_type": "execute_result"
    }
   ],
   "source": [
    "circle.area()"
   ]
  },
  {
   "cell_type": "code",
   "execution_count": null,
   "metadata": {},
   "outputs": [],
   "source": [
    "'''\n",
    "Q2: Implement a class \"BankAccount\" that supports the following methods:\n",
    "\n",
    "setbalance(amount): Takes an amount as input and set the initial balance\n",
    "deposit(amount): Takes an amount as input and adds it to the balance\n",
    "withdraw(amount): Takes an amount as input and withdraws it from the balance\n",
    "balance(): Returns the balance of the account\n",
    "    \n",
    ">>> account = BankAccount()\n",
    ">>> account.setbalance(30)\n",
    ">>> account.deposit(100)\n",
    ">>> account.withdraw(30)\n",
    ">>> account.balance()\n",
    "100\n",
    "'''"
   ]
  },
  {
   "cell_type": "code",
   "execution_count": 6,
   "metadata": {},
   "outputs": [],
   "source": [
    "class BankAccount:\n",
    "    \n",
    "    def setbalance(self, amount1):\n",
    "        self.balance1 = amount1\n",
    "        \n",
    "    def deposit(self, amount2):\n",
    "        self.balance2 = self.balance1 + amount2\n",
    "    \n",
    "    def withdraw(self, amount3):\n",
    "        self.balance3 = self.balance2 - amount3\n",
    "    \n",
    "    def balance(self):\n",
    "        return self.balance3"
   ]
  },
  {
   "cell_type": "code",
   "execution_count": 7,
   "metadata": {},
   "outputs": [],
   "source": [
    "account = BankAccount()"
   ]
  },
  {
   "cell_type": "code",
   "execution_count": 8,
   "metadata": {},
   "outputs": [],
   "source": [
    "account.setbalance(30)"
   ]
  },
  {
   "cell_type": "code",
   "execution_count": 9,
   "metadata": {},
   "outputs": [],
   "source": [
    "account.deposit(100)"
   ]
  },
  {
   "cell_type": "code",
   "execution_count": 10,
   "metadata": {},
   "outputs": [],
   "source": [
    "account.withdraw(30)"
   ]
  },
  {
   "cell_type": "code",
   "execution_count": 11,
   "metadata": {},
   "outputs": [
    {
     "data": {
      "text/plain": [
       "100"
      ]
     },
     "execution_count": 11,
     "metadata": {},
     "output_type": "execute_result"
    }
   ],
   "source": [
    "account.balance()"
   ]
  },
  {
   "cell_type": "code",
   "execution_count": null,
   "metadata": {},
   "outputs": [],
   "source": [
    "'''\n",
    "Q3: Implement a class \"Employee\" that support methods:\n",
    "\n",
    "name(firstname): Takes one's first name as input\n",
    "rate(payrate): Takes one's hourly pay rate as input\n",
    "changeRate(newpayrate): Takes the new pay rate as input and changes the employee's pay rate to the new hourly rate\n",
    "pay(hours): Takes the number of hours worked as input and returns total payment (i.e. one's pay rate * total hours)\n",
    "\n",
    ">>> e1 = Employee()\n",
    ">>> e1.name('Jeff')\n",
    ">>> e1.rate(10)\n",
    ">>> e1.changeRate(20)\n",
    ">>> e1.pay(20)\n",
    "400\n",
    "'''"
   ]
  },
  {
   "cell_type": "code",
   "execution_count": 12,
   "metadata": {},
   "outputs": [],
   "source": [
    "class Employee:\n",
    "    \n",
    "    def name(self, firstname):\n",
    "        self.nme = firstname\n",
    "        \n",
    "    def rate(self, payrate):\n",
    "        self.prate = payrate\n",
    "    \n",
    "    def changeRate(self, newpayrate):\n",
    "        self.nprate = newpayrate\n",
    "    \n",
    "    def pay(self, hours):\n",
    "        return self.nprate * hours"
   ]
  },
  {
   "cell_type": "code",
   "execution_count": 13,
   "metadata": {},
   "outputs": [],
   "source": [
    "e1 = Employee()"
   ]
  },
  {
   "cell_type": "code",
   "execution_count": 14,
   "metadata": {},
   "outputs": [],
   "source": [
    "e1.name('Jeff')"
   ]
  },
  {
   "cell_type": "code",
   "execution_count": 15,
   "metadata": {},
   "outputs": [],
   "source": [
    "e1.rate(10)"
   ]
  },
  {
   "cell_type": "code",
   "execution_count": 16,
   "metadata": {},
   "outputs": [],
   "source": [
    "e1.changeRate(20)"
   ]
  },
  {
   "cell_type": "code",
   "execution_count": 17,
   "metadata": {},
   "outputs": [
    {
     "data": {
      "text/plain": [
       "400"
      ]
     },
     "execution_count": 17,
     "metadata": {},
     "output_type": "execute_result"
    }
   ],
   "source": [
    "e1.pay(20)"
   ]
  },
  {
   "cell_type": "markdown",
   "metadata": {},
   "source": [
    "# (2) Overloaded Class"
   ]
  },
  {
   "cell_type": "code",
   "execution_count": null,
   "metadata": {},
   "outputs": [],
   "source": [
    "'''\n",
    "Q4: Modify the class \"Circle\" of Q1 to perform the following:\n",
    "\n",
    ">>> c1 = Circle(20)\n",
    ">>> c1.perimeter()\n",
    "62.83185307179586\n",
    ">>> c1.area()\n",
    "314.1592653589793\n",
    ">>> c2 = Circle()\n",
    ">>> c2.perimeter()\n",
    "0.0\n",
    ">>> c2.area()\n",
    "0.0\n",
    "'''"
   ]
  },
  {
   "cell_type": "code",
   "execution_count": 18,
   "metadata": {},
   "outputs": [],
   "source": [
    "class Circle:\n",
    "    \n",
    "    def __init__(self, number = 0):\n",
    "        self.num = number\n",
    "    \n",
    "    def perimeter(self):\n",
    "        import math\n",
    "        return math.pi * self.num\n",
    "    \n",
    "    def area(self):\n",
    "        import math\n",
    "        return math.pi * (self.num / 2) ** 2"
   ]
  },
  {
   "cell_type": "code",
   "execution_count": 19,
   "metadata": {},
   "outputs": [],
   "source": [
    "c1 = Circle(20)"
   ]
  },
  {
   "cell_type": "code",
   "execution_count": 20,
   "metadata": {},
   "outputs": [
    {
     "data": {
      "text/plain": [
       "62.83185307179586"
      ]
     },
     "execution_count": 20,
     "metadata": {},
     "output_type": "execute_result"
    }
   ],
   "source": [
    "c1.perimeter()"
   ]
  },
  {
   "cell_type": "code",
   "execution_count": 21,
   "metadata": {},
   "outputs": [
    {
     "data": {
      "text/plain": [
       "314.1592653589793"
      ]
     },
     "execution_count": 21,
     "metadata": {},
     "output_type": "execute_result"
    }
   ],
   "source": [
    "c1.area()"
   ]
  },
  {
   "cell_type": "code",
   "execution_count": 22,
   "metadata": {},
   "outputs": [],
   "source": [
    "c2 = Circle()"
   ]
  },
  {
   "cell_type": "code",
   "execution_count": 23,
   "metadata": {},
   "outputs": [
    {
     "data": {
      "text/plain": [
       "0.0"
      ]
     },
     "execution_count": 23,
     "metadata": {},
     "output_type": "execute_result"
    }
   ],
   "source": [
    "c2.perimeter()"
   ]
  },
  {
   "cell_type": "code",
   "execution_count": 24,
   "metadata": {},
   "outputs": [
    {
     "data": {
      "text/plain": [
       "0.0"
      ]
     },
     "execution_count": 24,
     "metadata": {},
     "output_type": "execute_result"
    }
   ],
   "source": [
    "c2.area()"
   ]
  },
  {
   "cell_type": "code",
   "execution_count": null,
   "metadata": {},
   "outputs": [],
   "source": [
    "'''\n",
    "Q5: Modify the class BankAccount of Q2 to perform followings:\n",
    "\n",
    ">>> a1 = BankAccount(200)\n",
    ">>> a2 = BankAccount(100)\n",
    ">>> a1 + a2\n",
    "300\n",
    ">>> a1 - a2\n",
    "100\n",
    "'''"
   ]
  },
  {
   "cell_type": "code",
   "execution_count": 25,
   "metadata": {},
   "outputs": [],
   "source": [
    "class BankAccount:\n",
    "    \n",
    "    def __init__(self, number):\n",
    "        self.num = number\n",
    "    \n",
    "    def setbalance(self):\n",
    "        self.balance1 = self.num\n",
    "        \n",
    "    def deposit(self, amount2):\n",
    "        self.balance2 = self.balance1 + amount2\n",
    "    \n",
    "    def withdraw(self, amount3):\n",
    "        self.balance3 = self.balance2 - amount3\n",
    "    \n",
    "    def balance(self):\n",
    "        return self.balance3"
   ]
  },
  {
   "cell_type": "code",
   "execution_count": 26,
   "metadata": {},
   "outputs": [],
   "source": [
    "a1 = BankAccount(200)"
   ]
  },
  {
   "cell_type": "code",
   "execution_count": 27,
   "metadata": {},
   "outputs": [],
   "source": [
    "a2 = BankAccount(100)"
   ]
  },
  {
   "cell_type": "code",
   "execution_count": 30,
   "metadata": {},
   "outputs": [
    {
     "name": "stdout",
     "output_type": "stream",
     "text": [
      "300\n"
     ]
    }
   ],
   "source": [
    "a1 + a2"
   ]
  },
  {
   "cell_type": "code",
   "execution_count": 31,
   "metadata": {},
   "outputs": [
    {
     "name": "stdout",
     "output_type": "stream",
     "text": [
      "100\n"
     ]
    }
   ],
   "source": [
    "a1 - a2"
   ]
  },
  {
   "cell_type": "code",
   "execution_count": null,
   "metadata": {},
   "outputs": [],
   "source": [
    "'''\n",
    "Q6: Modify the class \"Employee\" of Q3 to perform followings:\n",
    "\n",
    ">>> e1 = Employee('Jeff', 20)\n",
    ">>> e2 = Employee('Grace', 30)\n",
    ">>> e1.pay()\n",
    "20\n",
    ">>> e2.pay()\n",
    "30\n",
    ">>> e2.changeRate(20)\n",
    ">>> e1 == e2\n",
    "True\n",
    "'''"
   ]
  },
  {
   "cell_type": "code",
   "execution_count": 32,
   "metadata": {},
   "outputs": [],
   "source": [
    "class Employee:\n",
    "    \n",
    "    def __init__(self, firstname, rate):\n",
    "        self.nme = firstname\n",
    "        self.r = rate\n",
    "    \n",
    "    def pay(self):\n",
    "        return self.r\n",
    "    \n",
    "    def changeRate(self, newpayrate):\n",
    "        self.nprate = newpayrate\n",
    "        self.r = self.nprate\n",
    "        \n",
    "    def __eq__(self, point):\n",
    "        return self.r == point.r"
   ]
  },
  {
   "cell_type": "code",
   "execution_count": 33,
   "metadata": {},
   "outputs": [],
   "source": [
    "e1 = Employee('Jeff', 20)"
   ]
  },
  {
   "cell_type": "code",
   "execution_count": 34,
   "metadata": {},
   "outputs": [],
   "source": [
    "e2 = Employee('Grace', 30)"
   ]
  },
  {
   "cell_type": "code",
   "execution_count": 35,
   "metadata": {},
   "outputs": [
    {
     "data": {
      "text/plain": [
       "20"
      ]
     },
     "execution_count": 35,
     "metadata": {},
     "output_type": "execute_result"
    }
   ],
   "source": [
    "e1.pay()"
   ]
  },
  {
   "cell_type": "code",
   "execution_count": 36,
   "metadata": {},
   "outputs": [
    {
     "data": {
      "text/plain": [
       "30"
      ]
     },
     "execution_count": 36,
     "metadata": {},
     "output_type": "execute_result"
    }
   ],
   "source": [
    "e2.pay()"
   ]
  },
  {
   "cell_type": "code",
   "execution_count": 37,
   "metadata": {},
   "outputs": [],
   "source": [
    "e2.changeRate(20)"
   ]
  },
  {
   "cell_type": "code",
   "execution_count": 38,
   "metadata": {},
   "outputs": [
    {
     "data": {
      "text/plain": [
       "True"
      ]
     },
     "execution_count": 38,
     "metadata": {},
     "output_type": "execute_result"
    }
   ],
   "source": [
    "e1 == e2"
   ]
  },
  {
   "cell_type": "markdown",
   "metadata": {},
   "source": [
    "# (3) Inheritance"
   ]
  },
  {
   "cell_type": "code",
   "execution_count": null,
   "metadata": {},
   "outputs": [],
   "source": [
    "'''\n",
    "Q7: Develop a class \"Employee2\" as a subclass of \"Employee\". \n",
    "    The \"Employee2\" should overide the inherited operator == to compare firstnames of employees as shown below:\n",
    "    \n",
    ">>> e1 = Employee2('Jeff', 20)\n",
    ">>> e2 = Employee2('Jeff', 30)\n",
    ">>> e1 == e2\n",
    "True\n",
    "'''"
   ]
  },
  {
   "cell_type": "code",
   "execution_count": 39,
   "metadata": {},
   "outputs": [],
   "source": [
    "class Employee2(Employee):\n",
    "    def __eq__(self, point):\n",
    "        return self.nme == point.nme"
   ]
  },
  {
   "cell_type": "code",
   "execution_count": 40,
   "metadata": {},
   "outputs": [],
   "source": [
    "e1 = Employee2('Jeff', 20)"
   ]
  },
  {
   "cell_type": "code",
   "execution_count": 41,
   "metadata": {},
   "outputs": [],
   "source": [
    "e2 = Employee2('Jeff', 30)"
   ]
  },
  {
   "cell_type": "code",
   "execution_count": 42,
   "metadata": {},
   "outputs": [
    {
     "data": {
      "text/plain": [
       "True"
      ]
     },
     "execution_count": 42,
     "metadata": {},
     "output_type": "execute_result"
    }
   ],
   "source": [
    "e1 == e2"
   ]
  },
  {
   "cell_type": "code",
   "execution_count": null,
   "metadata": {},
   "outputs": [],
   "source": [
    "'''\n",
    "Q8: Develop a class \"Employee3\" as a subclass of \"Employee\". \n",
    "    The \"Employee3\" overloads the inherited operator == to compare firstnames and payrates of employees as shown below:\n",
    "    \n",
    ">>> e1 = Employee3('Jeff', 20)\n",
    ">>> e2 = Employee3('Jeff', 30)\n",
    ">>> e1 == e2\n",
    "False\n",
    ">>> e3 = Employee3('Jeff', 20)\n",
    ">>> e4 = Employee3('Grace', 20)\n",
    ">>> e3 == e4\n",
    "False\n",
    ">>> e5 = Employee3('Jeff', 20)\n",
    ">>> e6 = Employee3('Jeff', 20)\n",
    ">>> e5 == e6\n",
    "True\n",
    "'''"
   ]
  },
  {
   "cell_type": "code",
   "execution_count": 43,
   "metadata": {},
   "outputs": [],
   "source": [
    "class Employee3(Employee):\n",
    "    def __eq__(self, point):\n",
    "        return self.nme == point.nme and self.r == point.r"
   ]
  },
  {
   "cell_type": "code",
   "execution_count": 44,
   "metadata": {},
   "outputs": [],
   "source": [
    "e1 = Employee3('Jeff', 20)"
   ]
  },
  {
   "cell_type": "code",
   "execution_count": 45,
   "metadata": {},
   "outputs": [],
   "source": [
    "e2 = Employee3('Jeff', 30)"
   ]
  },
  {
   "cell_type": "code",
   "execution_count": 46,
   "metadata": {},
   "outputs": [
    {
     "data": {
      "text/plain": [
       "False"
      ]
     },
     "execution_count": 46,
     "metadata": {},
     "output_type": "execute_result"
    }
   ],
   "source": [
    "e1 == e2"
   ]
  },
  {
   "cell_type": "code",
   "execution_count": 47,
   "metadata": {},
   "outputs": [],
   "source": [
    "e3 = Employee3('Jeff', 20)"
   ]
  },
  {
   "cell_type": "code",
   "execution_count": 48,
   "metadata": {},
   "outputs": [],
   "source": [
    "e4 = Employee3('Grace', 20)"
   ]
  },
  {
   "cell_type": "code",
   "execution_count": 49,
   "metadata": {},
   "outputs": [
    {
     "data": {
      "text/plain": [
       "False"
      ]
     },
     "execution_count": 49,
     "metadata": {},
     "output_type": "execute_result"
    }
   ],
   "source": [
    "e3 == e4"
   ]
  },
  {
   "cell_type": "code",
   "execution_count": 50,
   "metadata": {},
   "outputs": [],
   "source": [
    "e5 = Employee3('Jeff', 20)"
   ]
  },
  {
   "cell_type": "code",
   "execution_count": 51,
   "metadata": {},
   "outputs": [],
   "source": [
    "e6 = Employee3('Jeff', 20)"
   ]
  },
  {
   "cell_type": "code",
   "execution_count": 52,
   "metadata": {},
   "outputs": [
    {
     "data": {
      "text/plain": [
       "True"
      ]
     },
     "execution_count": 52,
     "metadata": {},
     "output_type": "execute_result"
    }
   ],
   "source": [
    "e5 == e6"
   ]
  },
  {
   "cell_type": "code",
   "execution_count": null,
   "metadata": {},
   "outputs": [],
   "source": [
    "'''\n",
    "Q9: Develop a container class \"Statistic\" that stores a sequence of numbers and\n",
    "    provides statistical information about the numbers. It should support an overloaded contructor that\n",
    "    initializes the container and the methods shown below:\n",
    "    \n",
    ">>> s1 = Statistic()\n",
    ">>> s1.add(2)   # Adds 2 to the \"Statistic\" container\n",
    ">>> s1.add(4)\n",
    ">>> s1.add(6)\n",
    ">>> s1.add(8)\n",
    ">>> s1.min()\n",
    "2\n",
    ">>> s1.max()\n",
    "8\n",
    "'''"
   ]
  },
  {
   "cell_type": "code",
   "execution_count": 53,
   "metadata": {},
   "outputs": [],
   "source": [
    "class Statistic:\n",
    "    def __init__ (self):\n",
    "        self.lst = []\n",
    "    def add(self, item):\n",
    "        self.lst.append(item)\n",
    "    def min(self):\n",
    "        return min(self.lst)\n",
    "    def max(self):\n",
    "        return max(self.lst)"
   ]
  },
  {
   "cell_type": "code",
   "execution_count": 54,
   "metadata": {},
   "outputs": [],
   "source": [
    "s1 = Statistic()"
   ]
  },
  {
   "cell_type": "code",
   "execution_count": 55,
   "metadata": {},
   "outputs": [],
   "source": [
    "s1.add(2)"
   ]
  },
  {
   "cell_type": "code",
   "execution_count": 56,
   "metadata": {},
   "outputs": [],
   "source": [
    "s1.add(4)"
   ]
  },
  {
   "cell_type": "code",
   "execution_count": 57,
   "metadata": {},
   "outputs": [],
   "source": [
    "s1.add(6)"
   ]
  },
  {
   "cell_type": "code",
   "execution_count": 58,
   "metadata": {},
   "outputs": [],
   "source": [
    "s1.add(8)"
   ]
  },
  {
   "cell_type": "code",
   "execution_count": 59,
   "metadata": {},
   "outputs": [
    {
     "data": {
      "text/plain": [
       "2"
      ]
     },
     "execution_count": 59,
     "metadata": {},
     "output_type": "execute_result"
    }
   ],
   "source": [
    "s1.min()"
   ]
  },
  {
   "cell_type": "code",
   "execution_count": 60,
   "metadata": {},
   "outputs": [
    {
     "data": {
      "text/plain": [
       "8"
      ]
     },
     "execution_count": 60,
     "metadata": {},
     "output_type": "execute_result"
    }
   ],
   "source": [
    "s1.max()"
   ]
  },
  {
   "cell_type": "code",
   "execution_count": null,
   "metadata": {},
   "outputs": [],
   "source": [
    "'''\n",
    "Q10: Develop a class \"AdvancedStat\" as a subclass of \"Statistic\". \n",
    "     \"AdvancedStat\" should support the following methods shown below:\n",
    "    \n",
    ">>> s2 = AdvancedStat([2, 4, 6, 8])\n",
    ">>> s2.add(10)\n",
    ">>> s2.min()\n",
    "2\n",
    ">>> s2.max()\n",
    "10\n",
    ">>> s2.sum()\n",
    "30\n",
    ">>> s2.mean()\n",
    "6.0\n",
    "\n",
    "'''"
   ]
  },
  {
   "cell_type": "code",
   "execution_count": 61,
   "metadata": {},
   "outputs": [],
   "source": [
    "class AdvancedStat(Statistic):\n",
    "    def add(self):\n",
    "        self.lst.add()\n",
    "    def min(self):\n",
    "        return min(self.lst)\n",
    "    def max(self):\n",
    "        return max(self.lst)\n",
    "    def sum(self):\n",
    "        return sum(self.lst)\n",
    "    def mean(self):\n",
    "        return sum(self.lst) / len(self.lst)"
   ]
  },
  {
   "cell_type": "code",
   "execution_count": null,
   "metadata": {},
   "outputs": [],
   "source": [
    "s2 = AdvancedStat([2, 4, 6, 8])"
   ]
  },
  {
   "cell_type": "code",
   "execution_count": null,
   "metadata": {},
   "outputs": [],
   "source": [
    "s2.add(10)"
   ]
  },
  {
   "cell_type": "code",
   "execution_count": 65,
   "metadata": {},
   "outputs": [
    {
     "name": "stdout",
     "output_type": "stream",
     "text": [
      "2\n"
     ]
    }
   ],
   "source": [
    "s2.min()"
   ]
  },
  {
   "cell_type": "code",
   "execution_count": 72,
   "metadata": {},
   "outputs": [
    {
     "data": {
      "text/plain": [
       "10"
      ]
     },
     "execution_count": 72,
     "metadata": {},
     "output_type": "execute_result"
    }
   ],
   "source": [
    "s2.max()"
   ]
  },
  {
   "cell_type": "code",
   "execution_count": 73,
   "metadata": {},
   "outputs": [
    {
     "data": {
      "text/plain": [
       "30"
      ]
     },
     "execution_count": 73,
     "metadata": {},
     "output_type": "execute_result"
    }
   ],
   "source": [
    "s2.sum()"
   ]
  },
  {
   "cell_type": "code",
   "execution_count": 77,
   "metadata": {},
   "outputs": [
    {
     "data": {
      "text/plain": [
       "6.0"
      ]
     },
     "execution_count": 77,
     "metadata": {},
     "output_type": "execute_result"
    }
   ],
   "source": [
    "s2.mean()"
   ]
  }
 ],
 "metadata": {
  "anaconda-cloud": {},
  "kernelspec": {
   "display_name": "Python 3",
   "language": "python",
   "name": "python3"
  },
  "language_info": {
   "codemirror_mode": {
    "name": "ipython",
    "version": 3
   },
   "file_extension": ".py",
   "mimetype": "text/x-python",
   "name": "python",
   "nbconvert_exporter": "python",
   "pygments_lexer": "ipython3",
   "version": "3.8.8"
  }
 },
 "nbformat": 4,
 "nbformat_minor": 4
}
