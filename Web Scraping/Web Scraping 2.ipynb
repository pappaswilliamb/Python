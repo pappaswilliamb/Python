{
 "cells": [
  {
   "cell_type": "markdown",
   "metadata": {},
   "source": [
    "# Practice #1: Let's Play With Cnet.com\n",
    "\n",
    "https://www.cnet.com/reviews/samsung-un65f9000-review/"
   ]
  },
  {
   "cell_type": "code",
   "execution_count": null,
   "metadata": {},
   "outputs": [],
   "source": [
    "from bs4 import BeautifulSoup\n",
    "from urllib.request import urlopen"
   ]
  },
  {
   "cell_type": "code",
   "execution_count": null,
   "metadata": {},
   "outputs": [],
   "source": [
    "infile = urlopen('https://www.cnet.com/reviews/samsung-un65f9000-review/')\n",
    "contents = infile.read()\n",
    "infile.close()"
   ]
  },
  {
   "cell_type": "code",
   "execution_count": null,
   "metadata": {},
   "outputs": [],
   "source": [
    "soup = BeautifulSoup(contents, 'html.parser')"
   ]
  },
  {
   "cell_type": "code",
   "execution_count": null,
   "metadata": {},
   "outputs": [],
   "source": [
    "print(soup.prettify())"
   ]
  },
  {
   "cell_type": "markdown",
   "metadata": {},
   "source": [
    "## Q1: Find the average rating score out of ten."
   ]
  },
  {
   "cell_type": "markdown",
   "metadata": {},
   "source": [
    "> Use 'Inspect Element'\n",
    ">\n",
    "    <span class=\"text\">\n",
    "        \"7.3\"\n",
    "        <span>Overall</span>\n",
    "    </span>\n"
   ]
  },
  {
   "cell_type": "code",
   "execution_count": null,
   "metadata": {
    "scrolled": true
   },
   "outputs": [],
   "source": [
    "soup.find('span')"
   ]
  },
  {
   "cell_type": "code",
   "execution_count": null,
   "metadata": {
    "scrolled": true
   },
   "outputs": [],
   "source": [
    "soup.find_all('span')"
   ]
  },
  {
   "cell_type": "code",
   "execution_count": null,
   "metadata": {},
   "outputs": [],
   "source": [
    "soup.find_all('span', {\"class\": \"text\"})\n",
    "# soup.find_all('span', {\"class\": \"c-review-average\", \"aria-hidden\": \"true\"})"
   ]
  },
  {
   "cell_type": "code",
   "execution_count": null,
   "metadata": {},
   "outputs": [],
   "source": [
    "soup.find_all('span', {\"class\": \"text\"})[0]"
   ]
  },
  {
   "cell_type": "code",
   "execution_count": null,
   "metadata": {},
   "outputs": [],
   "source": [
    "soup.find_all('span', {\"class\": \"text\"})[0].get_text()"
   ]
  },
  {
   "cell_type": "code",
   "execution_count": null,
   "metadata": {},
   "outputs": [],
   "source": [
    "soup.find_all('span', {\"class\": \"text\"})[0].get_text()[:3]"
   ]
  },
  {
   "cell_type": "code",
   "execution_count": null,
   "metadata": {},
   "outputs": [],
   "source": [
    "float(soup.find_all('span', {\"class\": \"text\"})[0].get_text()[:3])"
   ]
  },
  {
   "cell_type": "markdown",
   "metadata": {},
   "source": [
    "## Q2: Find the price of the TV\n",
    "\n",
    "\n",
    "    <span class=\"msrpPrice\">$7,499.99</span>\n"
   ]
  },
  {
   "cell_type": "code",
   "execution_count": null,
   "metadata": {
    "scrolled": true
   },
   "outputs": [],
   "source": [
    "soup.find_all('span', {\"class\": 'msrpPrice'})"
   ]
  },
  {
   "cell_type": "code",
   "execution_count": null,
   "metadata": {},
   "outputs": [],
   "source": [
    "soup.find_all('span', {\"class\": 'msrpPrice'})[0].get_text()"
   ]
  },
  {
   "cell_type": "code",
   "execution_count": null,
   "metadata": {},
   "outputs": [],
   "source": [
    "soup.find_all('span', {\"class\": 'msrpPrice'})[0].get_text()[1: ]"
   ]
  },
  {
   "cell_type": "code",
   "execution_count": null,
   "metadata": {},
   "outputs": [],
   "source": [
    "soup.find_all('span', {\"class\": 'msrpPrice'})[0].get_text()[1: ].replace(',', '')"
   ]
  },
  {
   "cell_type": "code",
   "execution_count": null,
   "metadata": {},
   "outputs": [],
   "source": [
    "float(soup.find_all('span', {\"class\": 'msrpPrice'})[0].get_text()[1: ].replace(',', ''))"
   ]
  },
  {
   "cell_type": "markdown",
   "metadata": {},
   "source": [
    "# Practice #2: Let's Play With Wallmart.com\n",
    "\n",
    "https://www.walmart.com/ip/SAMSUNG-65-Class-4K-Ultra-HD-2160P-HDR-Smart-QLED-TV-QN65Q60TB/183583576"
   ]
  },
  {
   "cell_type": "code",
   "execution_count": null,
   "metadata": {},
   "outputs": [],
   "source": [
    "from bs4 import BeautifulSoup\n",
    "from urllib.request import urlopen"
   ]
  },
  {
   "cell_type": "code",
   "execution_count": null,
   "metadata": {},
   "outputs": [],
   "source": [
    "infile = urlopen('https://www.walmart.com/ip/SAMSUNG-65-Class-4K-Ultra-HD-2160P-HDR-Smart-QLED-TV-QN65Q60TB/183583576')\n",
    "contents = infile.read()\n",
    "infile.close()"
   ]
  },
  {
   "cell_type": "code",
   "execution_count": null,
   "metadata": {},
   "outputs": [],
   "source": [
    "soup = BeautifulSoup(contents, 'html.parser')"
   ]
  },
  {
   "cell_type": "code",
   "execution_count": null,
   "metadata": {},
   "outputs": [],
   "source": [
    "print(soup.prettify())"
   ]
  },
  {
   "cell_type": "markdown",
   "metadata": {},
   "source": [
    "## Q1: Find the average rating score out of five."
   ]
  },
  {
   "cell_type": "markdown",
   "metadata": {},
   "source": [
    "    <span itemprop=\"ratingValue\">4.7</span>"
   ]
  },
  {
   "cell_type": "code",
   "execution_count": null,
   "metadata": {},
   "outputs": [],
   "source": [
    "soup.find_all('span')"
   ]
  },
  {
   "cell_type": "code",
   "execution_count": null,
   "metadata": {},
   "outputs": [],
   "source": [
    "import urllib.request\n",
    "\n",
    "url = 'https://www.walmart.com/ip/SAMSUNG-65-Class-4K-Ultra-HD-2160P-HDR-Smart-QLED-TV-QN65Q60TB/183583576'\n",
    "\n",
    "page = urllib.request.Request(url, headers = {'User-Agent': 'Mozilla/5.0'}) \n",
    "infile = urllib.request.urlopen(page)"
   ]
  },
  {
   "cell_type": "code",
   "execution_count": null,
   "metadata": {},
   "outputs": [],
   "source": [
    "contents = infile.read()\n",
    "soup = BeautifulSoup(contents, \"html.parser\")"
   ]
  },
  {
   "cell_type": "code",
   "execution_count": null,
   "metadata": {
    "scrolled": true
   },
   "outputs": [],
   "source": [
    "print(soup.prettify())"
   ]
  },
  {
   "cell_type": "code",
   "execution_count": null,
   "metadata": {},
   "outputs": [],
   "source": [
    "soup.find_all('span')"
   ]
  },
  {
   "cell_type": "code",
   "execution_count": null,
   "metadata": {},
   "outputs": [],
   "source": [
    "soup.find_all('span', {'itemprop': 'ratingValue'})"
   ]
  },
  {
   "cell_type": "code",
   "execution_count": null,
   "metadata": {},
   "outputs": [],
   "source": [
    "soup.find_all('span', {'itemprop': 'ratingValue'})[0].get_text()"
   ]
  },
  {
   "cell_type": "markdown",
   "metadata": {},
   "source": [
    "## Q2: Find the price of the TV\n",
    "\n",
    "\n",
    "    <span class=\"price-characteristic\" itemprop=\"price\" content=\"897.99\">897</span>\n",
    "\n"
   ]
  },
  {
   "cell_type": "code",
   "execution_count": null,
   "metadata": {},
   "outputs": [],
   "source": [
    "soup.find_all('span', {'class': 'price-characteristic'})"
   ]
  },
  {
   "cell_type": "code",
   "execution_count": null,
   "metadata": {},
   "outputs": [],
   "source": [
    "soup.find_all('span', {'class': 'price-characteristic', 'itemprop': 'price'})"
   ]
  },
  {
   "cell_type": "code",
   "execution_count": null,
   "metadata": {},
   "outputs": [],
   "source": [
    "soup.find_all('span', {'class': 'price-characteristic', 'itemprop': 'price'})[0].get_text()"
   ]
  },
  {
   "cell_type": "code",
   "execution_count": null,
   "metadata": {},
   "outputs": [],
   "source": [
    "soup.find_all('span', {'class': 'price-characteristic', 'itemprop': 'price'})[0]['content']"
   ]
  },
  {
   "cell_type": "markdown",
   "metadata": {},
   "source": [
    "## Q3: Find the reviews of the TV\n",
    "\n",
    "\n",
    "    <div class=\"review-text\"><p>Stable wifi access to 5.0 GHz channel, crazy contrast level, awesome billion colors, ambient art mood, VA panel, deep dark colors, Samsung TV plus, easy to use control and simplified minimalistic menu, apple airplay cast, ready DLNA and built in alexa that connects with my camera and lamps, slim profile, no need to buy another apple tv. 60 Hz refresh rate absolutely compensated with quantum processor and make me want to watch HBO, Amazon prime and Hulu all day. These all have built in app in Tizen OS on top of Netflix and other services. I am so happy with this purchase specially with not buying a stupid IPS screen with 1/6th of contrast ratio and so called ”natural colors”. I have seen those natural colors in my living room enough and I think my work room Samsung Q60 is by far better.</p></div>"
   ]
  },
  {
   "cell_type": "code",
   "execution_count": null,
   "metadata": {
    "scrolled": true
   },
   "outputs": [],
   "source": [
    "soup.find_all('div', {'class': 'review-text'})"
   ]
  },
  {
   "cell_type": "code",
   "execution_count": null,
   "metadata": {},
   "outputs": [],
   "source": [
    "len(soup.find_all('div', {'class': 'review-text'}))"
   ]
  },
  {
   "cell_type": "code",
   "execution_count": null,
   "metadata": {},
   "outputs": [],
   "source": [
    "soup.find_all('div', {'class': 'review-text'})[0]"
   ]
  },
  {
   "cell_type": "code",
   "execution_count": null,
   "metadata": {},
   "outputs": [],
   "source": [
    "soup.find_all('div', {'class': 'review-text'})[0].get_text()"
   ]
  }
 ],
 "metadata": {
  "kernelspec": {
   "display_name": "Python 3",
   "language": "python",
   "name": "python3"
  },
  "language_info": {
   "codemirror_mode": {
    "name": "ipython",
    "version": 3
   },
   "file_extension": ".py",
   "mimetype": "text/x-python",
   "name": "python",
   "nbconvert_exporter": "python",
   "pygments_lexer": "ipython3",
   "version": "3.8.8"
  }
 },
 "nbformat": 4,
 "nbformat_minor": 4
}
