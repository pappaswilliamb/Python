{
 "cells": [
  {
   "cell_type": "code",
   "execution_count": 1,
   "id": "82d17c70",
   "metadata": {},
   "outputs": [],
   "source": [
    "from typing import Tuple\n",
    "import math"
   ]
  },
  {
   "cell_type": "code",
   "execution_count": 2,
   "id": "a499f215",
   "metadata": {},
   "outputs": [],
   "source": [
    "def normal_approximation_to_binomial(n: int, p: float) -> Tuple[float, float]:\n",
    "    \"\"\"Returns mu and sigma corresponding to a Binomial(n, p)\"\"\"\n",
    "    mu = p * n\n",
    "    sigma = math.sqrt(p * (1 - p) * n)\n",
    "    return mu, sigma"
   ]
  },
  {
   "cell_type": "code",
   "execution_count": 5,
   "id": "55704481",
   "metadata": {},
   "outputs": [],
   "source": [
    "from scratch.probability import normal_cdf"
   ]
  },
  {
   "cell_type": "code",
   "execution_count": 6,
   "id": "e3970a77",
   "metadata": {},
   "outputs": [],
   "source": [
    "# The normal_cdf Is the Probability That the Variable Is Below a Certain Threshold\n",
    "normal_probability_below = normal_cdf"
   ]
  },
  {
   "cell_type": "code",
   "execution_count": 7,
   "id": "0f50a1da",
   "metadata": {},
   "outputs": [],
   "source": [
    "# It's Above the Threshold If It's Not Below the Threshold\n",
    "def normal_probability_above(lo: float,\n",
    "                             mu: float = 0,\n",
    "                             sigma: float = 1) -> float:\n",
    "    \"\"\"The probability that a N(mu, sigma) is greater than lo.\"\"\"\n",
    "    return 1 - normal_cdf(lo, mu, sigma)"
   ]
  },
  {
   "cell_type": "code",
   "execution_count": 8,
   "id": "3440a9b4",
   "metadata": {},
   "outputs": [],
   "source": [
    "# It's Between the Threshold If It's Less Than \"hi\", but Not Less Than \"lo\"\n",
    "def normal_probability_between(lo: float,\n",
    "                               hi: float,\n",
    "                               mu: float = 0,\n",
    "                               sigma: float = 1) -> float:\n",
    "    \"\"\"The probability that a N(mu, sigma) is between lo and hi.\"\"\"\n",
    "    return normal_cdf(hi, mu, sigma) - normal_cdf(lo, mu, sigma)"
   ]
  },
  {
   "cell_type": "code",
   "execution_count": 9,
   "id": "05daff67",
   "metadata": {},
   "outputs": [],
   "source": [
    "# It's Outside the Threshold If It's Not Between\n",
    "def normal_probability_outside(lo: float,\n",
    "                               hi: float,\n",
    "                               mu: float = 0,\n",
    "                               sigma: float = 1) -> float:\n",
    "    \"\"\"The probability that a N(mu, sigma) is not between lo and hi.\"\"\"\n",
    "    return 1 - normal_probability_between(lo, hi, mu, sigma)"
   ]
  },
  {
   "cell_type": "code",
   "execution_count": 10,
   "id": "016a40ab",
   "metadata": {},
   "outputs": [],
   "source": [
    "from scratch.probability import inverse_normal_cdf"
   ]
  },
  {
   "cell_type": "code",
   "execution_count": 11,
   "id": "2d7d6920",
   "metadata": {},
   "outputs": [],
   "source": [
    "def normal_upper_bound(probability: float,\n",
    "                       mu: float = 0,\n",
    "                       sigma: float = 1) -> float:\n",
    "    \"\"\"Returns the z for which P(Z <= z) = probability\"\"\"\n",
    "    return inverse_normal_cdf(probability, mu, sigma)"
   ]
  },
  {
   "cell_type": "code",
   "execution_count": 12,
   "id": "cb681f8f",
   "metadata": {},
   "outputs": [],
   "source": [
    "def normal_lower_bound(probability: float,\n",
    "                       mu: float = 0,\n",
    "                       sigma: float = 1) -> float:\n",
    "    \"\"\"Returns the z for which P(Z >= z) = probability\"\"\"\n",
    "    return inverse_normal_cdf(1 - probability, mu, sigma)"
   ]
  },
  {
   "cell_type": "code",
   "execution_count": 13,
   "id": "e3f1be8f",
   "metadata": {},
   "outputs": [],
   "source": [
    "def normal_two_sided_bounds(probability: float,\n",
    "                            mu: float = 0,\n",
    "                            sigma: float = 1) -> Tuple[float, float]:\n",
    "    \"\"\"\n",
    "    Returns the symmetric (about the mean) bounds that contain the specified probability\n",
    "    \"\"\"\n",
    "    tail_probability = (1 - probability) / 2\n",
    "\n",
    "    # The Upper Bound Should Have a tail_probability Above It\n",
    "    upper_bound = normal_lower_bound(tail_probability, mu, sigma)\n",
    "\n",
    "    # The Lower Bound Should Have a tail_probability Below It\n",
    "    lower_bound = normal_upper_bound(tail_probability, mu, sigma)\n",
    "\n",
    "    return lower_bound, upper_bound"
   ]
  },
  {
   "cell_type": "code",
   "execution_count": 14,
   "id": "70af1934",
   "metadata": {},
   "outputs": [],
   "source": [
    "mu_0, sigma_0 = normal_approximation_to_binomial(1000, 0.5)"
   ]
  },
  {
   "cell_type": "code",
   "execution_count": 15,
   "id": "fc4147e1",
   "metadata": {},
   "outputs": [],
   "source": [
    "assert mu_0 == 500"
   ]
  },
  {
   "cell_type": "code",
   "execution_count": 16,
   "id": "aa63277f",
   "metadata": {},
   "outputs": [],
   "source": [
    "assert 15.8 < sigma_0 < 15.9"
   ]
  },
  {
   "cell_type": "code",
   "execution_count": 17,
   "id": "5f2feec4",
   "metadata": {},
   "outputs": [],
   "source": [
    "# (469, 531)\n",
    "lower_bound, upper_bound = normal_two_sided_bounds(0.95, mu_0, sigma_0)"
   ]
  },
  {
   "cell_type": "code",
   "execution_count": 18,
   "id": "d3a06902",
   "metadata": {},
   "outputs": [],
   "source": [
    "assert 468.5 < lower_bound < 469.5"
   ]
  },
  {
   "cell_type": "code",
   "execution_count": 19,
   "id": "7de7bc66",
   "metadata": {},
   "outputs": [],
   "source": [
    "assert 530.5 < upper_bound < 531.5"
   ]
  },
  {
   "cell_type": "code",
   "execution_count": 20,
   "id": "2cd7d229",
   "metadata": {},
   "outputs": [],
   "source": [
    "# 95% Bounds Based On the Assumption That p Is 0.5\n",
    "lo, hi = normal_two_sided_bounds(0.95, mu_0, sigma_0)"
   ]
  },
  {
   "cell_type": "code",
   "execution_count": 21,
   "id": "e2bf2936",
   "metadata": {},
   "outputs": [],
   "source": [
    "# The Actual mu and sigma Are Based On p = 0.55\n",
    "mu_1, sigma_1 = normal_approximation_to_binomial(1000, 0.55)"
   ]
  },
  {
   "cell_type": "code",
   "execution_count": 22,
   "id": "267026ea",
   "metadata": {},
   "outputs": [],
   "source": [
    "# A Type 2 Error Means We Fail to Reject the Null Hypothesis, Which Will Happen When X Is Still In Our Original Interval\n",
    "type_2_probability = normal_probability_between(lo, hi, mu_1, sigma_1)\n",
    "power = 1 - type_2_probability      # 0.887"
   ]
  },
  {
   "cell_type": "code",
   "execution_count": 23,
   "id": "3218e558",
   "metadata": {},
   "outputs": [],
   "source": [
    "assert 0.886 < power < 0.888"
   ]
  },
  {
   "cell_type": "code",
   "execution_count": 24,
   "id": "2f593dc7",
   "metadata": {},
   "outputs": [],
   "source": [
    "hi = normal_upper_bound(0.95, mu_0, sigma_0)\n",
    "# Is 526 (< 531, Since We Need More Probability In the Upper Tail)"
   ]
  },
  {
   "cell_type": "code",
   "execution_count": 25,
   "id": "a3408712",
   "metadata": {},
   "outputs": [],
   "source": [
    "type_2_probability = normal_probability_below(hi, mu_1, sigma_1)\n",
    "power = 1 - type_2_probability      # 0.936"
   ]
  },
  {
   "cell_type": "code",
   "execution_count": 26,
   "id": "989b5853",
   "metadata": {},
   "outputs": [],
   "source": [
    "assert 526 < hi < 526.1"
   ]
  },
  {
   "cell_type": "code",
   "execution_count": 27,
   "id": "28a8d853",
   "metadata": {},
   "outputs": [],
   "source": [
    "assert 0.9363 < power < 0.9364"
   ]
  },
  {
   "cell_type": "code",
   "execution_count": 28,
   "id": "4fa442b5",
   "metadata": {},
   "outputs": [],
   "source": [
    "def two_sided_p_value(x: float, mu: float = 0, sigma: float = 1) -> float:\n",
    "    \"\"\"\n",
    "    How likely are we to see a value at least as extreme as x (in either direction) if our values are from a N(mu, sigma)?\n",
    "    \"\"\"\n",
    "    if x >= mu:\n",
    "        # x Is Greater Than the Mean, so the Tail Is Everything Greater Than x\n",
    "        return 2 * normal_probability_above(x, mu, sigma)\n",
    "    else:\n",
    "        # x Is Less Than the Mean, so the Tail Is Everything Less Than x\n",
    "        return 2 * normal_probability_below(x, mu, sigma)"
   ]
  },
  {
   "cell_type": "code",
   "execution_count": 29,
   "id": "2611b636",
   "metadata": {},
   "outputs": [
    {
     "data": {
      "text/plain": [
       "0.06207721579598835"
      ]
     },
     "execution_count": 29,
     "metadata": {},
     "output_type": "execute_result"
    }
   ],
   "source": [
    "two_sided_p_value(529.5, mu_0, sigma_0)   # 0.062"
   ]
  },
  {
   "cell_type": "code",
   "execution_count": 30,
   "id": "fcbfc387",
   "metadata": {},
   "outputs": [],
   "source": [
    "import random"
   ]
  },
  {
   "cell_type": "code",
   "execution_count": 31,
   "id": "b2decd6f",
   "metadata": {},
   "outputs": [],
   "source": [
    "extreme_value_count = 0\n",
    "for _ in range(1000):\n",
    "    num_heads = sum(1 if random.random() < 0.5 else 0    # Counts the number of heads\n",
    "                    for _ in range(1000))                # in 1000 flips\n",
    "    if num_heads >= 530 or num_heads <= 470:             # and count how often\n",
    "        extreme_value_count += 1                         # the number is \"extreme\""
   ]
  },
  {
   "cell_type": "code",
   "execution_count": null,
   "id": "f863146f",
   "metadata": {},
   "outputs": [],
   "source": [
    "# p-Value Was 0.062 => ~62 Extreme Values Out of 1000\n",
    "assert 59 < extreme_value_count < 65, f\"{extreme_value_count}\""
   ]
  },
  {
   "cell_type": "code",
   "execution_count": 33,
   "id": "c214b9af",
   "metadata": {},
   "outputs": [
    {
     "data": {
      "text/plain": [
       "0.046345287837786575"
      ]
     },
     "execution_count": 33,
     "metadata": {},
     "output_type": "execute_result"
    }
   ],
   "source": [
    "two_sided_p_value(531.5, mu_0, sigma_0)   # 0.0463"
   ]
  },
  {
   "cell_type": "code",
   "execution_count": 34,
   "id": "ab38335f",
   "metadata": {},
   "outputs": [],
   "source": [
    "tspv = two_sided_p_value(531.5, mu_0, sigma_0)"
   ]
  },
  {
   "cell_type": "code",
   "execution_count": 35,
   "id": "0a81a924",
   "metadata": {},
   "outputs": [],
   "source": [
    "assert 0.0463 < tspv < 0.0464"
   ]
  },
  {
   "cell_type": "code",
   "execution_count": 36,
   "id": "aed414db",
   "metadata": {},
   "outputs": [],
   "source": [
    "upper_p_value = normal_probability_above\n",
    "lower_p_value = normal_probability_below"
   ]
  },
  {
   "cell_type": "code",
   "execution_count": 37,
   "id": "27eea9f7",
   "metadata": {},
   "outputs": [
    {
     "data": {
      "text/plain": [
       "0.06062885772582072"
      ]
     },
     "execution_count": 37,
     "metadata": {},
     "output_type": "execute_result"
    }
   ],
   "source": [
    "upper_p_value(524.5, mu_0, sigma_0) # 0.061"
   ]
  },
  {
   "cell_type": "code",
   "execution_count": 38,
   "id": "bf875205",
   "metadata": {},
   "outputs": [
    {
     "data": {
      "text/plain": [
       "0.04686839508859242"
      ]
     },
     "execution_count": 38,
     "metadata": {},
     "output_type": "execute_result"
    }
   ],
   "source": [
    "upper_p_value(526.5, mu_0, sigma_0) # 0.047"
   ]
  },
  {
   "cell_type": "code",
   "execution_count": 39,
   "id": "cd6b386f",
   "metadata": {},
   "outputs": [],
   "source": [
    "p_hat = 525 / 1000\n",
    "mu = p_hat\n",
    "sigma = math.sqrt(p_hat * (1 - p_hat) / 1000)   # 0.0158"
   ]
  },
  {
   "cell_type": "code",
   "execution_count": 40,
   "id": "bbd0cfb9",
   "metadata": {},
   "outputs": [
    {
     "data": {
      "text/plain": [
       "(0.4940490278129096, 0.5559509721870904)"
      ]
     },
     "execution_count": 40,
     "metadata": {},
     "output_type": "execute_result"
    }
   ],
   "source": [
    "normal_two_sided_bounds(0.95, mu, sigma)        # [0.4940, 0.5560]"
   ]
  },
  {
   "cell_type": "code",
   "execution_count": 41,
   "id": "30ee1ebf",
   "metadata": {},
   "outputs": [
    {
     "data": {
      "text/plain": [
       "(0.5091095927295919, 0.5708904072704082)"
      ]
     },
     "execution_count": 41,
     "metadata": {},
     "output_type": "execute_result"
    }
   ],
   "source": [
    "p_hat = 540 / 1000\n",
    "mu = p_hat\n",
    "sigma = math.sqrt(p_hat * (1 - p_hat) / 1000) # 0.0158\n",
    "normal_two_sided_bounds(0.95, mu, sigma) # [0.5091, 0.5709]"
   ]
  },
  {
   "cell_type": "code",
   "execution_count": 42,
   "id": "1da93c22",
   "metadata": {},
   "outputs": [],
   "source": [
    "from typing import List"
   ]
  },
  {
   "cell_type": "code",
   "execution_count": 43,
   "id": "b6e2d472",
   "metadata": {},
   "outputs": [],
   "source": [
    "def run_experiment() -> List[bool]:\n",
    "    \"\"\"Flips a fair coin 1000 times, True = heads, False = tails\"\"\"\n",
    "    return [random.random() < 0.5 for _ in range(1000)]"
   ]
  },
  {
   "cell_type": "code",
   "execution_count": 44,
   "id": "46bca783",
   "metadata": {},
   "outputs": [],
   "source": [
    "def reject_fairness(experiment: List[bool]) -> bool:\n",
    "    \"\"\"Using the 5% significance levels\"\"\"\n",
    "    num_heads = len([flip for flip in experiment if flip])\n",
    "    return num_heads < 469 or num_heads > 531"
   ]
  },
  {
   "cell_type": "code",
   "execution_count": 45,
   "id": "a77778ad",
   "metadata": {},
   "outputs": [],
   "source": [
    "random.seed(0)\n",
    "experiments = [run_experiment() for _ in range(1000)]\n",
    "num_rejections = len([experiment\n",
    "                      for experiment in experiments\n",
    "                      if reject_fairness(experiment)])"
   ]
  },
  {
   "cell_type": "code",
   "execution_count": 46,
   "id": "9f915c4c",
   "metadata": {},
   "outputs": [],
   "source": [
    "assert num_rejections == 46"
   ]
  },
  {
   "cell_type": "code",
   "execution_count": 47,
   "id": "66a2d99f",
   "metadata": {},
   "outputs": [],
   "source": [
    "def estimated_parameters(N: int, n: int) -> Tuple[float, float]:\n",
    "    p = n / N\n",
    "    sigma = math.sqrt(p * (1 - p) / N)\n",
    "    return p, sigma"
   ]
  },
  {
   "cell_type": "code",
   "execution_count": 48,
   "id": "d2f6d125",
   "metadata": {},
   "outputs": [],
   "source": [
    "def a_b_test_statistic(N_A: int, n_A: int, N_B: int, n_B: int) -> float:\n",
    "    p_A, sigma_A = estimated_parameters(N_A, n_A)\n",
    "    p_B, sigma_B = estimated_parameters(N_B, n_B)\n",
    "    return (p_B - p_A) / math.sqrt(sigma_A ** 2 + sigma_B ** 2)"
   ]
  },
  {
   "cell_type": "code",
   "execution_count": 49,
   "id": "54ca611b",
   "metadata": {},
   "outputs": [],
   "source": [
    "z = a_b_test_statistic(1000, 200, 1000, 180)    # -1.14"
   ]
  },
  {
   "cell_type": "code",
   "execution_count": 50,
   "id": "e545c88c",
   "metadata": {},
   "outputs": [],
   "source": [
    "assert -1.15 < z < -1.13"
   ]
  },
  {
   "cell_type": "code",
   "execution_count": 51,
   "id": "72fada1e",
   "metadata": {},
   "outputs": [
    {
     "data": {
      "text/plain": [
       "0.254141976542236"
      ]
     },
     "execution_count": 51,
     "metadata": {},
     "output_type": "execute_result"
    }
   ],
   "source": [
    "two_sided_p_value(z)                            # 0.254"
   ]
  },
  {
   "cell_type": "code",
   "execution_count": 52,
   "id": "31aeaac8",
   "metadata": {},
   "outputs": [],
   "source": [
    "assert 0.253 < two_sided_p_value(z) < 0.255"
   ]
  },
  {
   "cell_type": "code",
   "execution_count": 53,
   "id": "ebcd1f17",
   "metadata": {},
   "outputs": [
    {
     "data": {
      "text/plain": [
       "0.003189699706216853"
      ]
     },
     "execution_count": 53,
     "metadata": {},
     "output_type": "execute_result"
    }
   ],
   "source": [
    "z = a_b_test_statistic(1000, 200, 1000, 150)    # -2.94\n",
    "two_sided_p_value(z)                            # 0.003"
   ]
  },
  {
   "cell_type": "code",
   "execution_count": 54,
   "id": "1db9771f",
   "metadata": {},
   "outputs": [],
   "source": [
    "def B(alpha: float, beta: float) -> float:\n",
    "    \"\"\"A normalizing constant so that the total probability is 1\"\"\"\n",
    "    return math.gamma(alpha) * math.gamma(beta) / math.gamma(alpha + beta)"
   ]
  },
  {
   "cell_type": "code",
   "execution_count": 55,
   "id": "69089421",
   "metadata": {},
   "outputs": [],
   "source": [
    "def beta_pdf(x: float, alpha: float, beta: float) -> float:\n",
    "    if x <= 0 or x >= 1:          # No weight outside of [0, 1]\n",
    "        return 0\n",
    "    return x ** (alpha - 1) * (1 - x) ** (beta - 1) / B(alpha, beta)"
   ]
  }
 ],
 "metadata": {
  "kernelspec": {
   "display_name": "Python 3",
   "language": "python",
   "name": "python3"
  },
  "language_info": {
   "codemirror_mode": {
    "name": "ipython",
    "version": 3
   },
   "file_extension": ".py",
   "mimetype": "text/x-python",
   "name": "python",
   "nbconvert_exporter": "python",
   "pygments_lexer": "ipython3",
   "version": "3.8.8"
  }
 },
 "nbformat": 4,
 "nbformat_minor": 5
}
