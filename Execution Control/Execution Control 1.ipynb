{
 "cells": [
  {
   "cell_type": "markdown",
   "metadata": {},
   "source": [
    "# (1) User-Defined Function"
   ]
  },
  {
   "cell_type": "code",
   "execution_count": null,
   "metadata": {},
   "outputs": [],
   "source": [
    "'''\n",
    "Q1: Write a function area() that:\n",
    "\n",
    "Takes a radius of a disk as and input and returns the area of the disk.\n",
    "\n",
    ">>> area(10)\n",
    "314.1592653589793\n",
    "\n",
    ">>> area(100)\n",
    "31415.92653589793\n",
    "'''"
   ]
  },
  {
   "cell_type": "code",
   "execution_count": 1,
   "metadata": {},
   "outputs": [],
   "source": [
    "import math\n",
    "def area(radius):\n",
    "    val = math.pi * radius**2\n",
    "    return val"
   ]
  },
  {
   "cell_type": "code",
   "execution_count": 2,
   "metadata": {},
   "outputs": [
    {
     "data": {
      "text/plain": [
       "314.1592653589793"
      ]
     },
     "execution_count": 2,
     "metadata": {},
     "output_type": "execute_result"
    }
   ],
   "source": [
    "area(10)"
   ]
  },
  {
   "cell_type": "code",
   "execution_count": 3,
   "metadata": {},
   "outputs": [
    {
     "data": {
      "text/plain": [
       "31415.926535897932"
      ]
     },
     "execution_count": 3,
     "metadata": {},
     "output_type": "execute_result"
    }
   ],
   "source": [
    "area(100)"
   ]
  },
  {
   "cell_type": "code",
   "execution_count": null,
   "metadata": {},
   "outputs": [],
   "source": [
    "'''\n",
    "Q2: Write a function battle() that:\n",
    "\n",
    "Takes three numbers as input\n",
    "\n",
    "The first number represents health\n",
    "The second number represents shield\n",
    "The third number represents damage\n",
    "\n",
    "if damage is greater than or equal to the sum of health and shield, prints \n",
    "\n",
    "Sorry... You're dead...\n",
    "Goodbye...\n",
    "\n",
    "if damage is smaller than the sum of health and shield, prints\n",
    "\n",
    "Congratulation! You've survived!\n",
    "Goodbye!\n",
    "\n",
    ">>> battle(100, 50, 150)\n",
    "Sorry... You're dead...\n",
    "Goodbye...\n",
    "\n",
    ">>> battle(100, 50, 100)\n",
    "Congratulation! You've survived!\n",
    "Goodbye!\n",
    "'''"
   ]
  },
  {
   "cell_type": "code",
   "execution_count": 4,
   "metadata": {},
   "outputs": [],
   "source": [
    "def battle(health, shield, damage):\n",
    "    if damage >= health + shield:\n",
    "        print(\"Sorry... You're dead...\\nGoodbye...\")\n",
    "    else:\n",
    "        print(\"Congratulation! You've survived!\\nGoodbye!\")    "
   ]
  },
  {
   "cell_type": "code",
   "execution_count": 5,
   "metadata": {},
   "outputs": [
    {
     "name": "stdout",
     "output_type": "stream",
     "text": [
      "Sorry... You're dead...\n",
      "Goodbye...\n"
     ]
    }
   ],
   "source": [
    "battle(100, 50, 150)"
   ]
  },
  {
   "cell_type": "code",
   "execution_count": 6,
   "metadata": {},
   "outputs": [
    {
     "name": "stdout",
     "output_type": "stream",
     "text": [
      "Congratulation! You've survived!\n",
      "Goodbye!\n"
     ]
    }
   ],
   "source": [
    "battle(100, 50, 100)"
   ]
  },
  {
   "cell_type": "markdown",
   "metadata": {},
   "source": [
    "# (2) General Formatting"
   ]
  },
  {
   "cell_type": "code",
   "execution_count": 7,
   "metadata": {},
   "outputs": [
    {
     "name": "stdout",
     "output_type": "stream",
     "text": [
      "http://www.main.com/smith/index.html\n"
     ]
    }
   ],
   "source": [
    "# String Link Describes the URL of a Webpage\n",
    "\n",
    "link = 'http://www.main.com/smith/index.html'\n",
    "print(link)"
   ]
  },
  {
   "cell_type": "code",
   "execution_count": null,
   "metadata": {},
   "outputs": [],
   "source": [
    "'''\n",
    "Q3: Print out a following message using link variable.\n",
    "\n",
    ">>> \n",
    "www.main.com + index.html\n",
    "'''"
   ]
  },
  {
   "cell_type": "code",
   "execution_count": 8,
   "metadata": {},
   "outputs": [
    {
     "name": "stdout",
     "output_type": "stream",
     "text": [
      "www.main.com + index.html\n"
     ]
    }
   ],
   "source": [
    "main = link[7:19] \n",
    "index = link[-10: ]\n",
    "print('{} + {}'.format(main, index))"
   ]
  },
  {
   "cell_type": "markdown",
   "metadata": {},
   "source": [
    "# (3) Read and Write a Text File"
   ]
  },
  {
   "cell_type": "code",
   "execution_count": null,
   "metadata": {},
   "outputs": [],
   "source": [
    "'''\n",
    "Q4: Open the\"last.txt\" file with read-only file mode.\n",
    "    Find the number of lines in the file ans assign it to \"ans4\" variable.\n",
    "'''"
   ]
  },
  {
   "cell_type": "code",
   "execution_count": 9,
   "metadata": {},
   "outputs": [
    {
     "data": {
      "text/plain": [
       "1001"
      ]
     },
     "execution_count": 9,
     "metadata": {},
     "output_type": "execute_result"
    }
   ],
   "source": [
    "infile = open('last.txt', 'r')\n",
    "lines = infile.readlines()\n",
    "infile.close()\n",
    "\n",
    "ans4 = len(lines)\n",
    "ans4"
   ]
  },
  {
   "cell_type": "code",
   "execution_count": null,
   "metadata": {},
   "outputs": [],
   "source": [
    "'''\n",
    "Q5: Open the \"last.txt\" file with read-only file mode.\n",
    "    Find the number of words in the file ans assign it to \"ans5\" variable.\n",
    "'''"
   ]
  },
  {
   "cell_type": "code",
   "execution_count": 10,
   "metadata": {},
   "outputs": [
    {
     "data": {
      "text/plain": [
       "2002"
      ]
     },
     "execution_count": 10,
     "metadata": {},
     "output_type": "execute_result"
    }
   ],
   "source": [
    "infile = open('last.txt', 'r')\n",
    "lines = infile.read()\n",
    "infile.close()\n",
    "\n",
    "ans5 = len(lines.split())\n",
    "ans5"
   ]
  },
  {
   "cell_type": "code",
   "execution_count": null,
   "metadata": {},
   "outputs": [],
   "source": [
    "'''\n",
    "Q6: Open the \"last.txt\" file with read-only file mode.\n",
    "    Count the last names ending with \"E\" and assign it to \"ans6\" variable.\n",
    "'''"
   ]
  },
  {
   "cell_type": "code",
   "execution_count": 11,
   "metadata": {},
   "outputs": [
    {
     "data": {
      "text/plain": [
       "81"
      ]
     },
     "execution_count": 11,
     "metadata": {},
     "output_type": "execute_result"
    }
   ],
   "source": [
    "infile = open('last.txt', 'r')\n",
    "lines = str(infile.read())\n",
    "infile.close()\n",
    "\n",
    "lst = lines.split()\n",
    "res = ''\n",
    "for char in lst:\n",
    "    res = res + char[-1]\n",
    "res\n",
    "ans6 = res.count('E')\n",
    "ans6"
   ]
  },
  {
   "cell_type": "code",
   "execution_count": null,
   "metadata": {},
   "outputs": [],
   "source": [
    "'''\n",
    "Q7: Open \"last.txt\" file with read-only file mode\n",
    "    Count the numbers larger than 0.1 assign it to \"ans7\" variable\n",
    "'''"
   ]
  },
  {
   "cell_type": "code",
   "execution_count": 12,
   "metadata": {},
   "outputs": [
    {
     "data": {
      "text/plain": [
       "64"
      ]
     },
     "execution_count": 12,
     "metadata": {},
     "output_type": "execute_result"
    }
   ],
   "source": [
    "infile = open('last.txt', 'r')\n",
    "lines = infile.read()\n",
    "infile.close()\n",
    "\n",
    "lst = lines.split()\n",
    "lst2 = []\n",
    "for i in range(1, len(lst), 2):\n",
    "    if float(lst[i]) > 0.1:\n",
    "        lst2.append(i)\n",
    "ans7 = len(lst2)\n",
    "ans7"
   ]
  },
  {
   "cell_type": "code",
   "execution_count": null,
   "metadata": {},
   "outputs": [],
   "source": [
    "'''\n",
    "Q8: Create a new text file \"hw2_answers.txt\" using open() function with write mode.\n",
    "    Write your first name, last name in the first line of \"hw2_answers.txt\" file.\n",
    "    Write all your answers (i.e. from ans4 to ans7) into the \"hw2_answers.txt\" file.\n",
    "    Each answer will take a line with \"answer# = ##\" format.\n",
    "    Write \"Homework 2 is done!!!\" in the last line of \"hw2_answers.txt\" file.\n",
    "    Close \"hw2_answers.txt\" file.\n",
    "\n",
    "    The file shoud look like this:\n",
    "    \n",
    "    Blake Pappas\n",
    "    answer4 = ##\n",
    "    answer5 = ##\n",
    "    answer6 = ##\n",
    "    answer7 = ##\n",
    "    The Python assignment is done.\n",
    "'''"
   ]
  },
  {
   "cell_type": "code",
   "execution_count": 13,
   "metadata": {},
   "outputs": [
    {
     "name": "stdout",
     "output_type": "stream",
     "text": [
      "Blake Pappas\n",
      "answer4 = 1001\n",
      "answer5 = 2002\n",
      "answer6 = 81\n",
      "answer7 = 64\n",
      "The Python assignment is done.\n"
     ]
    }
   ],
   "source": [
    "outfile = open('hw2_answers.txt', 'w')\n",
    "outfile.write('Blake Pappas\\n')\n",
    "outfile.write('answer4 = {}\\nanswer5 = {}\\nanswer6 = {}\\nanswer7 = {}\\n'.format(ans4, ans5, ans6, ans7))\n",
    "outfile.write('The Python assignment is done.')\n",
    "outfile.close()\n",
    "\n",
    "infile = open('hw2_answers.txt', 'r')\n",
    "lines = infile.read()\n",
    "infile.close()\n",
    "print(lines)"
   ]
  },
  {
   "cell_type": "markdown",
   "metadata": {},
   "source": [
    "# (4) Multi-Way If Statement"
   ]
  },
  {
   "cell_type": "code",
   "execution_count": null,
   "metadata": {},
   "outputs": [],
   "source": [
    "'''\n",
    "Q9: Write a function grade() that:\n",
    "\n",
    "(1) Takes a testing score as input; and\n",
    "(2) Returns the grade by following criteria:\n",
    "        A: 90 <= testing score\n",
    "        B: 80 <= testing score < 90\n",
    "        C: 70 <= testing score < 80\n",
    "        D: 60 <= testing score < 70\n",
    "        F: testing score < 60\n",
    "\n",
    ">>> grade(82.52)\n",
    "B\n",
    "\n",
    ">>> grade(90.80)\n",
    "A\n",
    "'''"
   ]
  },
  {
   "cell_type": "code",
   "execution_count": 14,
   "metadata": {},
   "outputs": [],
   "source": [
    "def grade(score):\n",
    "    if score >= 90:\n",
    "        print('A')\n",
    "    elif score >= 80:\n",
    "        print('B')\n",
    "    elif score >= 70:\n",
    "        print('C')\n",
    "    elif score >= 60:\n",
    "        print('D')\n",
    "    else:\n",
    "        print('F')"
   ]
  },
  {
   "cell_type": "code",
   "execution_count": 15,
   "metadata": {},
   "outputs": [
    {
     "name": "stdout",
     "output_type": "stream",
     "text": [
      "B\n"
     ]
    }
   ],
   "source": [
    "grade(82.52)"
   ]
  },
  {
   "cell_type": "code",
   "execution_count": 16,
   "metadata": {},
   "outputs": [
    {
     "name": "stdout",
     "output_type": "stream",
     "text": [
      "A\n"
     ]
    }
   ],
   "source": [
    "grade(90.80)"
   ]
  },
  {
   "cell_type": "code",
   "execution_count": null,
   "metadata": {},
   "outputs": [],
   "source": [
    "'''\n",
    "Q10: Write a function grade2() that:\n",
    "\n",
    "(1) Takes a testing score and a number of absence as two inputs; and\n",
    "(2) Finds the grade by following criteria:\n",
    "        A: 90 <= testing score\n",
    "        B: 80 <= testing score < 90\n",
    "        C: 70 <= testing score < 80\n",
    "        D: 60 <= testing score < 70\n",
    "        F: testing score < 60\n",
    "        +: a number of absence < 6\n",
    "        -: a number of absence >= 6\n",
    "\n",
    "(3) Prints the grade with the personalized message:\n",
    "        Your grade is ##\n",
    "\n",
    ">>> grade2(92.55, 5)\n",
    "Your grade is A+\n",
    "\n",
    ">>> grade2(81.15, 7)\n",
    "Your grade is B-\n",
    "'''"
   ]
  },
  {
   "cell_type": "code",
   "execution_count": 17,
   "metadata": {},
   "outputs": [],
   "source": [
    "def grade2(score, absence):\n",
    "    if score >= 90:\n",
    "        grade = 'A'\n",
    "    elif score >= 80:\n",
    "        grade = 'B'\n",
    "    elif score >= 70:\n",
    "        grade = 'C'\n",
    "    elif score >= 60:\n",
    "        grade = 'D'\n",
    "    else:\n",
    "        grade = 'F'\n",
    " \n",
    "    if absence < 6:\n",
    "        sign = '+'\n",
    "    else:\n",
    "        sign = '-'\n",
    "    print('Your grade is {}{}'.format(grade, sign))"
   ]
  },
  {
   "cell_type": "code",
   "execution_count": 18,
   "metadata": {},
   "outputs": [
    {
     "name": "stdout",
     "output_type": "stream",
     "text": [
      "Your grade is A+\n"
     ]
    }
   ],
   "source": [
    "grade2(92.55, 5)"
   ]
  },
  {
   "cell_type": "code",
   "execution_count": 19,
   "metadata": {},
   "outputs": [
    {
     "name": "stdout",
     "output_type": "stream",
     "text": [
      "Your grade is B-\n"
     ]
    }
   ],
   "source": [
    "grade2(81.15, 7)"
   ]
  }
 ],
 "metadata": {
  "anaconda-cloud": {},
  "kernelspec": {
   "display_name": "Python 3",
   "language": "python",
   "name": "python3"
  },
  "language_info": {
   "codemirror_mode": {
    "name": "ipython",
    "version": 3
   },
   "file_extension": ".py",
   "mimetype": "text/x-python",
   "name": "python",
   "nbconvert_exporter": "python",
   "pygments_lexer": "ipython3",
   "version": "3.8.8"
  }
 },
 "nbformat": 4,
 "nbformat_minor": 4
}
