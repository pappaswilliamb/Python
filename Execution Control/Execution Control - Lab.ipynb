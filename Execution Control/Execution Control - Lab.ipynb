{
 "cells": [
  {
   "cell_type": "markdown",
   "metadata": {},
   "source": [
    "# (1) Multi-Way If Statement"
   ]
  },
  {
   "cell_type": "code",
   "execution_count": null,
   "metadata": {},
   "outputs": [],
   "source": [
    "'''\n",
    "Write function BMI() that:\n",
    "\n",
    "(1) Takes as input a person’s height (in inches) and weight (in pounds); and\n",
    "(2) Computes the person’s BMI and prints an assessment, as shown below.\n",
    "\n",
    ">>> BMI(190, 75)\n",
    "Normal\n",
    ">>> BMI(140, 75)\n",
    "Underweight\n",
    ">>> BMI(240, 75)\n",
    "Overweight\n",
    "\n",
    "The function does not return anything.\n",
    "\n",
    "The Body Mass Index is the value (weight * 703) / (height ** 2). \n",
    "Indexes below 18.5 or above 25.0 are assessed as underweight and overweight, respectively; \n",
    "indexes in between are considered normal. \n",
    "'''"
   ]
  },
  {
   "cell_type": "code",
   "execution_count": 9,
   "metadata": {},
   "outputs": [],
   "source": [
    "def BMI(w, h):\n",
    "    i = (w * 703) / (h**2)\n",
    "    if i >= 25.0:\n",
    "        print('Overweight')\n",
    "    elif i > 18.5:\n",
    "        print ('Normal')\n",
    "    else:\n",
    "        print('Underweight')"
   ]
  },
  {
   "cell_type": "code",
   "execution_count": 10,
   "metadata": {},
   "outputs": [
    {
     "name": "stdout",
     "output_type": "stream",
     "text": [
      "Normal\n"
     ]
    }
   ],
   "source": [
    "BMI(190, 75)"
   ]
  },
  {
   "cell_type": "code",
   "execution_count": 11,
   "metadata": {},
   "outputs": [
    {
     "name": "stdout",
     "output_type": "stream",
     "text": [
      "Underweight\n"
     ]
    }
   ],
   "source": [
    "BMI(140, 75)"
   ]
  },
  {
   "cell_type": "code",
   "execution_count": 12,
   "metadata": {},
   "outputs": [
    {
     "name": "stdout",
     "output_type": "stream",
     "text": [
      "Overweight\n"
     ]
    }
   ],
   "source": [
    "BMI(240, 75)"
   ]
  },
  {
   "cell_type": "code",
   "execution_count": 13,
   "metadata": {},
   "outputs": [],
   "source": [
    "def BMI2(w, h):\n",
    "    i = (w * 703) / (h**2)\n",
    "    if i <= 18.5:\n",
    "        print('Underweight')\n",
    "    elif i < 25.0:\n",
    "        print ('Normal')\n",
    "    else:\n",
    "        print('Overweight')"
   ]
  },
  {
   "cell_type": "code",
   "execution_count": 14,
   "metadata": {},
   "outputs": [
    {
     "name": "stdout",
     "output_type": "stream",
     "text": [
      "Normal\n"
     ]
    }
   ],
   "source": [
    "BMI2(190, 75)"
   ]
  },
  {
   "cell_type": "code",
   "execution_count": 15,
   "metadata": {},
   "outputs": [
    {
     "name": "stdout",
     "output_type": "stream",
     "text": [
      "Underweight\n"
     ]
    }
   ],
   "source": [
    "BMI2(140, 75)"
   ]
  },
  {
   "cell_type": "code",
   "execution_count": 16,
   "metadata": {},
   "outputs": [
    {
     "name": "stdout",
     "output_type": "stream",
     "text": [
      "Overweight\n"
     ]
    }
   ],
   "source": [
    "BMI2(240, 75)"
   ]
  },
  {
   "cell_type": "code",
   "execution_count": 17,
   "metadata": {},
   "outputs": [],
   "source": [
    "# Example of a Failing Multi-Way If Statement\n",
    "def BMI3(w, h):\n",
    "    i = (w * 703) / (h**2)\n",
    "    if i > 18.5:\n",
    "        print('Normal')\n",
    "    elif i >= 25.0:\n",
    "        print ('Overweight')\n",
    "    else:\n",
    "        print('Underweight')"
   ]
  },
  {
   "cell_type": "code",
   "execution_count": 18,
   "metadata": {},
   "outputs": [
    {
     "name": "stdout",
     "output_type": "stream",
     "text": [
      "Normal\n"
     ]
    }
   ],
   "source": [
    "BMI3(190, 75)"
   ]
  },
  {
   "cell_type": "code",
   "execution_count": 19,
   "metadata": {},
   "outputs": [
    {
     "name": "stdout",
     "output_type": "stream",
     "text": [
      "Underweight\n"
     ]
    }
   ],
   "source": [
    "BMI3(140, 75)"
   ]
  },
  {
   "cell_type": "code",
   "execution_count": 20,
   "metadata": {},
   "outputs": [
    {
     "name": "stdout",
     "output_type": "stream",
     "text": [
      "Normal\n"
     ]
    }
   ],
   "source": [
    "BMI3(240, 75) # Fails here. Should return \"Overweight\"."
   ]
  },
  {
   "cell_type": "markdown",
   "metadata": {},
   "source": [
    "# (2) Return vs. Print Inside of the If Statement In the For Loop"
   ]
  },
  {
   "cell_type": "code",
   "execution_count": 21,
   "metadata": {},
   "outputs": [],
   "source": [
    "def test(n):\n",
    "    for i in range(n):\n",
    "        if i > 5:\n",
    "            print(i) # print() will print until the end of the range; not once the statement becomes true\n",
    "        else:\n",
    "            print('wrong')"
   ]
  },
  {
   "cell_type": "code",
   "execution_count": 22,
   "metadata": {},
   "outputs": [
    {
     "name": "stdout",
     "output_type": "stream",
     "text": [
      "wrong\n",
      "wrong\n",
      "wrong\n",
      "wrong\n",
      "wrong\n",
      "wrong\n",
      "6\n",
      "7\n",
      "8\n",
      "9\n"
     ]
    }
   ],
   "source": [
    "test(10)"
   ]
  },
  {
   "cell_type": "code",
   "execution_count": 23,
   "metadata": {},
   "outputs": [],
   "source": [
    "def test(n):\n",
    "    for i in range(n):\n",
    "        if i > 5:\n",
    "            return i # return will stop the iteration when the statement becomes true.\n",
    "        else:\n",
    "            print('wrong')"
   ]
  },
  {
   "cell_type": "code",
   "execution_count": 24,
   "metadata": {},
   "outputs": [
    {
     "name": "stdout",
     "output_type": "stream",
     "text": [
      "wrong\n",
      "wrong\n",
      "wrong\n",
      "wrong\n",
      "wrong\n",
      "wrong\n"
     ]
    },
    {
     "data": {
      "text/plain": [
       "6"
      ]
     },
     "execution_count": 24,
     "metadata": {},
     "output_type": "execute_result"
    }
   ],
   "source": [
    "test(10)"
   ]
  },
  {
   "cell_type": "code",
   "execution_count": 25,
   "metadata": {},
   "outputs": [],
   "source": [
    "def test(n):\n",
    "    for i in range(n):\n",
    "        if i > 5:\n",
    "            return i\n",
    "        else:\n",
    "            return 'wrong'"
   ]
  },
  {
   "cell_type": "code",
   "execution_count": 26,
   "metadata": {},
   "outputs": [
    {
     "data": {
      "text/plain": [
       "'wrong'"
      ]
     },
     "execution_count": 26,
     "metadata": {},
     "output_type": "execute_result"
    }
   ],
   "source": [
    "test(10) # Evaluates for when n = 0 value is false. This breaks loop immediately, returning only 'wrong'."
   ]
  },
  {
   "cell_type": "code",
   "execution_count": 27,
   "metadata": {},
   "outputs": [],
   "source": [
    "def test(n):\n",
    "    for i in range(n):\n",
    "        if i > 5:\n",
    "            print(i)\n",
    "        else:\n",
    "            return i"
   ]
  },
  {
   "cell_type": "code",
   "execution_count": 28,
   "metadata": {},
   "outputs": [
    {
     "data": {
      "text/plain": [
       "0"
      ]
     },
     "execution_count": 28,
     "metadata": {},
     "output_type": "execute_result"
    }
   ],
   "source": [
    "test(10) # If is false, so evaluates for else, returning the value 0"
   ]
  },
  {
   "cell_type": "code",
   "execution_count": 29,
   "metadata": {},
   "outputs": [],
   "source": [
    "def test(n):\n",
    "    for i in range(n):\n",
    "        if i > 5:\n",
    "            print(i)\n",
    "        return i"
   ]
  },
  {
   "cell_type": "code",
   "execution_count": 30,
   "metadata": {},
   "outputs": [
    {
     "data": {
      "text/plain": [
       "0"
      ]
     },
     "execution_count": 30,
     "metadata": {},
     "output_type": "execute_result"
    }
   ],
   "source": [
    "test(10)"
   ]
  },
  {
   "cell_type": "code",
   "execution_count": 31,
   "metadata": {},
   "outputs": [],
   "source": [
    "def test(n):\n",
    "    for i in range(n):\n",
    "        if i > 5:\n",
    "            print(i)\n",
    "    return i\n",
    "# Evalautes Inner Loop First. Is True When n = 6, 7, 8, 9\n",
    "# After the Inner Loop Is Complete, the Outer Loop Runs, Which Returns the Last Value of i From the Inner Loop"
   ]
  },
  {
   "cell_type": "code",
   "execution_count": 32,
   "metadata": {},
   "outputs": [
    {
     "name": "stdout",
     "output_type": "stream",
     "text": [
      "6\n",
      "7\n",
      "8\n",
      "9\n"
     ]
    },
    {
     "data": {
      "text/plain": [
       "9"
      ]
     },
     "execution_count": 32,
     "metadata": {},
     "output_type": "execute_result"
    }
   ],
   "source": [
    "test(10)"
   ]
  },
  {
   "cell_type": "markdown",
   "metadata": {},
   "source": [
    "# (3) Loop Pattern: Iteration vs. Counter"
   ]
  },
  {
   "cell_type": "code",
   "execution_count": null,
   "metadata": {},
   "outputs": [],
   "source": [
    "'''\n",
    "Develop function checkSorted() that:\n",
    "\n",
    "(1) Takes a list of comparable items as input; and\n",
    "(2) Returns True if the sequence is increasing and False, otherwise.\n",
    "\n",
    ">>> checkSorted([2, 4, 6, 8, 10])\n",
    "True\n",
    ">>> checkSorted([2, 4, 6, 3, 10])\n",
    "False\n",
    ">>>\n",
    "'''"
   ]
  },
  {
   "cell_type": "code",
   "execution_count": 33,
   "metadata": {},
   "outputs": [],
   "source": [
    "def checkSorted(lst):\n",
    "    for i in range(len(lst) - 1):\n",
    "        if lst[i] >= lst[i + 1]:\n",
    "            return False\n",
    "    return True"
   ]
  },
  {
   "cell_type": "code",
   "execution_count": 34,
   "metadata": {},
   "outputs": [
    {
     "data": {
      "text/plain": [
       "True"
      ]
     },
     "execution_count": 34,
     "metadata": {},
     "output_type": "execute_result"
    }
   ],
   "source": [
    "checkSorted([2, 4, 6, 8, 10])"
   ]
  },
  {
   "cell_type": "code",
   "execution_count": 35,
   "metadata": {},
   "outputs": [
    {
     "data": {
      "text/plain": [
       "False"
      ]
     },
     "execution_count": 35,
     "metadata": {},
     "output_type": "execute_result"
    }
   ],
   "source": [
    "checkSorted([2, 4, 6, 3, 10])"
   ]
  },
  {
   "cell_type": "code",
   "execution_count": null,
   "metadata": {},
   "outputs": [],
   "source": [
    "'''\n",
    "Write function arithmetic() that:\n",
    "\n",
    "(1) Takes as input a list of numbers; and\n",
    "(2) Returns True if the numbers in the list form an arithmetic sequence and False, otherwise.\n",
    "\n",
    ">>> arithmetic([3, 6, 9, 12, 15]) \n",
    "True\n",
    ">>> arithmetic([3, 6, 9, 11, 14]) \n",
    "False\n",
    ">>> arithmetic([3])\n",
    "True\n",
    "'''"
   ]
  },
  {
   "cell_type": "code",
   "execution_count": 36,
   "metadata": {},
   "outputs": [],
   "source": [
    "def arithmetic(lst):\n",
    "    for i in range(len(lst) - 2):\n",
    "        if lst[i + 1] - lst[i] != lst[i + 2] - lst[i + 1]:\n",
    "            return False      \n",
    "    return True"
   ]
  },
  {
   "cell_type": "code",
   "execution_count": 37,
   "metadata": {},
   "outputs": [],
   "source": [
    "def arithmetic(lst):\n",
    "    if len(lst) < 3:\n",
    "        return True\n",
    "    for i in range(len(lst) - 2):\n",
    "        if lst[i + 1] - len(lst[i]):\n",
    "            return False\n",
    "        return True"
   ]
  },
  {
   "cell_type": "code",
   "execution_count": 38,
   "metadata": {},
   "outputs": [],
   "source": [
    "def arithmetic(lst):\n",
    "    if len(lst) < 3:\n",
    "        return True\n",
    "    diff = lst[1] - lst[0]\n",
    "    for i in range(len(lst) - 1):\n",
    "        if lst[i + 1] - lst[i] != diff:\n",
    "            return False\n",
    "    return True"
   ]
  },
  {
   "cell_type": "code",
   "execution_count": 39,
   "metadata": {},
   "outputs": [
    {
     "data": {
      "text/plain": [
       "True"
      ]
     },
     "execution_count": 39,
     "metadata": {},
     "output_type": "execute_result"
    }
   ],
   "source": [
    "arithmetic([3, 6, 9, 12, 15]) "
   ]
  },
  {
   "cell_type": "code",
   "execution_count": 40,
   "metadata": {},
   "outputs": [
    {
     "data": {
      "text/plain": [
       "False"
      ]
     },
     "execution_count": 40,
     "metadata": {},
     "output_type": "execute_result"
    }
   ],
   "source": [
    "arithmetic([3, 6, 9, 11, 14]) "
   ]
  },
  {
   "cell_type": "code",
   "execution_count": 41,
   "metadata": {},
   "outputs": [
    {
     "data": {
      "text/plain": [
       "True"
      ]
     },
     "execution_count": 41,
     "metadata": {},
     "output_type": "execute_result"
    }
   ],
   "source": [
    "arithmetic([3])"
   ]
  },
  {
   "cell_type": "markdown",
   "metadata": {},
   "source": [
    "# (4) Accumulator Loop Pattern"
   ]
  },
  {
   "cell_type": "code",
   "execution_count": null,
   "metadata": {},
   "outputs": [],
   "source": [
    "'''\n",
    "Write function factorial() that:\n",
    "\n",
    "(1) Takes a non-negative integer n as an input; and\n",
    "(2) Returns n.\n",
    "\n",
    "n! = n x (n-1) x (n-2) x ... x 3 x 2 1\n",
    "0! = 1\n",
    "\n",
    ">>> factorial(0)\n",
    "1 \n",
    ">>> factorial(1)\n",
    "1\n",
    ">>> factorial(3)\n",
    "6\n",
    ">>> factorial(6)\n",
    "720\n",
    "'''"
   ]
  },
  {
   "cell_type": "code",
   "execution_count": 42,
   "metadata": {},
   "outputs": [],
   "source": [
    "def factorial(n):\n",
    "    res = 1\n",
    "    for i in range(1, n + 1):\n",
    "        res *= i\n",
    "    return res"
   ]
  },
  {
   "cell_type": "code",
   "execution_count": 43,
   "metadata": {},
   "outputs": [
    {
     "data": {
      "text/plain": [
       "1"
      ]
     },
     "execution_count": 43,
     "metadata": {},
     "output_type": "execute_result"
    }
   ],
   "source": [
    "factorial(0)"
   ]
  },
  {
   "cell_type": "code",
   "execution_count": 44,
   "metadata": {},
   "outputs": [
    {
     "data": {
      "text/plain": [
       "1"
      ]
     },
     "execution_count": 44,
     "metadata": {},
     "output_type": "execute_result"
    }
   ],
   "source": [
    "factorial(1)"
   ]
  },
  {
   "cell_type": "code",
   "execution_count": 45,
   "metadata": {},
   "outputs": [
    {
     "data": {
      "text/plain": [
       "6"
      ]
     },
     "execution_count": 45,
     "metadata": {},
     "output_type": "execute_result"
    }
   ],
   "source": [
    "factorial(3)"
   ]
  },
  {
   "cell_type": "code",
   "execution_count": 46,
   "metadata": {},
   "outputs": [
    {
     "data": {
      "text/plain": [
       "720"
      ]
     },
     "execution_count": 46,
     "metadata": {},
     "output_type": "execute_result"
    }
   ],
   "source": [
    "factorial(6)"
   ]
  },
  {
   "cell_type": "code",
   "execution_count": null,
   "metadata": {},
   "outputs": [],
   "source": [
    "'''\n",
    "Write function acronym() that:\n",
    "\n",
    "(1) Takes a phrase (i.e., a string) as and input; and\n",
    "(2) Returns the acronym for the phrase.\n",
    "\n",
    ">>> acronym('Random access memory')\n",
    "'RAM' \n",
    ">>> acronym(\"GNU's not UNIX\")\n",
    "'GNU'\n",
    "'''"
   ]
  },
  {
   "cell_type": "code",
   "execution_count": 47,
   "metadata": {},
   "outputs": [],
   "source": [
    "def acronym(s):\n",
    "    lst = s.split()\n",
    "    res = ''\n",
    "    for i in lst:\n",
    "        res += i[0].upper()\n",
    "    return res"
   ]
  },
  {
   "cell_type": "code",
   "execution_count": 48,
   "metadata": {},
   "outputs": [
    {
     "data": {
      "text/plain": [
       "'RAM'"
      ]
     },
     "execution_count": 48,
     "metadata": {},
     "output_type": "execute_result"
    }
   ],
   "source": [
    "acronym('Random access memory')"
   ]
  },
  {
   "cell_type": "code",
   "execution_count": 49,
   "metadata": {},
   "outputs": [
    {
     "data": {
      "text/plain": [
       "'GNU'"
      ]
     },
     "execution_count": 49,
     "metadata": {},
     "output_type": "execute_result"
    }
   ],
   "source": [
    "acronym(\"GNU's not UNIX\")"
   ]
  },
  {
   "cell_type": "code",
   "execution_count": null,
   "metadata": {},
   "outputs": [],
   "source": [
    "'''\n",
    "Write function divisors() that:\n",
    "\n",
    "(1) Takes a positive integer n as input; and\n",
    "(2) Returns the list of positive divisors of n.\n",
    "\n",
    ">>> divisors(1)\n",
    "[1]\n",
    ">>> divisors(6)\n",
    "[1, 2, 3, 6]\n",
    ">>> divisors(11)\n",
    "[1, 11]\n",
    "'''"
   ]
  },
  {
   "cell_type": "code",
   "execution_count": 50,
   "metadata": {},
   "outputs": [],
   "source": [
    "def divisors(n):\n",
    "    lst = []\n",
    "    for i in range(1, n + 1):\n",
    "        if n % i == 0:\n",
    "            lst.append(i)\n",
    "    return lst"
   ]
  },
  {
   "cell_type": "code",
   "execution_count": 51,
   "metadata": {},
   "outputs": [
    {
     "data": {
      "text/plain": [
       "[1]"
      ]
     },
     "execution_count": 51,
     "metadata": {},
     "output_type": "execute_result"
    }
   ],
   "source": [
    "divisors(1)"
   ]
  },
  {
   "cell_type": "code",
   "execution_count": 52,
   "metadata": {},
   "outputs": [
    {
     "data": {
      "text/plain": [
       "[1, 2, 3, 6]"
      ]
     },
     "execution_count": 52,
     "metadata": {},
     "output_type": "execute_result"
    }
   ],
   "source": [
    "divisors(6)"
   ]
  },
  {
   "cell_type": "code",
   "execution_count": 53,
   "metadata": {},
   "outputs": [
    {
     "data": {
      "text/plain": [
       "[1, 11]"
      ]
     },
     "execution_count": 53,
     "metadata": {},
     "output_type": "execute_result"
    }
   ],
   "source": [
    "divisors(11)"
   ]
  },
  {
   "cell_type": "markdown",
   "metadata": {},
   "source": [
    "# (5) Nested For Loop"
   ]
  },
  {
   "cell_type": "code",
   "execution_count": null,
   "metadata": {},
   "outputs": [],
   "source": [
    "'''\n",
    "Write function inBoth() that takes:\n",
    "\n",
    "(1) 2 lists as input; and\n",
    "(2) Returns True if there is an item that is common to both lists and False, otherwise.\n",
    "\n",
    ">>> inBoth([3, 2, 5, 4, 7], [9, 0, 1, 3])\n",
    "True\n",
    ">>> inBoth([2, 5, 4, 7], [9, 0, 1, 3])\n",
    "False\n",
    "'''"
   ]
  },
  {
   "cell_type": "code",
   "execution_count": 54,
   "metadata": {},
   "outputs": [],
   "source": [
    "def inBoth(lst_1, lst_2):\n",
    "    for i in lst_1:\n",
    "        for j in lst_2:\n",
    "            if i == j:\n",
    "                return True\n",
    "    return False"
   ]
  },
  {
   "cell_type": "code",
   "execution_count": 55,
   "metadata": {},
   "outputs": [
    {
     "data": {
      "text/plain": [
       "True"
      ]
     },
     "execution_count": 55,
     "metadata": {},
     "output_type": "execute_result"
    }
   ],
   "source": [
    "inBoth([3, 2, 5, 4, 7], [9, 0, 1, 3])"
   ]
  },
  {
   "cell_type": "code",
   "execution_count": 56,
   "metadata": {},
   "outputs": [
    {
     "data": {
      "text/plain": [
       "False"
      ]
     },
     "execution_count": 56,
     "metadata": {},
     "output_type": "execute_result"
    }
   ],
   "source": [
    "inBoth([2, 5, 4, 7], [9, 0, 1, 3])"
   ]
  },
  {
   "cell_type": "code",
   "execution_count": null,
   "metadata": {},
   "outputs": [],
   "source": [
    "'''\n",
    "Write function pairSum() that takes as input:\n",
    "\n",
    "(1) A list of numbers;\n",
    "(2) A target value; and\n",
    "(3) Prints the indexes of all pairs of values in the list that add up to the target value.\n",
    "\n",
    ">>> pairSum([7, 8, 5, 3, 4, 6], 11)\n",
    "0 4\n",
    "1 3\n",
    "2 5\n",
    "3 1\n",
    "4 0\n",
    "5 2\n",
    "'''"
   ]
  },
  {
   "cell_type": "code",
   "execution_count": 57,
   "metadata": {
    "scrolled": true
   },
   "outputs": [],
   "source": [
    "def pairSum(lst, t):\n",
    "    for i in lst:\n",
    "        for j in lst:\n",
    "            if i + j == t:\n",
    "                print(lst.index(i), lst.index(j))"
   ]
  },
  {
   "cell_type": "code",
   "execution_count": 58,
   "metadata": {},
   "outputs": [
    {
     "name": "stdout",
     "output_type": "stream",
     "text": [
      "0 4\n",
      "1 3\n",
      "2 5\n",
      "3 1\n",
      "4 0\n",
      "5 2\n"
     ]
    }
   ],
   "source": [
    "pairSum([7, 8, 5, 3, 4, 6], 11)"
   ]
  },
  {
   "cell_type": "code",
   "execution_count": null,
   "metadata": {},
   "outputs": [],
   "source": [
    "'''\n",
    "Implement function pixels() that takes as input:\n",
    "\n",
    "(1) A two-dimensional list of nonnegative integer entries (representing the values of pixels of an image); and\n",
    "(2) Returns the number of entries that are positive (i.e., the number of pixels that are not dark). \n",
    "The function should work on two-dimensional lists of any size.\n",
    "\n",
    ">>> lst = [[0, 156, 0, 0], [34, 0, 0, 0], [23, 123, 0, 34]] \n",
    ">>> pixels(lst)\n",
    "5\n",
    ">>> lst = [[123, 56, 255], [34, 0, 0], [23, 123, 0], [3, 0, 0]]\n",
    ">>> pixels(lst)\n",
    "7\n",
    "'''"
   ]
  },
  {
   "cell_type": "code",
   "execution_count": 59,
   "metadata": {},
   "outputs": [],
   "source": [
    "def pixels(lst):\n",
    "    res = 0\n",
    "    for col in lst:\n",
    "        for i in col:\n",
    "            if i > 0:\n",
    "                res += 1\n",
    "    return res"
   ]
  },
  {
   "cell_type": "code",
   "execution_count": 60,
   "metadata": {},
   "outputs": [
    {
     "data": {
      "text/plain": [
       "5"
      ]
     },
     "execution_count": 60,
     "metadata": {},
     "output_type": "execute_result"
    }
   ],
   "source": [
    "lst = [[0, 156, 0, 0], [34, 0, 0, 0], [23, 123, 0, 34]]\n",
    "pixels(lst)"
   ]
  },
  {
   "cell_type": "code",
   "execution_count": 61,
   "metadata": {},
   "outputs": [
    {
     "data": {
      "text/plain": [
       "7"
      ]
     },
     "execution_count": 61,
     "metadata": {},
     "output_type": "execute_result"
    }
   ],
   "source": [
    "lst = [[123, 56, 255], [34, 0, 0], [23, 123, 0], [3, 0, 0]]\n",
    "pixels(lst)"
   ]
  },
  {
   "cell_type": "markdown",
   "metadata": {},
   "source": [
    "# (6) While Loop"
   ]
  },
  {
   "cell_type": "code",
   "execution_count": null,
   "metadata": {},
   "outputs": [],
   "source": [
    "'''\n",
    "Write a function fibonnaci() that:\n",
    "\n",
    "(1) Takes as input a bound; and\n",
    "(2) Returns the first Fibnonaci number greater than the bound.\n",
    "\n",
    "Fibonnaci sequence\n",
    "1, 1, 2, 3, 5, 8, 13, ...\n",
    "'''"
   ]
  },
  {
   "cell_type": "code",
   "execution_count": 62,
   "metadata": {},
   "outputs": [],
   "source": [
    "def fibonnaci(n):\n",
    "    a = 1\n",
    "    b = 1\n",
    "    c = a + b\n",
    "    while c <= n:\n",
    "        a = b\n",
    "        b = c\n",
    "        c = a + b\n",
    "    return c"
   ]
  },
  {
   "cell_type": "code",
   "execution_count": 63,
   "metadata": {},
   "outputs": [
    {
     "data": {
      "text/plain": [
       "13"
      ]
     },
     "execution_count": 63,
     "metadata": {},
     "output_type": "execute_result"
    }
   ],
   "source": [
    "fibonnaci(10)"
   ]
  },
  {
   "cell_type": "markdown",
   "metadata": {},
   "source": [
    "# (7) Infinite Loop Pattern"
   ]
  },
  {
   "cell_type": "code",
   "execution_count": null,
   "metadata": {},
   "outputs": [],
   "source": [
    "'''\n",
    "Write a function hello2() that:\n",
    "\n",
    "(1) Repeatedly requests the name of the user; and\n",
    "(2) Then greets the user.\n",
    "'''"
   ]
  },
  {
   "cell_type": "code",
   "execution_count": 64,
   "metadata": {},
   "outputs": [],
   "source": [
    "def hello2():\n",
    "    while True:\n",
    "        name = input('Your name please:')\n",
    "        print('Hello, {}'.format(name))"
   ]
  },
  {
   "cell_type": "code",
   "execution_count": null,
   "metadata": {},
   "outputs": [],
   "source": [
    "hello2()"
   ]
  },
  {
   "cell_type": "markdown",
   "metadata": {},
   "source": [
    "# (8) Break and Continue Statements"
   ]
  },
  {
   "cell_type": "code",
   "execution_count": 68,
   "metadata": {},
   "outputs": [],
   "source": [
    "table = [[2, 3, 0, 6],\n",
    "         [0, 3, 4, 5],\n",
    "         [4, 5, 6, 0]]"
   ]
  },
  {
   "cell_type": "code",
   "execution_count": null,
   "metadata": {},
   "outputs": [],
   "source": [
    "'''\n",
    "Write function before0() that:\n",
    "\n",
    "(1) Takes a 2-D list of numbers as and input; and\n",
    "(2) Prints a 2-D table of numbers of the 2-D list. If there is 0 in the list, numbers after 0 will not be printed.\n",
    "'''"
   ]
  },
  {
   "cell_type": "code",
   "execution_count": 69,
   "metadata": {},
   "outputs": [],
   "source": [
    "def before0(lst):\n",
    "    for c in lst:\n",
    "        for n in c:\n",
    "            if n == 0:\n",
    "                break\n",
    "            print(n, end = ' ')\n",
    "        print()"
   ]
  },
  {
   "cell_type": "code",
   "execution_count": 70,
   "metadata": {},
   "outputs": [
    {
     "name": "stdout",
     "output_type": "stream",
     "text": [
      "2 3 \n",
      "\n",
      "4 5 6 \n"
     ]
    }
   ],
   "source": [
    "before0(table)"
   ]
  },
  {
   "cell_type": "code",
   "execution_count": null,
   "metadata": {},
   "outputs": [],
   "source": [
    "'''\n",
    "Write function ignore0() that:\n",
    "\n",
    "(1) Takes a 2-D list of numbers as an input; and\n",
    "(2) Prints 2-D table of numbers in the 2-D list. If there is 0 in the list, it will not be printed.\n",
    "'''"
   ]
  },
  {
   "cell_type": "code",
   "execution_count": 71,
   "metadata": {},
   "outputs": [],
   "source": [
    "def ignore0(lst):\n",
    "    for c in lst:\n",
    "        for n in c:\n",
    "            if n == 0:\n",
    "                continue\n",
    "            print(n, end = ' ')\n",
    "        print()"
   ]
  },
  {
   "cell_type": "code",
   "execution_count": 72,
   "metadata": {},
   "outputs": [],
   "source": [
    "def ignore0(lst):\n",
    "    for c in lst:\n",
    "        for n in c:\n",
    "            if n != 0:\n",
    "                print(n, end = ' ')\n",
    "        print()"
   ]
  },
  {
   "cell_type": "code",
   "execution_count": 73,
   "metadata": {},
   "outputs": [
    {
     "name": "stdout",
     "output_type": "stream",
     "text": [
      "2 3 6 \n",
      "3 4 5 \n",
      "4 5 6 \n"
     ]
    }
   ],
   "source": [
    "ignore0(table)"
   ]
  },
  {
   "cell_type": "code",
   "execution_count": null,
   "metadata": {},
   "outputs": [],
   "source": [
    "'''\n",
    "Write function is_prime() that:\n",
    "\n",
    "(1) Takes a positive integer n as input; and\n",
    "(2) Returns True if n is a prime number and returns False, otherwise.\n",
    "\n",
    ">>> is_prime(2)\n",
    "True\n",
    ">>> is_prime(6)\n",
    "False\n",
    ">>> is_prime(11)\n",
    "True\n",
    "'''"
   ]
  },
  {
   "cell_type": "code",
   "execution_count": 74,
   "metadata": {},
   "outputs": [],
   "source": [
    "def is_prime(n):\n",
    "    if n < 2:\n",
    "        return False\n",
    "    for i in range(2, n):\n",
    "        if n % i == 0:\n",
    "            return False\n",
    "    return True"
   ]
  },
  {
   "cell_type": "code",
   "execution_count": 75,
   "metadata": {},
   "outputs": [
    {
     "data": {
      "text/plain": [
       "True"
      ]
     },
     "execution_count": 75,
     "metadata": {},
     "output_type": "execute_result"
    }
   ],
   "source": [
    "is_prime(2)"
   ]
  },
  {
   "cell_type": "code",
   "execution_count": 76,
   "metadata": {},
   "outputs": [
    {
     "data": {
      "text/plain": [
       "False"
      ]
     },
     "execution_count": 76,
     "metadata": {},
     "output_type": "execute_result"
    }
   ],
   "source": [
    "is_prime(6)"
   ]
  },
  {
   "cell_type": "code",
   "execution_count": 77,
   "metadata": {},
   "outputs": [
    {
     "data": {
      "text/plain": [
       "True"
      ]
     },
     "execution_count": 77,
     "metadata": {},
     "output_type": "execute_result"
    }
   ],
   "source": [
    "is_prime(11)"
   ]
  },
  {
   "cell_type": "code",
   "execution_count": null,
   "metadata": {},
   "outputs": [],
   "source": [
    "'''\n",
    "Write function find_largest_prime() that:\n",
    "\n",
    "(1) Takes a positive integer n as an input; and\n",
    "(2) Returns the largest prime number that is smaller than n.\n",
    "'''"
   ]
  },
  {
   "cell_type": "code",
   "execution_count": 78,
   "metadata": {},
   "outputs": [],
   "source": [
    "def find_largest_prime(n):\n",
    "    res = 2\n",
    "    for i in range (2, n):\n",
    "        if is_prime(i) == True:\n",
    "            res = i\n",
    "    return res   "
   ]
  },
  {
   "cell_type": "code",
   "execution_count": 79,
   "metadata": {},
   "outputs": [
    {
     "data": {
      "text/plain": [
       "97"
      ]
     },
     "execution_count": 79,
     "metadata": {},
     "output_type": "execute_result"
    }
   ],
   "source": [
    "find_largest_prime(100)"
   ]
  },
  {
   "cell_type": "code",
   "execution_count": 80,
   "metadata": {},
   "outputs": [
    {
     "data": {
      "text/plain": [
       "99991"
      ]
     },
     "execution_count": 80,
     "metadata": {},
     "output_type": "execute_result"
    }
   ],
   "source": [
    "find_largest_prime(100000)"
   ]
  },
  {
   "cell_type": "code",
   "execution_count": 81,
   "metadata": {},
   "outputs": [],
   "source": [
    "def find_largest_prime_2(n):\n",
    "    \n",
    "    def is_prime(n):\n",
    "        if n < 2:\n",
    "            return False\n",
    "        for i in range(2, n):\n",
    "            if n % i == 0:\n",
    "                return False\n",
    "        return True\n",
    "    \n",
    "    for i in range(n - 1, 1, -1):\n",
    "        if is_prime(i) == True:\n",
    "            return i"
   ]
  },
  {
   "cell_type": "code",
   "execution_count": 82,
   "metadata": {},
   "outputs": [
    {
     "data": {
      "text/plain": [
       "9999991"
      ]
     },
     "execution_count": 82,
     "metadata": {},
     "output_type": "execute_result"
    }
   ],
   "source": [
    "find_largest_prime_2(10000000)"
   ]
  }
 ],
 "metadata": {
  "anaconda-cloud": {},
  "kernelspec": {
   "display_name": "Python 3",
   "language": "python",
   "name": "python3"
  },
  "language_info": {
   "codemirror_mode": {
    "name": "ipython",
    "version": 3
   },
   "file_extension": ".py",
   "mimetype": "text/x-python",
   "name": "python",
   "nbconvert_exporter": "python",
   "pygments_lexer": "ipython3",
   "version": "3.8.8"
  }
 },
 "nbformat": 4,
 "nbformat_minor": 4
}
