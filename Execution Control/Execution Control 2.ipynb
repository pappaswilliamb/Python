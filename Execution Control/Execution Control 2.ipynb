{
 "cells": [
  {
   "cell_type": "markdown",
   "metadata": {},
   "source": [
    "# (1) Counter Loop Pattern"
   ]
  },
  {
   "cell_type": "code",
   "execution_count": null,
   "metadata": {},
   "outputs": [],
   "source": [
    "'''\n",
    "Q1: Write a function checkSorted() that:\n",
    "\n",
    "(1) Takes a list of comparable items as input; and\n",
    "(2) Returns True if the sequence is decreasing and False, otherwise.\n",
    "\n",
    ">>> checkSorted([10, 8, 4, 2, 1]) \n",
    "True\n",
    "  \n",
    ">>> checkSorted([10, 8, 2, 4, 1]) \n",
    "False\n",
    "'''"
   ]
  },
  {
   "cell_type": "code",
   "execution_count": 1,
   "metadata": {},
   "outputs": [],
   "source": [
    "def checkSorted(lst):\n",
    "    for i in range(len(lst) - 1):\n",
    "        if lst[i] > lst[i + 1]:\n",
    "            return False\n",
    "        return True"
   ]
  },
  {
   "cell_type": "code",
   "execution_count": 2,
   "metadata": {},
   "outputs": [],
   "source": [
    "def checkSorted(lst):\n",
    "    for i in range(len(lst) - 1):\n",
    "        if lst[i] > lst[i + 1]:\n",
    "            return False\n",
    "    return True"
   ]
  },
  {
   "cell_type": "code",
   "execution_count": 3,
   "metadata": {},
   "outputs": [
    {
     "data": {
      "text/plain": [
       "False"
      ]
     },
     "execution_count": 3,
     "metadata": {},
     "output_type": "execute_result"
    }
   ],
   "source": [
    "checkSorted([10, 8, 4, 2, 1]) "
   ]
  },
  {
   "cell_type": "code",
   "execution_count": 4,
   "metadata": {},
   "outputs": [
    {
     "data": {
      "text/plain": [
       "False"
      ]
     },
     "execution_count": 4,
     "metadata": {},
     "output_type": "execute_result"
    }
   ],
   "source": [
    "checkSorted([10, 8, 2, 4, 1]) "
   ]
  },
  {
   "cell_type": "markdown",
   "metadata": {},
   "source": [
    "# (2) Accumulator Loop Pattern"
   ]
  },
  {
   "cell_type": "code",
   "execution_count": null,
   "metadata": {},
   "outputs": [],
   "source": [
    "'''\n",
    "Q2: Write a function sum() that:\n",
    "\n",
    "(1) Takes a starting number and a ending number as two inputs; and\n",
    "(2) Returns a sum of numbers between the starting and ending numbers.\n",
    "\n",
    ">>> sum(1, 10)\n",
    "55\n",
    "\n",
    ">>> sum(1, 100)\n",
    "5050\n",
    "'''"
   ]
  },
  {
   "cell_type": "code",
   "execution_count": 5,
   "metadata": {},
   "outputs": [],
   "source": [
    "def sum(x, y):\n",
    "    res = 0\n",
    "    for i in range(x, y + 1):\n",
    "        res += i\n",
    "    return res"
   ]
  },
  {
   "cell_type": "code",
   "execution_count": 6,
   "metadata": {},
   "outputs": [
    {
     "data": {
      "text/plain": [
       "55"
      ]
     },
     "execution_count": 6,
     "metadata": {},
     "output_type": "execute_result"
    }
   ],
   "source": [
    "sum(1, 10)"
   ]
  },
  {
   "cell_type": "code",
   "execution_count": 7,
   "metadata": {},
   "outputs": [
    {
     "data": {
      "text/plain": [
       "5050"
      ]
     },
     "execution_count": 7,
     "metadata": {},
     "output_type": "execute_result"
    }
   ],
   "source": [
    "sum(1, 100)"
   ]
  },
  {
   "cell_type": "markdown",
   "metadata": {},
   "source": [
    "# (3) Nested For Loop"
   ]
  },
  {
   "cell_type": "code",
   "execution_count": null,
   "metadata": {},
   "outputs": [],
   "source": [
    "'''\n",
    "Q3: Write a function inAmongst() that takes:\n",
    "\n",
    "(1) Three lists of numbers as inputs; and\n",
    "(2) Returns True if there is an item that is common to three lists and False, otherwise.\n",
    "\n",
    ">>> inAmongst([3, 2, 5, 4, 7], [9, 0, 1, 3],[3, 5, 4, 7])\n",
    "True\n",
    ">>> inAmongst([2, 5, 4, 7], [9, 0, 1, 3], [6, 8, 10, 11])\n",
    "False\n",
    "'''"
   ]
  },
  {
   "cell_type": "code",
   "execution_count": 8,
   "metadata": {},
   "outputs": [],
   "source": [
    "def inAmongst(lst_1, lst_2, lst_3):\n",
    "    for i in lst_1:\n",
    "        for j in lst_2:\n",
    "            for k in lst_3:\n",
    "                if i == j == k:\n",
    "                    return True\n",
    "        return False"
   ]
  },
  {
   "cell_type": "code",
   "execution_count": 9,
   "metadata": {},
   "outputs": [
    {
     "data": {
      "text/plain": [
       "True"
      ]
     },
     "execution_count": 9,
     "metadata": {},
     "output_type": "execute_result"
    }
   ],
   "source": [
    "inAmongst([3, 2, 5, 4, 7], [9, 0, 1, 3], [3, 5, 4, 7])"
   ]
  },
  {
   "cell_type": "code",
   "execution_count": 10,
   "metadata": {},
   "outputs": [
    {
     "data": {
      "text/plain": [
       "False"
      ]
     },
     "execution_count": 10,
     "metadata": {},
     "output_type": "execute_result"
    }
   ],
   "source": [
    "inAmongst([2, 5, 4, 7], [9, 0, 1, 3], [6, 8, 10, 11])"
   ]
  },
  {
   "cell_type": "code",
   "execution_count": null,
   "metadata": {},
   "outputs": [],
   "source": [
    "'''\n",
    "Q4: Write a function pairSum() that takes:\n",
    "\n",
    "(1) Two lists of numbers;\n",
    "(2) A target value as inputs; and\n",
    "(3) Prints the indexes of all pairs of values in the first and second lists that add up to the target value.\n",
    "\n",
    ">>> pairSum([2, 5, 4, 7], [9, 0, 6, 7], 11)\n",
    "0 0\n",
    "1 2\n",
    "2 3\n",
    "'''"
   ]
  },
  {
   "cell_type": "code",
   "execution_count": 11,
   "metadata": {},
   "outputs": [],
   "source": [
    "def pairSum(lst_1, lst_2, target):\n",
    "    for i in lst_1:\n",
    "        for j in lst_2:\n",
    "            if i + j == target:\n",
    "                print(lst_1.index(i), lst_2.index(j))"
   ]
  },
  {
   "cell_type": "code",
   "execution_count": 12,
   "metadata": {},
   "outputs": [
    {
     "name": "stdout",
     "output_type": "stream",
     "text": [
      "0 0\n",
      "1 2\n",
      "2 3\n"
     ]
    }
   ],
   "source": [
    "pairSum([2, 5, 4, 7], [9, 0, 6, 7], 11)"
   ]
  },
  {
   "cell_type": "code",
   "execution_count": null,
   "metadata": {},
   "outputs": [],
   "source": [
    "'''\n",
    "Q5: Write a fuction square_graph() that takes:\n",
    "\n",
    "(1) An integer number that represents a number of rows; and\n",
    "(2) Prints a sequence of numbers on each row, which ranges from zero to the square of row line.\n",
    "    \n",
    ">>> squre_graph(5)\n",
    "0 1\n",
    "0 1 2 3 4\n",
    "0 1 2 3 4 5 6 7 8 9\n",
    "0 1 2 3 4 5 6 7 8 9 10 11 12 13 14 15 16\n",
    "0 1 2 3 4 5 6 7 8 9 10 11 12 13 14 15 16 17 18 19 20 21 22 23 24 25\n",
    "'''"
   ]
  },
  {
   "cell_type": "code",
   "execution_count": 13,
   "metadata": {},
   "outputs": [],
   "source": [
    "def square_graph(n):\n",
    "    for i in range(n):\n",
    "        for j in range(((i + 1)**2) + 1):\n",
    "            print(j, end = ' ')\n",
    "        print()"
   ]
  },
  {
   "cell_type": "code",
   "execution_count": 14,
   "metadata": {},
   "outputs": [
    {
     "name": "stdout",
     "output_type": "stream",
     "text": [
      "0 1 \n",
      "0 1 2 3 4 \n",
      "0 1 2 3 4 5 6 7 8 9 \n",
      "0 1 2 3 4 5 6 7 8 9 10 11 12 13 14 15 16 \n",
      "0 1 2 3 4 5 6 7 8 9 10 11 12 13 14 15 16 17 18 19 20 21 22 23 24 25 \n"
     ]
    }
   ],
   "source": [
    "square_graph(5)"
   ]
  },
  {
   "cell_type": "markdown",
   "metadata": {},
   "source": [
    "# (4) While Loop"
   ]
  },
  {
   "cell_type": "code",
   "execution_count": null,
   "metadata": {},
   "outputs": [],
   "source": [
    "'''\n",
    "Q6: Write a function n_halved() that takes:\n",
    "\n",
    "(1) A positive integer n as an input; and\n",
    "(2) Returns answers of the following question: \n",
    "    How many times can the number n be halved (using integer division) before reaching 1?\n",
    "    \n",
    ">>> n_halved(4)\n",
    "2\n",
    ">>> n_halved(11)\n",
    "3\n",
    ">>> n_halved(25)\n",
    "4\n",
    "'''"
   ]
  },
  {
   "cell_type": "code",
   "execution_count": 15,
   "metadata": {},
   "outputs": [],
   "source": [
    "def n_halved(n):\n",
    "    count = 0\n",
    "    while n > 1:\n",
    "        count += 1\n",
    "        n //= 2\n",
    "    return count"
   ]
  },
  {
   "cell_type": "code",
   "execution_count": 16,
   "metadata": {},
   "outputs": [
    {
     "data": {
      "text/plain": [
       "2"
      ]
     },
     "execution_count": 16,
     "metadata": {},
     "output_type": "execute_result"
    }
   ],
   "source": [
    "n_halved(4)"
   ]
  },
  {
   "cell_type": "code",
   "execution_count": 17,
   "metadata": {},
   "outputs": [
    {
     "data": {
      "text/plain": [
       "3"
      ]
     },
     "execution_count": 17,
     "metadata": {},
     "output_type": "execute_result"
    }
   ],
   "source": [
    "n_halved(11)"
   ]
  },
  {
   "cell_type": "code",
   "execution_count": 18,
   "metadata": {},
   "outputs": [
    {
     "data": {
      "text/plain": [
       "4"
      ]
     },
     "execution_count": 18,
     "metadata": {},
     "output_type": "execute_result"
    }
   ],
   "source": [
    "n_halved(25)"
   ]
  },
  {
   "cell_type": "code",
   "execution_count": null,
   "metadata": {},
   "outputs": [],
   "source": [
    "'''\n",
    "Q7. Write a function fibonnaci() that takes:\n",
    "\n",
    "(1) A bound as an input; and\n",
    "(2) Returns the Fibnonaci sequence that its biggest Fibonaci number is smaller than the bound.\n",
    "\n",
    ">>> fibonnaci(12)\n",
    "1 1 2 3 5 8\n",
    "\n",
    ">>> fibonnaci(25)\n",
    "1 1 2 3 5 8 13 21\n",
    "'''"
   ]
  },
  {
   "cell_type": "code",
   "execution_count": 23,
   "metadata": {},
   "outputs": [],
   "source": [
    "def fibonnaci(n):\n",
    "    lst = [1, 1]\n",
    "    a = 1\n",
    "    b = 1\n",
    "    c = a + b\n",
    "    while c <= n:\n",
    "        a = b\n",
    "        b = c\n",
    "        c = a + b\n",
    "        lst.append(b)\n",
    "    print(* lst, sep = ' ')"
   ]
  },
  {
   "cell_type": "code",
   "execution_count": 24,
   "metadata": {},
   "outputs": [
    {
     "name": "stdout",
     "output_type": "stream",
     "text": [
      "1 1 2 3 5 8\n"
     ]
    }
   ],
   "source": [
    "fibonnaci(12)"
   ]
  },
  {
   "cell_type": "code",
   "execution_count": 25,
   "metadata": {},
   "outputs": [
    {
     "name": "stdout",
     "output_type": "stream",
     "text": [
      "1 1 2 3 5 8 13 21\n"
     ]
    }
   ],
   "source": [
    "fibonnaci(25)"
   ]
  },
  {
   "cell_type": "markdown",
   "metadata": {},
   "source": [
    "# (5) Break and Continue Statements"
   ]
  },
  {
   "cell_type": "code",
   "execution_count": null,
   "metadata": {},
   "outputs": [],
   "source": [
    "'''\n",
    "Q8: Write a function r_pixels() that takes:\n",
    "\n",
    "(1) A two-dimensional list of nonnegative integer entries (representing the values of pixels of an image); and\n",
    "(2) Prints a two-dimensional list of numbers. But, if there is 0 in the list, numbers after 0 will not be printed.\n",
    "    \n",
    ">>> r_pixels([[1, 0, 5, 7, 10], [2, 3, 5, 7], [11, 3, 0, 7]])\n",
    "1,\n",
    "2, 3, 5, 7,\n",
    "11, 3,\n",
    "'''"
   ]
  },
  {
   "cell_type": "code",
   "execution_count": 26,
   "metadata": {},
   "outputs": [],
   "source": [
    "def r_pixels(lst):\n",
    "    for n in lst:\n",
    "        for i in n:\n",
    "            if i == 0:\n",
    "                break\n",
    "            print(i, end = ', ')\n",
    "        print()"
   ]
  },
  {
   "cell_type": "code",
   "execution_count": 27,
   "metadata": {},
   "outputs": [
    {
     "name": "stdout",
     "output_type": "stream",
     "text": [
      "1, \n",
      "2, 3, 5, 7, \n",
      "11, 3, \n"
     ]
    }
   ],
   "source": [
    "r_pixels([[1, 0, 5, 7, 10], [2, 3, 5, 7], [11, 3, 0, 7]])"
   ]
  },
  {
   "cell_type": "markdown",
   "metadata": {},
   "source": [
    "# (6) Others"
   ]
  },
  {
   "cell_type": "code",
   "execution_count": null,
   "metadata": {},
   "outputs": [],
   "source": [
    "'''\n",
    "Q9: Write a function evensum() that takes:\n",
    "\n",
    "(1) A two-dimensional list of integers; and\n",
    "(2) Returns True if every row of the table sums up to an even number \n",
    "    and False, otherwise (i.e., if any row sums up to an odd number).\n",
    "\n",
    ">>> evensum([[2, 4], [3, 5, 2], [2, 9, 1]])\n",
    "True\n",
    ">>> evensum([[1, 5, 4], [3, 5, 1], [2, 9, 1]])\n",
    "False\n",
    "'''"
   ]
  },
  {
   "cell_type": "code",
   "execution_count": 30,
   "metadata": {},
   "outputs": [],
   "source": [
    "def evensum(lst):\n",
    "    for i in lst:\n",
    "        if sum(i) % 2 != 0:\n",
    "            return False\n",
    "    return True"
   ]
  },
  {
   "cell_type": "code",
   "execution_count": 33,
   "metadata": {},
   "outputs": [
    {
     "name": "stdout",
     "output_type": "stream",
     "text": [
      "True\n"
     ]
    }
   ],
   "source": [
    "evensum([[2, 4], [3, 5, 2], [2, 9, 1]])"
   ]
  },
  {
   "cell_type": "code",
   "execution_count": 34,
   "metadata": {},
   "outputs": [
    {
     "name": "stdout",
     "output_type": "stream",
     "text": [
      "False\n"
     ]
    }
   ],
   "source": [
    "evensum([[1, 5, 4], [3, 5, 1], [2, 9, 1]])"
   ]
  },
  {
   "cell_type": "code",
   "execution_count": null,
   "metadata": {},
   "outputs": [],
   "source": [
    "'''\n",
    "Q10: Write function lst_prime() that:\n",
    "\n",
    "(1) Takes a bound as an input, which is positive integer; and\n",
    "(2) Returns a list of prime numbers smaller than or equal to the bound.\n",
    "\n",
    ">>> lst_prime(0)\n",
    "[]\n",
    ">>> lst_prime(6)\n",
    "[2, 3, 5]\n",
    ">>> lst_prime(11)\n",
    "[2, 3, 5, 7, 11]\n",
    "'''"
   ]
  },
  {
   "cell_type": "code",
   "execution_count": 35,
   "metadata": {},
   "outputs": [],
   "source": [
    "def lst_prime(n):\n",
    "    \n",
    "    def is_prime(n):\n",
    "        if n < 2:\n",
    "            return False\n",
    "        for i in range(2, n):\n",
    "            if n % i == 0:\n",
    "                return False\n",
    "        return True\n",
    "    \n",
    "    lst = []\n",
    "    if n < 2:\n",
    "        return lst\n",
    "    lst.append(2)\n",
    "    for n in range(3, n + 1):\n",
    "        if is_prime(n):\n",
    "            lst.append(n)\n",
    "    return lst"
   ]
  },
  {
   "cell_type": "code",
   "execution_count": 36,
   "metadata": {},
   "outputs": [
    {
     "data": {
      "text/plain": [
       "[]"
      ]
     },
     "execution_count": 36,
     "metadata": {},
     "output_type": "execute_result"
    }
   ],
   "source": [
    "lst_prime(0)"
   ]
  },
  {
   "cell_type": "code",
   "execution_count": 37,
   "metadata": {},
   "outputs": [
    {
     "data": {
      "text/plain": [
       "[2, 3, 5]"
      ]
     },
     "execution_count": 37,
     "metadata": {},
     "output_type": "execute_result"
    }
   ],
   "source": [
    "lst_prime(6)"
   ]
  },
  {
   "cell_type": "code",
   "execution_count": 38,
   "metadata": {},
   "outputs": [
    {
     "data": {
      "text/plain": [
       "[2, 3, 5, 7, 11]"
      ]
     },
     "execution_count": 38,
     "metadata": {},
     "output_type": "execute_result"
    }
   ],
   "source": [
    "lst_prime(11)"
   ]
  }
 ],
 "metadata": {
  "anaconda-cloud": {},
  "kernelspec": {
   "display_name": "Python 3",
   "language": "python",
   "name": "python3"
  },
  "language_info": {
   "codemirror_mode": {
    "name": "ipython",
    "version": 3
   },
   "file_extension": ".py",
   "mimetype": "text/x-python",
   "name": "python",
   "nbconvert_exporter": "python",
   "pygments_lexer": "ipython3",
   "version": "3.8.8"
  }
 },
 "nbformat": 4,
 "nbformat_minor": 4
}
